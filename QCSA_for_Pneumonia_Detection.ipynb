{
  "nbformat": 4,
  "nbformat_minor": 0,
  "metadata": {
    "colab": {
      "provenance": []
    },
    "kernelspec": {
      "name": "python3",
      "display_name": "Python 3"
    },
    "accelerator": "GPU",
    "gpuClass": "standard"
  },
  "cells": [
    {
      "cell_type": "code",
      "metadata": {
        "id": "bm3z_Bcgq8J3",
        "colab": {
          "base_uri": "https://localhost:8080/"
        },
        "outputId": "9796bb5c-1ce3-45a1-c778-2fa4bf153cbf"
      },
      "source": [
        "!pip install kaggle"
      ],
      "execution_count": null,
      "outputs": [
        {
          "output_type": "stream",
          "name": "stdout",
          "text": [
            "Looking in indexes: https://pypi.org/simple, https://us-python.pkg.dev/colab-wheels/public/simple/\n",
            "Requirement already satisfied: kaggle in /usr/local/lib/python3.7/dist-packages (1.5.12)\n",
            "Requirement already satisfied: python-dateutil in /usr/local/lib/python3.7/dist-packages (from kaggle) (2.8.2)\n",
            "Requirement already satisfied: six>=1.10 in /usr/local/lib/python3.7/dist-packages (from kaggle) (1.15.0)\n",
            "Requirement already satisfied: certifi in /usr/local/lib/python3.7/dist-packages (from kaggle) (2022.6.15)\n",
            "Requirement already satisfied: python-slugify in /usr/local/lib/python3.7/dist-packages (from kaggle) (6.1.2)\n",
            "Requirement already satisfied: requests in /usr/local/lib/python3.7/dist-packages (from kaggle) (2.23.0)\n",
            "Requirement already satisfied: tqdm in /usr/local/lib/python3.7/dist-packages (from kaggle) (4.64.0)\n",
            "Requirement already satisfied: urllib3 in /usr/local/lib/python3.7/dist-packages (from kaggle) (1.24.3)\n",
            "Requirement already satisfied: text-unidecode>=1.3 in /usr/local/lib/python3.7/dist-packages (from python-slugify->kaggle) (1.3)\n",
            "Requirement already satisfied: idna<3,>=2.5 in /usr/local/lib/python3.7/dist-packages (from requests->kaggle) (2.10)\n",
            "Requirement already satisfied: chardet<4,>=3.0.2 in /usr/local/lib/python3.7/dist-packages (from requests->kaggle) (3.0.4)\n"
          ]
        }
      ]
    },
    {
      "cell_type": "code",
      "source": [
        "from google.colab import drive\n",
        "drive.mount('/content/drive')"
      ],
      "metadata": {
        "colab": {
          "base_uri": "https://localhost:8080/"
        },
        "id": "Vnv0vWfIIuM8",
        "outputId": "a02fc55c-7425-4c19-db65-5e38dd241cc5"
      },
      "execution_count": null,
      "outputs": [
        {
          "output_type": "stream",
          "name": "stdout",
          "text": [
            "Mounted at /content/drive\n"
          ]
        }
      ]
    },
    {
      "cell_type": "code",
      "metadata": {
        "id": "qDJG2WbbrJdt",
        "colab": {
          "base_uri": "https://localhost:8080/"
        },
        "outputId": "5af164ae-3f6f-437a-c0b0-ba011670bfb8"
      },
      "source": [
        "!pip install keras==\"2.2.4\""
      ],
      "execution_count": null,
      "outputs": [
        {
          "output_type": "stream",
          "name": "stdout",
          "text": [
            "Looking in indexes: https://pypi.org/simple, https://us-python.pkg.dev/colab-wheels/public/simple/\n",
            "Collecting keras==2.2.4\n",
            "  Downloading Keras-2.2.4-py2.py3-none-any.whl (312 kB)\n",
            "\u001b[K     |████████████████████████████████| 312 kB 31.1 MB/s \n",
            "\u001b[?25hRequirement already satisfied: keras-preprocessing>=1.0.5 in /usr/local/lib/python3.7/dist-packages (from keras==2.2.4) (1.1.2)\n",
            "Requirement already satisfied: h5py in /usr/local/lib/python3.7/dist-packages (from keras==2.2.4) (3.1.0)\n",
            "Collecting keras-applications>=1.0.6\n",
            "  Downloading Keras_Applications-1.0.8-py3-none-any.whl (50 kB)\n",
            "\u001b[K     |████████████████████████████████| 50 kB 7.2 MB/s \n",
            "\u001b[?25hRequirement already satisfied: scipy>=0.14 in /usr/local/lib/python3.7/dist-packages (from keras==2.2.4) (1.7.3)\n",
            "Requirement already satisfied: pyyaml in /usr/local/lib/python3.7/dist-packages (from keras==2.2.4) (3.13)\n",
            "Requirement already satisfied: numpy>=1.9.1 in /usr/local/lib/python3.7/dist-packages (from keras==2.2.4) (1.21.6)\n",
            "Requirement already satisfied: six>=1.9.0 in /usr/local/lib/python3.7/dist-packages (from keras==2.2.4) (1.15.0)\n",
            "Requirement already satisfied: cached-property in /usr/local/lib/python3.7/dist-packages (from h5py->keras==2.2.4) (1.5.2)\n",
            "Installing collected packages: keras-applications, keras\n",
            "  Attempting uninstall: keras\n",
            "    Found existing installation: keras 2.8.0\n",
            "    Uninstalling keras-2.8.0:\n",
            "      Successfully uninstalled keras-2.8.0\n",
            "\u001b[31mERROR: pip's dependency resolver does not currently take into account all the packages that are installed. This behaviour is the source of the following dependency conflicts.\n",
            "tensorflow 2.8.2+zzzcolab20220719082949 requires keras<2.9,>=2.8.0rc0, but you have keras 2.2.4 which is incompatible.\u001b[0m\n",
            "Successfully installed keras-2.2.4 keras-applications-1.0.8\n"
          ]
        }
      ]
    },
    {
      "cell_type": "code",
      "metadata": {
        "id": "9vcX1sn1rOgi",
        "colab": {
          "base_uri": "https://localhost:8080/"
        },
        "outputId": "9227fa52-8091-401a-a917-3128dccc33f0"
      },
      "source": [
        "!pip install tensorflow==1.15"
      ],
      "execution_count": null,
      "outputs": [
        {
          "output_type": "stream",
          "name": "stdout",
          "text": [
            "Looking in indexes: https://pypi.org/simple, https://us-python.pkg.dev/colab-wheels/public/simple/\n",
            "Collecting tensorflow==1.15\n",
            "  Downloading tensorflow-1.15.0-cp37-cp37m-manylinux2010_x86_64.whl (412.3 MB)\n",
            "\u001b[K     |████████████████████████████████| 412.3 MB 22 kB/s \n",
            "\u001b[?25hRequirement already satisfied: termcolor>=1.1.0 in /usr/local/lib/python3.7/dist-packages (from tensorflow==1.15) (1.1.0)\n",
            "Requirement already satisfied: absl-py>=0.7.0 in /usr/local/lib/python3.7/dist-packages (from tensorflow==1.15) (1.2.0)\n",
            "Requirement already satisfied: google-pasta>=0.1.6 in /usr/local/lib/python3.7/dist-packages (from tensorflow==1.15) (0.2.0)\n",
            "Collecting tensorflow-estimator==1.15.1\n",
            "  Downloading tensorflow_estimator-1.15.1-py2.py3-none-any.whl (503 kB)\n",
            "\u001b[K     |████████████████████████████████| 503 kB 12.2 MB/s \n",
            "\u001b[?25hRequirement already satisfied: astor>=0.6.0 in /usr/local/lib/python3.7/dist-packages (from tensorflow==1.15) (0.8.1)\n",
            "Requirement already satisfied: six>=1.10.0 in /usr/local/lib/python3.7/dist-packages (from tensorflow==1.15) (1.15.0)\n",
            "Collecting tensorboard<1.16.0,>=1.15.0\n",
            "  Downloading tensorboard-1.15.0-py3-none-any.whl (3.8 MB)\n",
            "\u001b[K     |████████████████████████████████| 3.8 MB 38.0 MB/s \n",
            "\u001b[?25hRequirement already satisfied: wrapt>=1.11.1 in /usr/local/lib/python3.7/dist-packages (from tensorflow==1.15) (1.14.1)\n",
            "Collecting gast==0.2.2\n",
            "  Downloading gast-0.2.2.tar.gz (10 kB)\n",
            "Requirement already satisfied: opt-einsum>=2.3.2 in /usr/local/lib/python3.7/dist-packages (from tensorflow==1.15) (3.3.0)\n",
            "Requirement already satisfied: keras-applications>=1.0.8 in /usr/local/lib/python3.7/dist-packages (from tensorflow==1.15) (1.0.8)\n",
            "Requirement already satisfied: keras-preprocessing>=1.0.5 in /usr/local/lib/python3.7/dist-packages (from tensorflow==1.15) (1.1.2)\n",
            "Requirement already satisfied: numpy<2.0,>=1.16.0 in /usr/local/lib/python3.7/dist-packages (from tensorflow==1.15) (1.21.6)\n",
            "Requirement already satisfied: protobuf>=3.6.1 in /usr/local/lib/python3.7/dist-packages (from tensorflow==1.15) (3.17.3)\n",
            "Requirement already satisfied: grpcio>=1.8.6 in /usr/local/lib/python3.7/dist-packages (from tensorflow==1.15) (1.47.0)\n",
            "Requirement already satisfied: wheel>=0.26 in /usr/local/lib/python3.7/dist-packages (from tensorflow==1.15) (0.37.1)\n",
            "Requirement already satisfied: h5py in /usr/local/lib/python3.7/dist-packages (from keras-applications>=1.0.8->tensorflow==1.15) (3.1.0)\n",
            "Requirement already satisfied: markdown>=2.6.8 in /usr/local/lib/python3.7/dist-packages (from tensorboard<1.16.0,>=1.15.0->tensorflow==1.15) (3.4.1)\n",
            "Requirement already satisfied: werkzeug>=0.11.15 in /usr/local/lib/python3.7/dist-packages (from tensorboard<1.16.0,>=1.15.0->tensorflow==1.15) (1.0.1)\n",
            "Requirement already satisfied: setuptools>=41.0.0 in /usr/local/lib/python3.7/dist-packages (from tensorboard<1.16.0,>=1.15.0->tensorflow==1.15) (57.4.0)\n",
            "Requirement already satisfied: importlib-metadata>=4.4 in /usr/local/lib/python3.7/dist-packages (from markdown>=2.6.8->tensorboard<1.16.0,>=1.15.0->tensorflow==1.15) (4.12.0)\n",
            "Requirement already satisfied: zipp>=0.5 in /usr/local/lib/python3.7/dist-packages (from importlib-metadata>=4.4->markdown>=2.6.8->tensorboard<1.16.0,>=1.15.0->tensorflow==1.15) (3.8.1)\n",
            "Requirement already satisfied: typing-extensions>=3.6.4 in /usr/local/lib/python3.7/dist-packages (from importlib-metadata>=4.4->markdown>=2.6.8->tensorboard<1.16.0,>=1.15.0->tensorflow==1.15) (4.1.1)\n",
            "Requirement already satisfied: cached-property in /usr/local/lib/python3.7/dist-packages (from h5py->keras-applications>=1.0.8->tensorflow==1.15) (1.5.2)\n",
            "Building wheels for collected packages: gast\n",
            "  Building wheel for gast (setup.py) ... \u001b[?25l\u001b[?25hdone\n",
            "  Created wheel for gast: filename=gast-0.2.2-py3-none-any.whl size=7554 sha256=cdddc4bdfadea62c0bfdb4bb258792a3b944f3be2adf7587f3723bf61f62f48e\n",
            "  Stored in directory: /root/.cache/pip/wheels/21/7f/02/420f32a803f7d0967b48dd823da3f558c5166991bfd204eef3\n",
            "Successfully built gast\n",
            "Installing collected packages: tensorflow-estimator, tensorboard, gast, tensorflow\n",
            "  Attempting uninstall: tensorflow-estimator\n",
            "    Found existing installation: tensorflow-estimator 2.8.0\n",
            "    Uninstalling tensorflow-estimator-2.8.0:\n",
            "      Successfully uninstalled tensorflow-estimator-2.8.0\n",
            "  Attempting uninstall: tensorboard\n",
            "    Found existing installation: tensorboard 2.8.0\n",
            "    Uninstalling tensorboard-2.8.0:\n",
            "      Successfully uninstalled tensorboard-2.8.0\n",
            "  Attempting uninstall: gast\n",
            "    Found existing installation: gast 0.5.3\n",
            "    Uninstalling gast-0.5.3:\n",
            "      Successfully uninstalled gast-0.5.3\n",
            "  Attempting uninstall: tensorflow\n",
            "    Found existing installation: tensorflow 2.8.2+zzzcolab20220719082949\n",
            "    Uninstalling tensorflow-2.8.2+zzzcolab20220719082949:\n",
            "      Successfully uninstalled tensorflow-2.8.2+zzzcolab20220719082949\n",
            "\u001b[31mERROR: pip's dependency resolver does not currently take into account all the packages that are installed. This behaviour is the source of the following dependency conflicts.\n",
            "tensorflow-probability 0.16.0 requires gast>=0.3.2, but you have gast 0.2.2 which is incompatible.\n",
            "kapre 0.3.7 requires tensorflow>=2.0.0, but you have tensorflow 1.15.0 which is incompatible.\u001b[0m\n",
            "Successfully installed gast-0.2.2 tensorboard-1.15.0 tensorflow-1.15.0 tensorflow-estimator-1.15.1\n"
          ]
        }
      ]
    },
    {
      "cell_type": "code",
      "metadata": {
        "id": "NU8uoUkcrYEw"
      },
      "source": [
        "!mkdir -p ~/.kaggle/\n",
        "!cp kaggle.json ~/.kaggle/"
      ],
      "execution_count": null,
      "outputs": []
    },
    {
      "cell_type": "code",
      "metadata": {
        "id": "YeeFuFZtsDUI",
        "colab": {
          "base_uri": "https://localhost:8080/"
        },
        "outputId": "62c44c03-2544-432b-c183-96fadad6b1f7"
      },
      "source": [
        "!kaggle datasets download -d paultimothymooney/chest-xray-pneumonia"
      ],
      "execution_count": null,
      "outputs": [
        {
          "output_type": "stream",
          "name": "stdout",
          "text": [
            "Warning: Your Kaggle API key is readable by other users on this system! To fix this, you can run 'chmod 600 /root/.kaggle/kaggle.json'\n",
            "Downloading chest-xray-pneumonia.zip to /content\n",
            "100% 2.28G/2.29G [00:20<00:00, 95.9MB/s]\n",
            "100% 2.29G/2.29G [00:20<00:00, 121MB/s] \n"
          ]
        }
      ]
    },
    {
      "cell_type": "code",
      "metadata": {
        "id": "d1whZNjgvfHu"
      },
      "source": [
        "\n",
        "import zipfile\n",
        "with zipfile.ZipFile(\"/content/chest-xray-pneumonia.zip\",\"r\") as zip_ref:\n",
        "    zip_ref.extractall(\"chest-xray-pneumonia\")"
      ],
      "execution_count": null,
      "outputs": []
    },
    {
      "cell_type": "code",
      "metadata": {
        "id": "aNBD8eABtMUJ"
      },
      "source": [
        "! mkdir data_used"
      ],
      "execution_count": null,
      "outputs": []
    },
    {
      "cell_type": "code",
      "metadata": {
        "id": "FF738dIOzyXu"
      },
      "source": [
        "!mkdir data_used/NORMAL"
      ],
      "execution_count": null,
      "outputs": []
    },
    {
      "cell_type": "code",
      "metadata": {
        "id": "l_HfM3tGzzTa"
      },
      "source": [
        "!mkdir data_used/PNEUMONIA"
      ],
      "execution_count": null,
      "outputs": []
    },
    {
      "cell_type": "code",
      "metadata": {
        "id": "PR7BL4vMRFoj"
      },
      "source": [
        "! cp -r /content/chest-xray-pneumonia/chest_xray/chest_xray/train/NORMAL/*.jpeg   /content/data_used/NORMAL"
      ],
      "execution_count": null,
      "outputs": []
    },
    {
      "cell_type": "code",
      "metadata": {
        "id": "CBQKu5yVRMAh"
      },
      "source": [
        "! cp -r /content/chest-xray-pneumonia/chest_xray/chest_xray/test/NORMAL/*.jpeg   /content/data_used/NORMAL"
      ],
      "execution_count": null,
      "outputs": []
    },
    {
      "cell_type": "code",
      "metadata": {
        "id": "ESLCNfZBRMvh"
      },
      "source": [
        "! cp -r /content/chest-xray-pneumonia/chest_xray/chest_xray/val/NORMAL/*.jpeg   /content/data_used/NORMAL"
      ],
      "execution_count": null,
      "outputs": []
    },
    {
      "cell_type": "code",
      "metadata": {
        "id": "fxbeAAYoQ4_2"
      },
      "source": [
        "! cp -r /content/chest-xray-pneumonia/chest_xray/chest_xray/train/PNEUMONIA/*.jpeg   /content/data_used/PNEUMONIA"
      ],
      "execution_count": null,
      "outputs": []
    },
    {
      "cell_type": "code",
      "metadata": {
        "id": "OWlwaCwaRA7F"
      },
      "source": [
        "! cp -r /content/chest-xray-pneumonia/chest_xray/chest_xray/test/PNEUMONIA/*.jpeg   /content/data_used/PNEUMONIA"
      ],
      "execution_count": null,
      "outputs": []
    },
    {
      "cell_type": "code",
      "metadata": {
        "id": "oTW6bBnAtb06"
      },
      "source": [
        "! cp -r /content/chest-xray-pneumonia/chest_xray/chest_xray/val/PNEUMONIA/*.jpeg   /content/data_used/PNEUMONIA"
      ],
      "execution_count": null,
      "outputs": []
    },
    {
      "cell_type": "code",
      "metadata": {
        "id": "n8ZgYZxsodN7"
      },
      "source": [
        "import zipfile\n",
        "\n",
        "with zipfile.ZipFile(\"complexnn.zip\",\"r\") as zip_ref:\n",
        "    zip_ref.extractall()"
      ],
      "execution_count": null,
      "outputs": []
    },
    {
      "cell_type": "code",
      "metadata": {
        "id": "esgXl_scoiop"
      },
      "source": [
        "import pandas as pd\n",
        "import numpy as np\n",
        "import os\n",
        "\n",
        "from glob import glob\n",
        "import itertools\n",
        "import fnmatch\n",
        "import random\n",
        "import matplotlib.pylab as plt\n",
        "#import seaborn as sns\n",
        "import cv2\n",
        "from sklearn.model_selection import train_test_split\n",
        "%matplotlib inline"
      ],
      "execution_count": null,
      "outputs": []
    },
    {
      "cell_type": "code",
      "metadata": {
        "id": "0PVZlJ6IolPd",
        "colab": {
          "base_uri": "https://localhost:8080/"
        },
        "outputId": "98879172-cc19-4343-8c7c-cd43d7f3604d"
      },
      "source": [
        "imagePatches = glob('/content/data_used/*/*.jpeg', recursive=True)\n",
        "for filename in imagePatches[0:1000]:\n",
        "    print(filename)"
      ],
      "execution_count": null,
      "outputs": [
        {
          "output_type": "stream",
          "name": "stdout",
          "text": [
            "/content/data_used/PNEUMONIA/person843_bacteria_2763.jpeg\n",
            "/content/data_used/PNEUMONIA/person508_virus_1020.jpeg\n",
            "/content/data_used/PNEUMONIA/person1311_virus_2257.jpeg\n",
            "/content/data_used/PNEUMONIA/person319_virus_645.jpeg\n",
            "/content/data_used/PNEUMONIA/person1212_virus_2057.jpeg\n",
            "/content/data_used/PNEUMONIA/person1230_bacteria_3185.jpeg\n",
            "/content/data_used/PNEUMONIA/person1071_bacteria_3005.jpeg\n",
            "/content/data_used/PNEUMONIA/person1150_bacteria_3095.jpeg\n",
            "/content/data_used/PNEUMONIA/person1475_virus_2558.jpeg\n",
            "/content/data_used/PNEUMONIA/person1411_bacteria_3602.jpeg\n",
            "/content/data_used/PNEUMONIA/person1114_bacteria_3055.jpeg\n",
            "/content/data_used/PNEUMONIA/person610_bacteria_2475.jpeg\n",
            "/content/data_used/PNEUMONIA/person531_bacteria_2236.jpeg\n",
            "/content/data_used/PNEUMONIA/person1864_bacteria_4736.jpeg\n",
            "/content/data_used/PNEUMONIA/person1455_virus_2496.jpeg\n",
            "/content/data_used/PNEUMONIA/person548_bacteria_2300.jpeg\n",
            "/content/data_used/PNEUMONIA/person97_bacteria_468.jpeg\n",
            "/content/data_used/PNEUMONIA/person68_bacteria_336.jpeg\n",
            "/content/data_used/PNEUMONIA/person397_bacteria_1797.jpeg\n",
            "/content/data_used/PNEUMONIA/person1162_bacteria_3107.jpeg\n",
            "/content/data_used/PNEUMONIA/person76_virus_138.jpeg\n",
            "/content/data_used/PNEUMONIA/person723_virus_1342.jpeg\n",
            "/content/data_used/PNEUMONIA/person1321_bacteria_3359.jpeg\n",
            "/content/data_used/PNEUMONIA/person635_bacteria_2526.jpeg\n",
            "/content/data_used/PNEUMONIA/person624_bacteria_2497.jpeg\n",
            "/content/data_used/PNEUMONIA/person306_bacteria_1439.jpeg\n",
            "/content/data_used/PNEUMONIA/person1355_bacteria_3452.jpeg\n",
            "/content/data_used/PNEUMONIA/person572_bacteria_2368.jpeg\n",
            "/content/data_used/PNEUMONIA/person300_bacteria_1422.jpeg\n",
            "/content/data_used/PNEUMONIA/person533_bacteria_2245.jpeg\n",
            "/content/data_used/PNEUMONIA/person583_virus_1127.jpeg\n",
            "/content/data_used/PNEUMONIA/person1451_virus_2480.jpeg\n",
            "/content/data_used/PNEUMONIA/person499_bacteria_2103.jpeg\n",
            "/content/data_used/PNEUMONIA/person87_virus_160.jpeg\n",
            "/content/data_used/PNEUMONIA/person493_virus_999.jpeg\n",
            "/content/data_used/PNEUMONIA/person1339_bacteria_3399.jpeg\n",
            "/content/data_used/PNEUMONIA/person842_bacteria_2762.jpeg\n",
            "/content/data_used/PNEUMONIA/person1223_virus_2073.jpeg\n",
            "/content/data_used/PNEUMONIA/person255_bacteria_1161.jpeg\n",
            "/content/data_used/PNEUMONIA/person884_bacteria_2808.jpeg\n",
            "/content/data_used/PNEUMONIA/person1311_virus_2259.jpeg\n",
            "/content/data_used/PNEUMONIA/person482_bacteria_2045.jpeg\n",
            "/content/data_used/PNEUMONIA/person515_virus_1032.jpeg\n",
            "/content/data_used/PNEUMONIA/person1158_virus_1941.jpeg\n",
            "/content/data_used/PNEUMONIA/person970_virus_1644.jpeg\n",
            "/content/data_used/PNEUMONIA/person779_bacteria_2683.jpeg\n",
            "/content/data_used/PNEUMONIA/person59_bacteria_284.jpeg\n",
            "/content/data_used/PNEUMONIA/person1680_bacteria_4455.jpeg\n",
            "/content/data_used/PNEUMONIA/person1264_virus_2155.jpeg\n",
            "/content/data_used/PNEUMONIA/person1273_bacteria_3233.jpeg\n",
            "/content/data_used/PNEUMONIA/person1160_virus_1947.jpeg\n",
            "/content/data_used/PNEUMONIA/person583_bacteria_2408.jpeg\n",
            "/content/data_used/PNEUMONIA/person1026_bacteria_2957.jpeg\n",
            "/content/data_used/PNEUMONIA/person53_virus_107.jpeg\n",
            "/content/data_used/PNEUMONIA/person1343_bacteria_3415.jpeg\n",
            "/content/data_used/PNEUMONIA/person326_bacteria_1503.jpeg\n",
            "/content/data_used/PNEUMONIA/person533_virus_1055.jpeg\n",
            "/content/data_used/PNEUMONIA/person1474_virus_2556.jpeg\n",
            "/content/data_used/PNEUMONIA/person1623_virus_2813.jpeg\n",
            "/content/data_used/PNEUMONIA/person673_bacteria_2566.jpeg\n",
            "/content/data_used/PNEUMONIA/person303_virus_624.jpeg\n",
            "/content/data_used/PNEUMONIA/person1413_bacteria_3620.jpeg\n",
            "/content/data_used/PNEUMONIA/person23_bacteria_84.jpeg\n",
            "/content/data_used/PNEUMONIA/person547_bacteria_2292.jpeg\n",
            "/content/data_used/PNEUMONIA/person507_bacteria_2139.jpeg\n",
            "/content/data_used/PNEUMONIA/person487_bacteria_2060.jpeg\n",
            "/content/data_used/PNEUMONIA/person1110_virus_1835.jpeg\n",
            "/content/data_used/PNEUMONIA/person1420_virus_2431.jpeg\n",
            "/content/data_used/PNEUMONIA/person1359_virus_2340.jpeg\n",
            "/content/data_used/PNEUMONIA/person30_bacteria_158.jpeg\n",
            "/content/data_used/PNEUMONIA/person5_bacteria_17.jpeg\n",
            "/content/data_used/PNEUMONIA/person1142_virus_1892.jpeg\n",
            "/content/data_used/PNEUMONIA/person356_bacteria_1638.jpeg\n",
            "/content/data_used/PNEUMONIA/person377_bacteria_1717.jpeg\n",
            "/content/data_used/PNEUMONIA/person1449_bacteria_3747.jpeg\n",
            "/content/data_used/PNEUMONIA/person429_bacteria_1870.jpeg\n",
            "/content/data_used/PNEUMONIA/person1241_virus_2106.jpeg\n",
            "/content/data_used/PNEUMONIA/person641_virus_1222.jpeg\n",
            "/content/data_used/PNEUMONIA/person1549_virus_2690.jpeg\n",
            "/content/data_used/PNEUMONIA/person809_bacteria_2718.jpeg\n",
            "/content/data_used/PNEUMONIA/person308_bacteria_1443.jpeg\n",
            "/content/data_used/PNEUMONIA/person291_bacteria_1374.jpeg\n",
            "/content/data_used/PNEUMONIA/person44_bacteria_218.jpeg\n",
            "/content/data_used/PNEUMONIA/person152_bacteria_723.jpeg\n",
            "/content/data_used/PNEUMONIA/person1349_bacteria_3437.jpeg\n",
            "/content/data_used/PNEUMONIA/person693_bacteria_2590.jpeg\n",
            "/content/data_used/PNEUMONIA/person77_bacteria_375.jpeg\n",
            "/content/data_used/PNEUMONIA/person1438_bacteria_3721.jpeg\n",
            "/content/data_used/PNEUMONIA/person298_bacteria_1409.jpeg\n",
            "/content/data_used/PNEUMONIA/person2_bacteria_4.jpeg\n",
            "/content/data_used/PNEUMONIA/person899_virus_1553.jpeg\n",
            "/content/data_used/PNEUMONIA/person1494_bacteria_3901.jpeg\n",
            "/content/data_used/PNEUMONIA/person1472_virus_2550.jpeg\n",
            "/content/data_used/PNEUMONIA/person1201_bacteria_3151.jpeg\n",
            "/content/data_used/PNEUMONIA/person1679_virus_2896.jpeg\n",
            "/content/data_used/PNEUMONIA/person281_bacteria_1327.jpeg\n",
            "/content/data_used/PNEUMONIA/person1263_bacteria_3221.jpeg\n",
            "/content/data_used/PNEUMONIA/person79_virus_148.jpeg\n",
            "/content/data_used/PNEUMONIA/person1008_virus_1691.jpeg\n",
            "/content/data_used/PNEUMONIA/person463_virus_952.jpeg\n",
            "/content/data_used/PNEUMONIA/person564_bacteria_2346.jpeg\n",
            "/content/data_used/PNEUMONIA/person527_bacteria_2225.jpeg\n",
            "/content/data_used/PNEUMONIA/person835_bacteria_2750.jpeg\n",
            "/content/data_used/PNEUMONIA/person1796_bacteria_4644.jpeg\n",
            "/content/data_used/PNEUMONIA/person59_bacteria_282.jpeg\n",
            "/content/data_used/PNEUMONIA/person442_virus_903.jpeg\n",
            "/content/data_used/PNEUMONIA/person1472_bacteria_3833.jpeg\n",
            "/content/data_used/PNEUMONIA/person1590_bacteria_4176.jpeg\n",
            "/content/data_used/PNEUMONIA/person58_bacteria_276.jpeg\n",
            "/content/data_used/PNEUMONIA/person579_virus_1123.jpeg\n",
            "/content/data_used/PNEUMONIA/person672_virus_1261.jpeg\n",
            "/content/data_used/PNEUMONIA/person1411_bacteria_3609.jpeg\n",
            "/content/data_used/PNEUMONIA/person1264_bacteria_3222.jpeg\n",
            "/content/data_used/PNEUMONIA/person68_bacteria_335.jpeg\n",
            "/content/data_used/PNEUMONIA/person1790_bacteria_4638.jpeg\n",
            "/content/data_used/PNEUMONIA/person70_bacteria_341.jpeg\n",
            "/content/data_used/PNEUMONIA/person1532_virus_2667.jpeg\n",
            "/content/data_used/PNEUMONIA/person96_virus_179.jpeg\n",
            "/content/data_used/PNEUMONIA/person109_bacteria_519.jpeg\n",
            "/content/data_used/PNEUMONIA/person1506_virus_2616.jpeg\n",
            "/content/data_used/PNEUMONIA/person311_bacteria_1453.jpeg\n",
            "/content/data_used/PNEUMONIA/person1400_bacteria_3553.jpeg\n",
            "/content/data_used/PNEUMONIA/person64_bacteria_316.jpeg\n",
            "/content/data_used/PNEUMONIA/person1232_virus_2089.jpeg\n",
            "/content/data_used/PNEUMONIA/person531_bacteria_2238.jpeg\n",
            "/content/data_used/PNEUMONIA/person1525_virus_2659.jpeg\n",
            "/content/data_used/PNEUMONIA/person1098_bacteria_3039.jpeg\n",
            "/content/data_used/PNEUMONIA/person1650_virus_2852.jpeg\n",
            "/content/data_used/PNEUMONIA/person121_bacteria_579.jpeg\n",
            "/content/data_used/PNEUMONIA/person553_bacteria_2317.jpeg\n",
            "/content/data_used/PNEUMONIA/person898_bacteria_2823.jpeg\n",
            "/content/data_used/PNEUMONIA/person1158_virus_1940.jpeg\n",
            "/content/data_used/PNEUMONIA/person1493_bacteria_3899.jpeg\n",
            "/content/data_used/PNEUMONIA/person319_bacteria_1479.jpeg\n",
            "/content/data_used/PNEUMONIA/person807_virus_1441.jpeg\n",
            "/content/data_used/PNEUMONIA/person47_virus_99.jpeg\n",
            "/content/data_used/PNEUMONIA/person448_bacteria_1936.jpeg\n",
            "/content/data_used/PNEUMONIA/person1109_bacteria_3050.jpeg\n",
            "/content/data_used/PNEUMONIA/person1851_bacteria_4722.jpeg\n",
            "/content/data_used/PNEUMONIA/person1168_bacteria_3115.jpeg\n",
            "/content/data_used/PNEUMONIA/person1474_virus_2557.jpeg\n",
            "/content/data_used/PNEUMONIA/person264_bacteria_1228.jpeg\n",
            "/content/data_used/PNEUMONIA/person171_bacteria_826.jpeg\n",
            "/content/data_used/PNEUMONIA/person353_bacteria_1626.jpeg\n",
            "/content/data_used/PNEUMONIA/person389_bacteria_1778.jpeg\n",
            "/content/data_used/PNEUMONIA/person1901_bacteria_4795.jpeg\n",
            "/content/data_used/PNEUMONIA/person319_bacteria_1480.jpeg\n",
            "/content/data_used/PNEUMONIA/person306_bacteria_1440.jpeg\n",
            "/content/data_used/PNEUMONIA/person536_bacteria_2259.jpeg\n",
            "/content/data_used/PNEUMONIA/person292_bacteria_1378.jpeg\n",
            "/content/data_used/PNEUMONIA/person475_virus_972.jpeg\n",
            "/content/data_used/PNEUMONIA/person1441_virus_2457.jpeg\n",
            "/content/data_used/PNEUMONIA/person504_bacteria_2130.jpeg\n",
            "/content/data_used/PNEUMONIA/person94_bacteria_458.jpeg\n",
            "/content/data_used/PNEUMONIA/person29_bacteria_144.jpeg\n",
            "/content/data_used/PNEUMONIA/person465_bacteria_1982.jpeg\n",
            "/content/data_used/PNEUMONIA/person494_virus_1000.jpeg\n",
            "/content/data_used/PNEUMONIA/person1073_bacteria_3011.jpeg\n",
            "/content/data_used/PNEUMONIA/person963_bacteria_2888.jpeg\n",
            "/content/data_used/PNEUMONIA/person111_bacteria_533.jpeg\n",
            "/content/data_used/PNEUMONIA/person76_bacteria_370.jpeg\n",
            "/content/data_used/PNEUMONIA/person995_virus_1676.jpeg\n",
            "/content/data_used/PNEUMONIA/person1340_virus_2311.jpeg\n",
            "/content/data_used/PNEUMONIA/person277_bacteria_1307.jpeg\n",
            "/content/data_used/PNEUMONIA/person441_bacteria_1907.jpeg\n",
            "/content/data_used/PNEUMONIA/person382_bacteria_1745.jpeg\n",
            "/content/data_used/PNEUMONIA/person73_bacteria_357.jpeg\n",
            "/content/data_used/PNEUMONIA/person1164_virus_1952.jpeg\n",
            "/content/data_used/PNEUMONIA/person1149_virus_1924.jpeg\n",
            "/content/data_used/PNEUMONIA/person644_virus_1225.jpeg\n",
            "/content/data_used/PNEUMONIA/person1541_virus_2681.jpeg\n",
            "/content/data_used/PNEUMONIA/person1275_bacteria_3237.jpeg\n",
            "/content/data_used/PNEUMONIA/person31_bacteria_163.jpeg\n",
            "/content/data_used/PNEUMONIA/person1439_bacteria_3722.jpeg\n",
            "/content/data_used/PNEUMONIA/person1106_virus_1829.jpeg\n",
            "/content/data_used/PNEUMONIA/person430_bacteria_1871.jpeg\n",
            "/content/data_used/PNEUMONIA/person814_bacteria_2725.jpeg\n",
            "/content/data_used/PNEUMONIA/person1611_bacteria_4241.jpeg\n",
            "/content/data_used/PNEUMONIA/person829_bacteria_2740.jpeg\n",
            "/content/data_used/PNEUMONIA/person1491_bacteria_3893.jpeg\n",
            "/content/data_used/PNEUMONIA/person1663_bacteria_4412.jpeg\n",
            "/content/data_used/PNEUMONIA/person1248_virus_2117.jpeg\n",
            "/content/data_used/PNEUMONIA/person54_bacteria_258.jpeg\n",
            "/content/data_used/PNEUMONIA/person546_virus_1085.jpeg\n",
            "/content/data_used/PNEUMONIA/person1226_virus_2077.jpeg\n",
            "/content/data_used/PNEUMONIA/person1284_virus_2207.jpeg\n",
            "/content/data_used/PNEUMONIA/person614_bacteria_2480.jpeg\n",
            "/content/data_used/PNEUMONIA/person422_virus_867.jpeg\n",
            "/content/data_used/PNEUMONIA/person78_bacteria_386.jpeg\n",
            "/content/data_used/PNEUMONIA/person597_bacteria_2450.jpeg\n",
            "/content/data_used/PNEUMONIA/person1177_virus_2001.jpeg\n",
            "/content/data_used/PNEUMONIA/person1460_bacteria_3805.jpeg\n",
            "/content/data_used/PNEUMONIA/person1402_virus_2405.jpeg\n",
            "/content/data_used/PNEUMONIA/person124_virus_247.jpeg\n",
            "/content/data_used/PNEUMONIA/person357_virus_734.jpeg\n",
            "/content/data_used/PNEUMONIA/person1220_bacteria_3173.jpeg\n",
            "/content/data_used/PNEUMONIA/person433_bacteria_1874.jpeg\n",
            "/content/data_used/PNEUMONIA/person1701_bacteria_4504.jpeg\n",
            "/content/data_used/PNEUMONIA/person509_virus_1024.jpeg\n",
            "/content/data_used/PNEUMONIA/person1129_virus_1857.jpeg\n",
            "/content/data_used/PNEUMONIA/person70_bacteria_342.jpeg\n",
            "/content/data_used/PNEUMONIA/person442_virus_906.jpeg\n",
            "/content/data_used/PNEUMONIA/person1178_bacteria_3126.jpeg\n",
            "/content/data_used/PNEUMONIA/person1353_bacteria_3446.jpeg\n",
            "/content/data_used/PNEUMONIA/person1718_bacteria_4538.jpeg\n",
            "/content/data_used/PNEUMONIA/person278_bacteria_1314.jpeg\n",
            "/content/data_used/PNEUMONIA/person337_bacteria_1563.jpeg\n",
            "/content/data_used/PNEUMONIA/person1372_bacteria_3499.jpeg\n",
            "/content/data_used/PNEUMONIA/person175_bacteria_835.jpeg\n",
            "/content/data_used/PNEUMONIA/person266_bacteria_1241.jpeg\n",
            "/content/data_used/PNEUMONIA/person124_virus_249.jpeg\n",
            "/content/data_used/PNEUMONIA/person32_virus_71.jpeg\n",
            "/content/data_used/PNEUMONIA/person936_virus_1598.jpeg\n",
            "/content/data_used/PNEUMONIA/person75_bacteria_365.jpeg\n",
            "/content/data_used/PNEUMONIA/person487_bacteria_2059.jpeg\n",
            "/content/data_used/PNEUMONIA/person888_virus_1538.jpeg\n",
            "/content/data_used/PNEUMONIA/person1563_bacteria_4092.jpeg\n",
            "/content/data_used/PNEUMONIA/person733_bacteria_2635.jpeg\n",
            "/content/data_used/PNEUMONIA/person1371_virus_2362.jpeg\n",
            "/content/data_used/PNEUMONIA/person392_bacteria_1785.jpeg\n",
            "/content/data_used/PNEUMONIA/person1281_bacteria_3244.jpeg\n",
            "/content/data_used/PNEUMONIA/person779_virus_1410.jpeg\n",
            "/content/data_used/PNEUMONIA/person621_virus_1195.jpeg\n",
            "/content/data_used/PNEUMONIA/person410_bacteria_1825.jpeg\n",
            "/content/data_used/PNEUMONIA/person100_bacteria_480.jpeg\n",
            "/content/data_used/PNEUMONIA/person1042_virus_1737.jpeg\n",
            "/content/data_used/PNEUMONIA/person1020_bacteria_2951.jpeg\n",
            "/content/data_used/PNEUMONIA/person500_bacteria_2105.jpeg\n",
            "/content/data_used/PNEUMONIA/person470_bacteria_1998.jpeg\n",
            "/content/data_used/PNEUMONIA/person608_bacteria_2472.jpeg\n",
            "/content/data_used/PNEUMONIA/person31_bacteria_162.jpeg\n",
            "/content/data_used/PNEUMONIA/person26_bacteria_133.jpeg\n",
            "/content/data_used/PNEUMONIA/person66_bacteria_325.jpeg\n",
            "/content/data_used/PNEUMONIA/person1270_bacteria_3230.jpeg\n",
            "/content/data_used/PNEUMONIA/person444_virus_911.jpeg\n",
            "/content/data_used/PNEUMONIA/person19_bacteria_58.jpeg\n",
            "/content/data_used/PNEUMONIA/person109_bacteria_527.jpeg\n",
            "/content/data_used/PNEUMONIA/person1005_bacteria_2936.jpeg\n",
            "/content/data_used/PNEUMONIA/person145_bacteria_696.jpeg\n",
            "/content/data_used/PNEUMONIA/person1343_virus_2317.jpeg\n",
            "/content/data_used/PNEUMONIA/person518_bacteria_2199.jpeg\n",
            "/content/data_used/PNEUMONIA/person434_virus_884.jpeg\n",
            "/content/data_used/PNEUMONIA/person1599_virus_2775.jpeg\n",
            "/content/data_used/PNEUMONIA/person395_bacteria_1794.jpeg\n",
            "/content/data_used/PNEUMONIA/person277_bacteria_1301.jpeg\n",
            "/content/data_used/PNEUMONIA/person1107_virus_1831.jpeg\n",
            "/content/data_used/PNEUMONIA/person314_bacteria_1461.jpeg\n",
            "/content/data_used/PNEUMONIA/person516_bacteria_2191.jpeg\n",
            "/content/data_used/PNEUMONIA/person692_virus_1286.jpeg\n",
            "/content/data_used/PNEUMONIA/person1415_virus_2425.jpeg\n",
            "/content/data_used/PNEUMONIA/person1164_virus_1958.jpeg\n",
            "/content/data_used/PNEUMONIA/person1492_virus_2599.jpeg\n",
            "/content/data_used/PNEUMONIA/person64_bacteria_310.jpeg\n",
            "/content/data_used/PNEUMONIA/person511_bacteria_2152.jpeg\n",
            "/content/data_used/PNEUMONIA/person646_bacteria_2538.jpeg\n",
            "/content/data_used/PNEUMONIA/person1665_virus_2878.jpeg\n",
            "/content/data_used/PNEUMONIA/person1219_bacteria_3172.jpeg\n",
            "/content/data_used/PNEUMONIA/person1177_bacteria_3125.jpeg\n",
            "/content/data_used/PNEUMONIA/person1314_virus_2268.jpeg\n",
            "/content/data_used/PNEUMONIA/person1019_bacteria_2950.jpeg\n",
            "/content/data_used/PNEUMONIA/person1351_bacteria_3441.jpeg\n",
            "/content/data_used/PNEUMONIA/person299_bacteria_1416.jpeg\n",
            "/content/data_used/PNEUMONIA/person424_bacteria_1859.jpeg\n",
            "/content/data_used/PNEUMONIA/person383_bacteria_1752.jpeg\n",
            "/content/data_used/PNEUMONIA/person1543_virus_2684.jpeg\n",
            "/content/data_used/PNEUMONIA/person127_bacteria_604.jpeg\n",
            "/content/data_used/PNEUMONIA/person109_virus_203.jpeg\n",
            "/content/data_used/PNEUMONIA/person564_virus_1104.jpeg\n",
            "/content/data_used/PNEUMONIA/person427_bacteria_1867.jpeg\n",
            "/content/data_used/PNEUMONIA/person924_bacteria_2849.jpeg\n",
            "/content/data_used/PNEUMONIA/person810_bacteria_2719.jpeg\n",
            "/content/data_used/PNEUMONIA/person1333_bacteria_3383.jpeg\n",
            "/content/data_used/PNEUMONIA/person309_bacteria_1449.jpeg\n",
            "/content/data_used/PNEUMONIA/person436_bacteria_1883.jpeg\n",
            "/content/data_used/PNEUMONIA/person1038_bacteria_2972.jpeg\n",
            "/content/data_used/PNEUMONIA/person1387_virus_2382.jpeg\n",
            "/content/data_used/PNEUMONIA/person462_bacteria_1963.jpeg\n",
            "/content/data_used/PNEUMONIA/person481_bacteria_2042.jpeg\n",
            "/content/data_used/PNEUMONIA/person931_virus_1592.jpeg\n",
            "/content/data_used/PNEUMONIA/person1433_virus_2447.jpeg\n",
            "/content/data_used/PNEUMONIA/person1416_virus_2427.jpeg\n",
            "/content/data_used/PNEUMONIA/person877_bacteria_2800.jpeg\n",
            "/content/data_used/PNEUMONIA/person582_bacteria_2405.jpeg\n",
            "/content/data_used/PNEUMONIA/person930_bacteria_2855.jpeg\n",
            "/content/data_used/PNEUMONIA/person1576_bacteria_4124.jpeg\n",
            "/content/data_used/PNEUMONIA/person761_virus_1389.jpeg\n",
            "/content/data_used/PNEUMONIA/person1185_bacteria_3133.jpeg\n",
            "/content/data_used/PNEUMONIA/person1139_virus_1882.jpeg\n",
            "/content/data_used/PNEUMONIA/person649_bacteria_2541.jpeg\n",
            "/content/data_used/PNEUMONIA/person1628_bacteria_4296.jpeg\n",
            "/content/data_used/PNEUMONIA/person84_virus_157.jpeg\n",
            "/content/data_used/PNEUMONIA/person870_bacteria_2792.jpeg\n",
            "/content/data_used/PNEUMONIA/person1172_virus_1977.jpeg\n",
            "/content/data_used/PNEUMONIA/person542_virus_1072.jpeg\n",
            "/content/data_used/PNEUMONIA/person901_virus_1555.jpeg\n",
            "/content/data_used/PNEUMONIA/person1306_bacteria_3277.jpeg\n",
            "/content/data_used/PNEUMONIA/person665_virus_1250.jpeg\n",
            "/content/data_used/PNEUMONIA/person316_bacteria_1470.jpeg\n",
            "/content/data_used/PNEUMONIA/person460_bacteria_1958.jpeg\n",
            "/content/data_used/PNEUMONIA/person1320_bacteria_3344.jpeg\n",
            "/content/data_used/PNEUMONIA/person576_bacteria_2375.jpeg\n",
            "/content/data_used/PNEUMONIA/person1320_bacteria_3347.jpeg\n",
            "/content/data_used/PNEUMONIA/person1477_virus_2561.jpeg\n",
            "/content/data_used/PNEUMONIA/person515_bacteria_2187.jpeg\n",
            "/content/data_used/PNEUMONIA/person1737_bacteria_4573.jpeg\n",
            "/content/data_used/PNEUMONIA/person1080_bacteria_3020.jpeg\n",
            "/content/data_used/PNEUMONIA/person732_bacteria_2634.jpeg\n",
            "/content/data_used/PNEUMONIA/person458_bacteria_1955.jpeg\n",
            "/content/data_used/PNEUMONIA/person1052_virus_1751.jpeg\n",
            "/content/data_used/PNEUMONIA/person1329_bacteria_3377.jpeg\n",
            "/content/data_used/PNEUMONIA/person1582_bacteria_4142.jpeg\n",
            "/content/data_used/PNEUMONIA/person1328_bacteria_3376.jpeg\n",
            "/content/data_used/PNEUMONIA/person429_virus_877.jpeg\n",
            "/content/data_used/PNEUMONIA/person563_bacteria_2335.jpeg\n",
            "/content/data_used/PNEUMONIA/person1481_bacteria_3868.jpeg\n",
            "/content/data_used/PNEUMONIA/person613_virus_1181.jpeg\n",
            "/content/data_used/PNEUMONIA/person767_bacteria_2671.jpeg\n",
            "/content/data_used/PNEUMONIA/person448_bacteria_1934.jpeg\n",
            "/content/data_used/PNEUMONIA/person1454_bacteria_3782.jpeg\n",
            "/content/data_used/PNEUMONIA/person555_bacteria_2325.jpeg\n",
            "/content/data_used/PNEUMONIA/person38_bacteria_190.jpeg\n",
            "/content/data_used/PNEUMONIA/person1261_virus_2145.jpeg\n",
            "/content/data_used/PNEUMONIA/person1484_bacteria_3878.jpeg\n",
            "/content/data_used/PNEUMONIA/person94_virus_176.jpeg\n",
            "/content/data_used/PNEUMONIA/person1481_bacteria_3862.jpeg\n",
            "/content/data_used/PNEUMONIA/person1735_bacteria_4570.jpeg\n",
            "/content/data_used/PNEUMONIA/person381_bacteria_1730.jpeg\n",
            "/content/data_used/PNEUMONIA/person487_bacteria_2058.jpeg\n",
            "/content/data_used/PNEUMONIA/person1574_bacteria_4118.jpeg\n",
            "/content/data_used/PNEUMONIA/person120_bacteria_571.jpeg\n",
            "/content/data_used/PNEUMONIA/person1091_virus_1810.jpeg\n",
            "/content/data_used/PNEUMONIA/person1567_bacteria_4100.jpeg\n",
            "/content/data_used/PNEUMONIA/person1438_virus_2452.jpeg\n",
            "/content/data_used/PNEUMONIA/person1702_bacteria_4508.jpeg\n",
            "/content/data_used/PNEUMONIA/person1648_bacteria_4375.jpeg\n",
            "/content/data_used/PNEUMONIA/person1452_virus_2484.jpeg\n",
            "/content/data_used/PNEUMONIA/person1324_virus_2285.jpeg\n",
            "/content/data_used/PNEUMONIA/person707_virus_1305.jpeg\n",
            "/content/data_used/PNEUMONIA/person772_virus_1401.jpeg\n",
            "/content/data_used/PNEUMONIA/person1133_bacteria_3075.jpeg\n",
            "/content/data_used/PNEUMONIA/person1345_bacteria_3424.jpeg\n",
            "/content/data_used/PNEUMONIA/person1197_virus_2039.jpeg\n",
            "/content/data_used/PNEUMONIA/person54_virus_109.jpeg\n",
            "/content/data_used/PNEUMONIA/person416_virus_849.jpeg\n",
            "/content/data_used/PNEUMONIA/person406_bacteria_1819.jpeg\n",
            "/content/data_used/PNEUMONIA/person1418_bacteria_3636.jpeg\n",
            "/content/data_used/PNEUMONIA/person506_virus_1018.jpeg\n",
            "/content/data_used/PNEUMONIA/person22_virus_55.jpeg\n",
            "/content/data_used/PNEUMONIA/person850_bacteria_2771.jpeg\n",
            "/content/data_used/PNEUMONIA/person73_bacteria_360.jpeg\n",
            "/content/data_used/PNEUMONIA/person466_virus_960.jpeg\n",
            "/content/data_used/PNEUMONIA/person418_bacteria_1843.jpeg\n",
            "/content/data_used/PNEUMONIA/person23_bacteria_79.jpeg\n",
            "/content/data_used/PNEUMONIA/person1545_bacteria_4041.jpeg\n",
            "/content/data_used/PNEUMONIA/person5_bacteria_19.jpeg\n",
            "/content/data_used/PNEUMONIA/person490_bacteria_2070.jpeg\n",
            "/content/data_used/PNEUMONIA/person508_bacteria_2142.jpeg\n",
            "/content/data_used/PNEUMONIA/person652_bacteria_2544.jpeg\n",
            "/content/data_used/PNEUMONIA/person755_bacteria_2659.jpeg\n",
            "/content/data_used/PNEUMONIA/person1366_virus_2349.jpeg\n",
            "/content/data_used/PNEUMONIA/person118_bacteria_560.jpeg\n",
            "/content/data_used/PNEUMONIA/person1924_bacteria_4833.jpeg\n",
            "/content/data_used/PNEUMONIA/person871_bacteria_2793.jpeg\n",
            "/content/data_used/PNEUMONIA/person402_bacteria_1813.jpeg\n",
            "/content/data_used/PNEUMONIA/person1229_virus_2080.jpeg\n",
            "/content/data_used/PNEUMONIA/person1175_virus_1981.jpeg\n",
            "/content/data_used/PNEUMONIA/person1787_bacteria_4634.jpeg\n",
            "/content/data_used/PNEUMONIA/person1449_bacteria_3743.jpeg\n",
            "/content/data_used/PNEUMONIA/person585_bacteria_2415.jpeg\n",
            "/content/data_used/PNEUMONIA/person370_virus_753.jpeg\n",
            "/content/data_used/PNEUMONIA/person480_virus_981.jpeg\n",
            "/content/data_used/PNEUMONIA/person433_bacteria_1876.jpeg\n",
            "/content/data_used/PNEUMONIA/person846_virus_1491.jpeg\n",
            "/content/data_used/PNEUMONIA/person259_bacteria_1220.jpeg\n",
            "/content/data_used/PNEUMONIA/person440_bacteria_1898.jpeg\n",
            "/content/data_used/PNEUMONIA/person489_bacteria_2066.jpeg\n",
            "/content/data_used/PNEUMONIA/person88_bacteria_439.jpeg\n",
            "/content/data_used/PNEUMONIA/person45_bacteria_220.jpeg\n",
            "/content/data_used/PNEUMONIA/person1043_bacteria_2977.jpeg\n",
            "/content/data_used/PNEUMONIA/person877_virus_1525.jpeg\n",
            "/content/data_used/PNEUMONIA/person596_bacteria_2441.jpeg\n",
            "/content/data_used/PNEUMONIA/person789_bacteria_2694.jpeg\n",
            "/content/data_used/PNEUMONIA/person1372_bacteria_3498.jpeg\n",
            "/content/data_used/PNEUMONIA/person1613_virus_2799.jpeg\n",
            "/content/data_used/PNEUMONIA/person147_bacteria_705.jpeg\n",
            "/content/data_used/PNEUMONIA/person1126_virus_1853.jpeg\n",
            "/content/data_used/PNEUMONIA/person1403_bacteria_3557.jpeg\n",
            "/content/data_used/PNEUMONIA/person45_bacteria_222.jpeg\n",
            "/content/data_used/PNEUMONIA/person588_virus_1135.jpeg\n",
            "/content/data_used/PNEUMONIA/person1206_virus_2051.jpeg\n",
            "/content/data_used/PNEUMONIA/person1664_virus_2877.jpeg\n",
            "/content/data_used/PNEUMONIA/person442_virus_900.jpeg\n",
            "/content/data_used/PNEUMONIA/person838_virus_1476.jpeg\n",
            "/content/data_used/PNEUMONIA/person253_bacteria_1153.jpeg\n",
            "/content/data_used/PNEUMONIA/person896_virus_1548.jpeg\n",
            "/content/data_used/PNEUMONIA/person969_virus_1643.jpeg\n",
            "/content/data_used/PNEUMONIA/person1640_bacteria_4348.jpeg\n",
            "/content/data_used/PNEUMONIA/person1008_bacteria_2939.jpeg\n",
            "/content/data_used/PNEUMONIA/person819_bacteria_2730.jpeg\n",
            "/content/data_used/PNEUMONIA/person89_bacteria_440.jpeg\n",
            "/content/data_used/PNEUMONIA/person757_virus_1385.jpeg\n",
            "/content/data_used/PNEUMONIA/person331_virus_684.jpeg\n",
            "/content/data_used/PNEUMONIA/person1070_virus_1773.jpeg\n",
            "/content/data_used/PNEUMONIA/person1638_bacteria_4342.jpeg\n",
            "/content/data_used/PNEUMONIA/person1242_virus_2109.jpeg\n",
            "/content/data_used/PNEUMONIA/person974_bacteria_2899.jpeg\n",
            "/content/data_used/PNEUMONIA/person77_bacteria_374.jpeg\n",
            "/content/data_used/PNEUMONIA/person130_bacteria_623.jpeg\n",
            "/content/data_used/PNEUMONIA/person465_bacteria_1980.jpeg\n",
            "/content/data_used/PNEUMONIA/person599_bacteria_2455.jpeg\n",
            "/content/data_used/PNEUMONIA/person469_bacteria_1994.jpeg\n",
            "/content/data_used/PNEUMONIA/person1004_virus_1686.jpeg\n",
            "/content/data_used/PNEUMONIA/person968_virus_1642.jpeg\n",
            "/content/data_used/PNEUMONIA/person1149_virus_1925.jpeg\n",
            "/content/data_used/PNEUMONIA/person1385_virus_2380.jpeg\n",
            "/content/data_used/PNEUMONIA/person383_bacteria_1748.jpeg\n",
            "/content/data_used/PNEUMONIA/person1242_bacteria_3198.jpeg\n",
            "/content/data_used/PNEUMONIA/person545_bacteria_2288.jpeg\n",
            "/content/data_used/PNEUMONIA/person997_bacteria_2926.jpeg\n",
            "/content/data_used/PNEUMONIA/person110_bacteria_531.jpeg\n",
            "/content/data_used/PNEUMONIA/person70_bacteria_343.jpeg\n",
            "/content/data_used/PNEUMONIA/person534_bacteria_2254.jpeg\n",
            "/content/data_used/PNEUMONIA/person1320_bacteria_3340.jpeg\n",
            "/content/data_used/PNEUMONIA/person1164_virus_1955.jpeg\n",
            "/content/data_used/PNEUMONIA/person489_virus_995.jpeg\n",
            "/content/data_used/PNEUMONIA/person372_virus_755.jpeg\n",
            "/content/data_used/PNEUMONIA/person275_virus_565.jpeg\n",
            "/content/data_used/PNEUMONIA/person598_bacteria_2453.jpeg\n",
            "/content/data_used/PNEUMONIA/person529_bacteria_2229.jpeg\n",
            "/content/data_used/PNEUMONIA/person3_bacteria_10.jpeg\n",
            "/content/data_used/PNEUMONIA/person800_bacteria_2706.jpeg\n",
            "/content/data_used/PNEUMONIA/person78_bacteria_380.jpeg\n",
            "/content/data_used/PNEUMONIA/person835_virus_1472.jpeg\n",
            "/content/data_used/PNEUMONIA/person860_virus_1505.jpeg\n",
            "/content/data_used/PNEUMONIA/person366_bacteria_1664.jpeg\n",
            "/content/data_used/PNEUMONIA/person1884_bacteria_4771.jpeg\n",
            "/content/data_used/PNEUMONIA/person802_bacteria_2708.jpeg\n",
            "/content/data_used/PNEUMONIA/person26_bacteria_130.jpeg\n",
            "/content/data_used/PNEUMONIA/person1237_bacteria_3193.jpeg\n",
            "/content/data_used/PNEUMONIA/person1653_virus_2858.jpeg\n",
            "/content/data_used/PNEUMONIA/person478_bacteria_2032.jpeg\n",
            "/content/data_used/PNEUMONIA/person305_bacteria_1437.jpeg\n",
            "/content/data_used/PNEUMONIA/person912_bacteria_2837.jpeg\n",
            "/content/data_used/PNEUMONIA/person348_bacteria_1603.jpeg\n",
            "/content/data_used/PNEUMONIA/person1365_bacteria_3489.jpeg\n",
            "/content/data_used/PNEUMONIA/person296_bacteria_1391.jpeg\n",
            "/content/data_used/PNEUMONIA/person548_bacteria_2299.jpeg\n",
            "/content/data_used/PNEUMONIA/person1287_virus_2210.jpeg\n",
            "/content/data_used/PNEUMONIA/person1685_bacteria_4465.jpeg\n",
            "/content/data_used/PNEUMONIA/person510_bacteria_2148.jpeg\n",
            "/content/data_used/PNEUMONIA/person875_bacteria_2798.jpeg\n",
            "/content/data_used/PNEUMONIA/person3_bacteria_12.jpeg\n",
            "/content/data_used/PNEUMONIA/person1424_bacteria_3651.jpeg\n",
            "/content/data_used/PNEUMONIA/person761_bacteria_2665.jpeg\n",
            "/content/data_used/PNEUMONIA/person71_virus_132.jpeg\n",
            "/content/data_used/PNEUMONIA/person619_virus_1190.jpeg\n",
            "/content/data_used/PNEUMONIA/person1504_bacteria_3931.jpeg\n",
            "/content/data_used/PNEUMONIA/person1436_bacteria_3712.jpeg\n",
            "/content/data_used/PNEUMONIA/person286_virus_585.jpeg\n",
            "/content/data_used/PNEUMONIA/person1186_virus_2021.jpeg\n",
            "/content/data_used/PNEUMONIA/person1619_bacteria_4269.jpeg\n",
            "/content/data_used/PNEUMONIA/person1660_virus_2869.jpeg\n",
            "/content/data_used/PNEUMONIA/person935_virus_1597.jpeg\n",
            "/content/data_used/PNEUMONIA/person1244_bacteria_3200.jpeg\n",
            "/content/data_used/PNEUMONIA/person501_bacteria_2116.jpeg\n",
            "/content/data_used/PNEUMONIA/person620_bacteria_2492.jpeg\n",
            "/content/data_used/PNEUMONIA/person492_bacteria_2085.jpeg\n",
            "/content/data_used/PNEUMONIA/person1320_bacteria_3342.jpeg\n",
            "/content/data_used/PNEUMONIA/person647_bacteria_2539.jpeg\n",
            "/content/data_used/PNEUMONIA/person1540_virus_2680.jpeg\n",
            "/content/data_used/PNEUMONIA/person415_bacteria_1839.jpeg\n",
            "/content/data_used/PNEUMONIA/person636_virus_1217.jpeg\n",
            "/content/data_used/PNEUMONIA/person441_bacteria_1914.jpeg\n",
            "/content/data_used/PNEUMONIA/person716_virus_1314.jpeg\n",
            "/content/data_used/PNEUMONIA/person641_bacteria_2533.jpeg\n",
            "/content/data_used/PNEUMONIA/person1476_bacteria_3842.jpeg\n",
            "/content/data_used/PNEUMONIA/person370_bacteria_1689.jpeg\n",
            "/content/data_used/PNEUMONIA/person1893_bacteria_4781.jpeg\n",
            "/content/data_used/PNEUMONIA/person299_bacteria_1414.jpeg\n",
            "/content/data_used/PNEUMONIA/person409_virus_820.jpeg\n",
            "/content/data_used/PNEUMONIA/person124_virus_244.jpeg\n",
            "/content/data_used/PNEUMONIA/person528_virus_1049.jpeg\n",
            "/content/data_used/PNEUMONIA/person41_bacteria_211.jpeg\n",
            "/content/data_used/PNEUMONIA/person1619_bacteria_4271.jpeg\n",
            "/content/data_used/PNEUMONIA/person1050_bacteria_2984.jpeg\n",
            "/content/data_used/PNEUMONIA/person328_bacteria_1514.jpeg\n",
            "/content/data_used/PNEUMONIA/person1066_virus_1769.jpeg\n",
            "/content/data_used/PNEUMONIA/person923_bacteria_2848.jpeg\n",
            "/content/data_used/PNEUMONIA/person75_bacteria_367.jpeg\n",
            "/content/data_used/PNEUMONIA/person1389_bacteria_3531.jpeg\n",
            "/content/data_used/PNEUMONIA/person1295_bacteria_3258.jpeg\n",
            "/content/data_used/PNEUMONIA/person605_virus_1169.jpeg\n",
            "/content/data_used/PNEUMONIA/person1342_virus_2315.jpeg\n",
            "/content/data_used/PNEUMONIA/person990_bacteria_2917.jpeg\n",
            "/content/data_used/PNEUMONIA/person75_bacteria_366.jpeg\n",
            "/content/data_used/PNEUMONIA/person1333_virus_2301.jpeg\n",
            "/content/data_used/PNEUMONIA/person596_bacteria_2444.jpeg\n",
            "/content/data_used/PNEUMONIA/person477_bacteria_2031.jpeg\n",
            "/content/data_used/PNEUMONIA/person14_virus_44.jpeg\n",
            "/content/data_used/PNEUMONIA/person1907_bacteria_4806.jpeg\n",
            "/content/data_used/PNEUMONIA/person1112_bacteria_3053.jpeg\n",
            "/content/data_used/PNEUMONIA/person1719_bacteria_4541.jpeg\n",
            "/content/data_used/PNEUMONIA/person500_virus_1009.jpeg\n",
            "/content/data_used/PNEUMONIA/person1466_virus_2541.jpeg\n",
            "/content/data_used/PNEUMONIA/person125_bacteria_594.jpeg\n",
            "/content/data_used/PNEUMONIA/person62_bacteria_300.jpeg\n",
            "/content/data_used/PNEUMONIA/person458_bacteria_1950.jpeg\n",
            "/content/data_used/PNEUMONIA/person158_bacteria_745.jpeg\n",
            "/content/data_used/PNEUMONIA/person409_virus_818.jpeg\n",
            "/content/data_used/PNEUMONIA/person884_virus_1534.jpeg\n",
            "/content/data_used/PNEUMONIA/person502_bacteria_2122.jpeg\n",
            "/content/data_used/PNEUMONIA/person1186_bacteria_3134.jpeg\n",
            "/content/data_used/PNEUMONIA/person949_bacteria_2874.jpeg\n",
            "/content/data_used/PNEUMONIA/person1160_bacteria_3105.jpeg\n",
            "/content/data_used/PNEUMONIA/person1661_virus_2873.jpeg\n",
            "/content/data_used/PNEUMONIA/person1363_bacteria_3483.jpeg\n",
            "/content/data_used/PNEUMONIA/person986_bacteria_2913.jpeg\n",
            "/content/data_used/PNEUMONIA/person659_virus_1243.jpeg\n",
            "/content/data_used/PNEUMONIA/person516_virus_1033.jpeg\n",
            "/content/data_used/PNEUMONIA/person787_bacteria_2691.jpeg\n",
            "/content/data_used/PNEUMONIA/person298_bacteria_1413.jpeg\n",
            "/content/data_used/PNEUMONIA/person1706_bacteria_4516.jpeg\n",
            "/content/data_used/PNEUMONIA/person589_bacteria_2424.jpeg\n",
            "/content/data_used/PNEUMONIA/person426_bacteria_1861.jpeg\n",
            "/content/data_used/PNEUMONIA/person1455_virus_2492.jpeg\n",
            "/content/data_used/PNEUMONIA/person371_virus_754.jpeg\n",
            "/content/data_used/PNEUMONIA/person1059_bacteria_2993.jpeg\n",
            "/content/data_used/PNEUMONIA/person611_bacteria_2476.jpeg\n",
            "/content/data_used/PNEUMONIA/person1460_virus_2509.jpeg\n",
            "/content/data_used/PNEUMONIA/person450_virus_931.jpeg\n",
            "/content/data_used/PNEUMONIA/person1236_virus_2096.jpeg\n",
            "/content/data_used/PNEUMONIA/person592_virus_1141.jpeg\n",
            "/content/data_used/PNEUMONIA/person607_bacteria_2470.jpeg\n",
            "/content/data_used/PNEUMONIA/person260_virus_541.jpeg\n",
            "/content/data_used/PNEUMONIA/person1045_virus_1741.jpeg\n",
            "/content/data_used/PNEUMONIA/person1318_bacteria_3335.jpeg\n",
            "/content/data_used/PNEUMONIA/person392_virus_782.jpeg\n",
            "/content/data_used/PNEUMONIA/person12_bacteria_47.jpeg\n",
            "/content/data_used/PNEUMONIA/person556_virus_1096.jpeg\n",
            "/content/data_used/PNEUMONIA/person1698_bacteria_4497.jpeg\n",
            "/content/data_used/PNEUMONIA/person666_virus_1251.jpeg\n",
            "/content/data_used/PNEUMONIA/person1044_virus_1740.jpeg\n",
            "/content/data_used/PNEUMONIA/person574_bacteria_2370.jpeg\n",
            "/content/data_used/PNEUMONIA/person510_virus_1026.jpeg\n",
            "/content/data_used/PNEUMONIA/person1517_virus_2644.jpeg\n",
            "/content/data_used/PNEUMONIA/person379_virus_762.jpeg\n",
            "/content/data_used/PNEUMONIA/person1268_bacteria_3227.jpeg\n",
            "/content/data_used/PNEUMONIA/person1257_bacteria_3215.jpeg\n",
            "/content/data_used/PNEUMONIA/person64_bacteria_318.jpeg\n",
            "/content/data_used/PNEUMONIA/person1391_bacteria_3537.jpeg\n",
            "/content/data_used/PNEUMONIA/person62_virus_119.jpeg\n",
            "/content/data_used/PNEUMONIA/person38_bacteria_191.jpeg\n",
            "/content/data_used/PNEUMONIA/person1483_virus_2574.jpeg\n",
            "/content/data_used/PNEUMONIA/person349_bacteria_1607.jpeg\n",
            "/content/data_used/PNEUMONIA/person498_bacteria_2101.jpeg\n",
            "/content/data_used/PNEUMONIA/person1286_virus_2209.jpeg\n",
            "/content/data_used/PNEUMONIA/person280_bacteria_1320.jpeg\n",
            "/content/data_used/PNEUMONIA/person361_bacteria_1651.jpeg\n",
            "/content/data_used/PNEUMONIA/person1576_bacteria_4121.jpeg\n",
            "/content/data_used/PNEUMONIA/person370_bacteria_1691.jpeg\n",
            "/content/data_used/PNEUMONIA/person1480_virus_2566.jpeg\n",
            "/content/data_used/PNEUMONIA/person544_bacteria_2286.jpeg\n",
            "/content/data_used/PNEUMONIA/person1934_bacteria_4846.jpeg\n",
            "/content/data_used/PNEUMONIA/person61_bacteria_295.jpeg\n",
            "/content/data_used/PNEUMONIA/person1433_bacteria_3701.jpeg\n",
            "/content/data_used/PNEUMONIA/person1476_virus_2560.jpeg\n",
            "/content/data_used/PNEUMONIA/person1888_bacteria_4775.jpeg\n",
            "/content/data_used/PNEUMONIA/person448_bacteria_1935.jpeg\n",
            "/content/data_used/PNEUMONIA/person1924_bacteria_4832.jpeg\n",
            "/content/data_used/PNEUMONIA/person406_bacteria_1818.jpeg\n",
            "/content/data_used/PNEUMONIA/person1583_bacteria_4144.jpeg\n",
            "/content/data_used/PNEUMONIA/person338_bacteria_1568.jpeg\n",
            "/content/data_used/PNEUMONIA/person678_bacteria_2572.jpeg\n",
            "/content/data_used/PNEUMONIA/person942_virus_1611.jpeg\n",
            "/content/data_used/PNEUMONIA/person110_virus_206.jpeg\n",
            "/content/data_used/PNEUMONIA/person1627_virus_2819.jpeg\n",
            "/content/data_used/PNEUMONIA/person457_virus_944.jpeg\n",
            "/content/data_used/PNEUMONIA/person553_bacteria_2316.jpeg\n",
            "/content/data_used/PNEUMONIA/person1652_bacteria_4383.jpeg\n",
            "/content/data_used/PNEUMONIA/person101_virus_188.jpeg\n",
            "/content/data_used/PNEUMONIA/person1614_bacteria_4248.jpeg\n",
            "/content/data_used/PNEUMONIA/person895_virus_1547.jpeg\n",
            "/content/data_used/PNEUMONIA/person1103_bacteria_3044.jpeg\n",
            "/content/data_used/PNEUMONIA/person7_bacteria_24.jpeg\n",
            "/content/data_used/PNEUMONIA/person259_virus_540.jpeg\n",
            "/content/data_used/PNEUMONIA/person980_bacteria_2906.jpeg\n",
            "/content/data_used/PNEUMONIA/person1518_bacteria_3969.jpeg\n",
            "/content/data_used/PNEUMONIA/person1287_bacteria_3250.jpeg\n",
            "/content/data_used/PNEUMONIA/person813_virus_1449.jpeg\n",
            "/content/data_used/PNEUMONIA/person703_bacteria_2602.jpeg\n",
            "/content/data_used/PNEUMONIA/person1496_bacteria_3911.jpeg\n",
            "/content/data_used/PNEUMONIA/person605_bacteria_2464.jpeg\n",
            "/content/data_used/PNEUMONIA/person1576_bacteria_4126.jpeg\n",
            "/content/data_used/PNEUMONIA/person998_bacteria_2927.jpeg\n",
            "/content/data_used/PNEUMONIA/person85_bacteria_417.jpeg\n",
            "/content/data_used/PNEUMONIA/person549_bacteria_2304.jpeg\n",
            "/content/data_used/PNEUMONIA/person730_virus_1351.jpeg\n",
            "/content/data_used/PNEUMONIA/person890_virus_1540.jpeg\n",
            "/content/data_used/PNEUMONIA/person508_bacteria_2143.jpeg\n",
            "/content/data_used/PNEUMONIA/person1336_virus_2306.jpeg\n",
            "/content/data_used/PNEUMONIA/person740_virus_1362.jpeg\n",
            "/content/data_used/PNEUMONIA/person30_bacteria_155.jpeg\n",
            "/content/data_used/PNEUMONIA/person1931_bacteria_4842.jpeg\n",
            "/content/data_used/PNEUMONIA/person1085_bacteria_3025.jpeg\n",
            "/content/data_used/PNEUMONIA/person529_bacteria_2228.jpeg\n",
            "/content/data_used/PNEUMONIA/person26_bacteria_129.jpeg\n",
            "/content/data_used/PNEUMONIA/person498_virus_1007.jpeg\n",
            "/content/data_used/PNEUMONIA/person77_virus_139.jpeg\n",
            "/content/data_used/PNEUMONIA/person994_bacteria_2922.jpeg\n",
            "/content/data_used/PNEUMONIA/person1247_bacteria_3203.jpeg\n",
            "/content/data_used/PNEUMONIA/person155_bacteria_729.jpeg\n",
            "/content/data_used/PNEUMONIA/person1308_bacteria_3290.jpeg\n",
            "/content/data_used/PNEUMONIA/person1350_virus_2329.jpeg\n",
            "/content/data_used/PNEUMONIA/person1283_virus_2206.jpeg\n",
            "/content/data_used/PNEUMONIA/person1493_bacteria_3897.jpeg\n",
            "/content/data_used/PNEUMONIA/person1875_bacteria_4756.jpeg\n",
            "/content/data_used/PNEUMONIA/person1644_bacteria_4362.jpeg\n",
            "/content/data_used/PNEUMONIA/person1088_bacteria_3028.jpeg\n",
            "/content/data_used/PNEUMONIA/person343_virus_704.jpeg\n",
            "/content/data_used/PNEUMONIA/person66_bacteria_323.jpeg\n",
            "/content/data_used/PNEUMONIA/person355_virus_731.jpeg\n",
            "/content/data_used/PNEUMONIA/person406_bacteria_1820.jpeg\n",
            "/content/data_used/PNEUMONIA/person579_bacteria_2383.jpeg\n",
            "/content/data_used/PNEUMONIA/person1779_bacteria_4626.jpeg\n",
            "/content/data_used/PNEUMONIA/person1503_virus_2613.jpeg\n",
            "/content/data_used/PNEUMONIA/person1024_virus_1716.jpeg\n",
            "/content/data_used/PNEUMONIA/person769_bacteria_2673.jpeg\n",
            "/content/data_used/PNEUMONIA/person61_bacteria_289.jpeg\n",
            "/content/data_used/PNEUMONIA/person1663_virus_2876.jpeg\n",
            "/content/data_used/PNEUMONIA/person565_virus_1105.jpeg\n",
            "/content/data_used/PNEUMONIA/person1353_virus_2333.jpeg\n",
            "/content/data_used/PNEUMONIA/person301_bacteria_1428.jpeg\n",
            "/content/data_used/PNEUMONIA/person445_virus_919.jpeg\n",
            "/content/data_used/PNEUMONIA/person1453_bacteria_3771.jpeg\n",
            "/content/data_used/PNEUMONIA/person602_bacteria_2460.jpeg\n",
            "/content/data_used/PNEUMONIA/person630_virus_1209.jpeg\n",
            "/content/data_used/PNEUMONIA/person1502_bacteria_3928.jpeg\n",
            "/content/data_used/PNEUMONIA/person1562_bacteria_4087.jpeg\n",
            "/content/data_used/PNEUMONIA/person1497_virus_2607.jpeg\n",
            "/content/data_used/PNEUMONIA/person124_virus_251.jpeg\n",
            "/content/data_used/PNEUMONIA/person1269_bacteria_3229.jpeg\n",
            "/content/data_used/PNEUMONIA/person348_virus_723.jpeg\n",
            "/content/data_used/PNEUMONIA/person524_virus_1045.jpeg\n",
            "/content/data_used/PNEUMONIA/person371_bacteria_1694.jpeg\n",
            "/content/data_used/PNEUMONIA/person443_virus_908.jpeg\n",
            "/content/data_used/PNEUMONIA/person605_bacteria_2467.jpeg\n",
            "/content/data_used/PNEUMONIA/person1730_bacteria_4559.jpeg\n",
            "/content/data_used/PNEUMONIA/person1625_bacteria_4290.jpeg\n",
            "/content/data_used/PNEUMONIA/person1670_bacteria_4430.jpeg\n",
            "/content/data_used/PNEUMONIA/person945_bacteria_2870.jpeg\n",
            "/content/data_used/PNEUMONIA/person617_bacteria_2488.jpeg\n",
            "/content/data_used/PNEUMONIA/person113_bacteria_543.jpeg\n",
            "/content/data_used/PNEUMONIA/person142_bacteria_682.jpeg\n",
            "/content/data_used/PNEUMONIA/person549_bacteria_2306.jpeg\n",
            "/content/data_used/PNEUMONIA/person338_virus_694.jpeg\n",
            "/content/data_used/PNEUMONIA/person506_bacteria_2138.jpeg\n",
            "/content/data_used/PNEUMONIA/person510_bacteria_2147.jpeg\n",
            "/content/data_used/PNEUMONIA/person67_bacteria_329.jpeg\n",
            "/content/data_used/PNEUMONIA/person174_bacteria_832.jpeg\n",
            "/content/data_used/PNEUMONIA/person465_bacteria_1981.jpeg\n",
            "/content/data_used/PNEUMONIA/person629_bacteria_2508.jpeg\n",
            "/content/data_used/PNEUMONIA/person468_virus_963.jpeg\n",
            "/content/data_used/PNEUMONIA/person94_bacteria_456.jpeg\n",
            "/content/data_used/PNEUMONIA/person588_virus_1134.jpeg\n",
            "/content/data_used/PNEUMONIA/person139_bacteria_665.jpeg\n",
            "/content/data_used/PNEUMONIA/person612_virus_1179.jpeg\n",
            "/content/data_used/PNEUMONIA/person1480_bacteria_3859.jpeg\n",
            "/content/data_used/PNEUMONIA/person1403_virus_2406.jpeg\n",
            "/content/data_used/PNEUMONIA/person643_bacteria_2534.jpeg\n",
            "/content/data_used/PNEUMONIA/person1484_virus_2576.jpeg\n",
            "/content/data_used/PNEUMONIA/person61_bacteria_297.jpeg\n",
            "/content/data_used/PNEUMONIA/person1258_virus_2138.jpeg\n",
            "/content/data_used/PNEUMONIA/person23_bacteria_92.jpeg\n",
            "/content/data_used/PNEUMONIA/person1306_bacteria_3272.jpeg\n",
            "/content/data_used/PNEUMONIA/person1683_bacteria_4460.jpeg\n",
            "/content/data_used/PNEUMONIA/person401_virus_795.jpeg\n",
            "/content/data_used/PNEUMONIA/person1721_bacteria_4546.jpeg\n",
            "/content/data_used/PNEUMONIA/person368_bacteria_1667.jpeg\n",
            "/content/data_used/PNEUMONIA/person721_bacteria_2623.jpeg\n",
            "/content/data_used/PNEUMONIA/person1618_bacteria_4258.jpeg\n",
            "/content/data_used/PNEUMONIA/person125_virus_254.jpeg\n",
            "/content/data_used/PNEUMONIA/person1673_bacteria_4434.jpeg\n",
            "/content/data_used/PNEUMONIA/person581_bacteria_2395.jpeg\n",
            "/content/data_used/PNEUMONIA/person1220_bacteria_3174.jpeg\n",
            "/content/data_used/PNEUMONIA/person91_bacteria_448.jpeg\n",
            "/content/data_used/PNEUMONIA/person1337_virus_2307.jpeg\n",
            "/content/data_used/PNEUMONIA/person810_virus_1445.jpeg\n",
            "/content/data_used/PNEUMONIA/person1551_virus_2692.jpeg\n",
            "/content/data_used/PNEUMONIA/person1523_bacteria_3980.jpeg\n",
            "/content/data_used/PNEUMONIA/person28_bacteria_139.jpeg\n",
            "/content/data_used/PNEUMONIA/person1612_virus_2797.jpeg\n",
            "/content/data_used/PNEUMONIA/person512_bacteria_2154.jpeg\n",
            "/content/data_used/PNEUMONIA/person1576_bacteria_4127.jpeg\n",
            "/content/data_used/PNEUMONIA/person71_bacteria_347.jpeg\n",
            "/content/data_used/PNEUMONIA/person64_bacteria_317.jpeg\n",
            "/content/data_used/PNEUMONIA/person538_virus_1068.jpeg\n",
            "/content/data_used/PNEUMONIA/person332_bacteria_1535.jpeg\n",
            "/content/data_used/PNEUMONIA/person356_virus_733.jpeg\n",
            "/content/data_used/PNEUMONIA/person326_bacteria_1507.jpeg\n",
            "/content/data_used/PNEUMONIA/person146_bacteria_703.jpeg\n",
            "/content/data_used/PNEUMONIA/person83_bacteria_409.jpeg\n",
            "/content/data_used/PNEUMONIA/person442_virus_899.jpeg\n",
            "/content/data_used/PNEUMONIA/person1951_bacteria_4882.jpeg\n",
            "/content/data_used/PNEUMONIA/person1040_virus_1735.jpeg\n",
            "/content/data_used/PNEUMONIA/person1530_virus_2664.jpeg\n",
            "/content/data_used/PNEUMONIA/person470_bacteria_2002.jpeg\n",
            "/content/data_used/PNEUMONIA/person1180_bacteria_3128.jpeg\n",
            "/content/data_used/PNEUMONIA/person917_bacteria_2842.jpeg\n",
            "/content/data_used/PNEUMONIA/person1375_bacteria_3510.jpeg\n",
            "/content/data_used/PNEUMONIA/person1863_bacteria_4735.jpeg\n",
            "/content/data_used/PNEUMONIA/person1450_bacteria_3753.jpeg\n",
            "/content/data_used/PNEUMONIA/person972_bacteria_2897.jpeg\n",
            "/content/data_used/PNEUMONIA/person495_virus_1001.jpeg\n",
            "/content/data_used/PNEUMONIA/person100_bacteria_478.jpeg\n",
            "/content/data_used/PNEUMONIA/person346_virus_708.jpeg\n",
            "/content/data_used/PNEUMONIA/person936_bacteria_2861.jpeg\n",
            "/content/data_used/PNEUMONIA/person87_bacteria_433.jpeg\n",
            "/content/data_used/PNEUMONIA/person827_bacteria_2738.jpeg\n",
            "/content/data_used/PNEUMONIA/person512_bacteria_2155.jpeg\n",
            "/content/data_used/PNEUMONIA/person407_virus_814.jpeg\n",
            "/content/data_used/PNEUMONIA/person1446_bacteria_3737.jpeg\n",
            "/content/data_used/PNEUMONIA/person364_bacteria_1656.jpeg\n",
            "/content/data_used/PNEUMONIA/person383_bacteria_1747.jpeg\n",
            "/content/data_used/PNEUMONIA/person1454_bacteria_3780.jpeg\n",
            "/content/data_used/PNEUMONIA/person1333_bacteria_3386.jpeg\n",
            "/content/data_used/PNEUMONIA/person22_virus_54.jpeg\n",
            "/content/data_used/PNEUMONIA/person580_bacteria_2388.jpeg\n",
            "/content/data_used/PNEUMONIA/person55_bacteria_261.jpeg\n",
            "/content/data_used/PNEUMONIA/person141_bacteria_670.jpeg\n",
            "/content/data_used/PNEUMONIA/person321_bacteria_1488.jpeg\n",
            "/content/data_used/PNEUMONIA/person41_bacteria_207.jpeg\n",
            "/content/data_used/PNEUMONIA/person294_bacteria_1388.jpeg\n",
            "/content/data_used/PNEUMONIA/person95_bacteria_463.jpeg\n",
            "/content/data_used/PNEUMONIA/person25_bacteria_115.jpeg\n",
            "/content/data_used/PNEUMONIA/person612_bacteria_2478.jpeg\n",
            "/content/data_used/PNEUMONIA/person1599_bacteria_4200.jpeg\n",
            "/content/data_used/PNEUMONIA/person518_virus_1036.jpeg\n",
            "/content/data_used/PNEUMONIA/person1296_virus_2224.jpeg\n",
            "/content/data_used/PNEUMONIA/person1267_virus_2160.jpeg\n",
            "/content/data_used/PNEUMONIA/person60_virus_117.jpeg\n",
            "/content/data_used/PNEUMONIA/person794_bacteria_2700.jpeg\n",
            "/content/data_used/PNEUMONIA/person1019_virus_1707.jpeg\n",
            "/content/data_used/PNEUMONIA/person1348_virus_2324.jpeg\n",
            "/content/data_used/PNEUMONIA/person911_bacteria_2836.jpeg\n",
            "/content/data_used/PNEUMONIA/person1684_bacteria_4461.jpeg\n",
            "/content/data_used/PNEUMONIA/person1328_virus_2294.jpeg\n",
            "/content/data_used/PNEUMONIA/person934_virus_1595.jpeg\n",
            "/content/data_used/PNEUMONIA/person748_virus_1373.jpeg\n",
            "/content/data_used/PNEUMONIA/person405_virus_805.jpeg\n",
            "/content/data_used/PNEUMONIA/person1507_bacteria_3935.jpeg\n",
            "/content/data_used/PNEUMONIA/person545_bacteria_2290.jpeg\n",
            "/content/data_used/PNEUMONIA/person1100_bacteria_3041.jpeg\n",
            "/content/data_used/PNEUMONIA/person1696_bacteria_4495.jpeg\n",
            "/content/data_used/PNEUMONIA/person897_bacteria_2822.jpeg\n",
            "/content/data_used/PNEUMONIA/person1076_bacteria_3016.jpeg\n",
            "/content/data_used/PNEUMONIA/person1233_bacteria_3188.jpeg\n",
            "/content/data_used/PNEUMONIA/person441_bacteria_1912.jpeg\n",
            "/content/data_used/PNEUMONIA/person1459_virus_2506.jpeg\n",
            "/content/data_used/PNEUMONIA/person601_bacteria_2459.jpeg\n",
            "/content/data_used/PNEUMONIA/person439_bacteria_1895.jpeg\n",
            "/content/data_used/PNEUMONIA/person420_bacteria_1851.jpeg\n",
            "/content/data_used/PNEUMONIA/person915_virus_1572.jpeg\n",
            "/content/data_used/PNEUMONIA/person1065_virus_1768.jpeg\n",
            "/content/data_used/PNEUMONIA/person1908_bacteria_4811.jpeg\n",
            "/content/data_used/PNEUMONIA/person1689_bacteria_4472.jpeg\n",
            "/content/data_used/PNEUMONIA/person564_bacteria_2343.jpeg\n",
            "/content/data_used/PNEUMONIA/person76_bacteria_372.jpeg\n",
            "/content/data_used/PNEUMONIA/person382_bacteria_1741.jpeg\n",
            "/content/data_used/PNEUMONIA/person373_bacteria_1708.jpeg\n",
            "/content/data_used/PNEUMONIA/person645_virus_1226.jpeg\n",
            "/content/data_used/PNEUMONIA/person514_bacteria_2184.jpeg\n",
            "/content/data_used/PNEUMONIA/person536_virus_1064.jpeg\n",
            "/content/data_used/PNEUMONIA/person119_bacteria_566.jpeg\n",
            "/content/data_used/PNEUMONIA/person386_virus_771.jpeg\n",
            "/content/data_used/PNEUMONIA/person947_bacteria_2872.jpeg\n",
            "/content/data_used/PNEUMONIA/person23_bacteria_99.jpeg\n",
            "/content/data_used/PNEUMONIA/person1455_virus_2490.jpeg\n",
            "/content/data_used/PNEUMONIA/person398_bacteria_1801.jpeg\n",
            "/content/data_used/PNEUMONIA/person1281_virus_2204.jpeg\n",
            "/content/data_used/PNEUMONIA/person529_bacteria_2230.jpeg\n",
            "/content/data_used/PNEUMONIA/person1158_virus_1938.jpeg\n",
            "/content/data_used/PNEUMONIA/person1234_bacteria_3189.jpeg\n",
            "/content/data_used/PNEUMONIA/person1597_bacteria_4193.jpeg\n",
            "/content/data_used/PNEUMONIA/person1411_bacteria_3599.jpeg\n",
            "/content/data_used/PNEUMONIA/person1352_bacteria_3443.jpeg\n",
            "/content/data_used/PNEUMONIA/person593_bacteria_2435.jpeg\n",
            "/content/data_used/PNEUMONIA/person50_bacteria_238.jpeg\n",
            "/content/data_used/PNEUMONIA/person148_virus_298.jpeg\n",
            "/content/data_used/PNEUMONIA/person1310_virus_2255.jpeg\n",
            "/content/data_used/PNEUMONIA/person469_virus_965.jpeg\n",
            "/content/data_used/PNEUMONIA/person1147_virus_1917.jpeg\n",
            "/content/data_used/PNEUMONIA/person281_bacteria_1323.jpeg\n",
            "/content/data_used/PNEUMONIA/person413_bacteria_1828.jpeg\n",
            "/content/data_used/PNEUMONIA/person1045_bacteria_2979.jpeg\n",
            "/content/data_used/PNEUMONIA/person1423_bacteria_3650.jpeg\n",
            "/content/data_used/PNEUMONIA/person515_bacteria_2190.jpeg\n",
            "/content/data_used/PNEUMONIA/person1468_virus_2545.jpeg\n",
            "/content/data_used/PNEUMONIA/person294_bacteria_1382.jpeg\n",
            "/content/data_used/PNEUMONIA/person89_virus_168.jpeg\n",
            "/content/data_used/PNEUMONIA/person1162_virus_1950.jpeg\n",
            "/content/data_used/PNEUMONIA/person454_bacteria_1945.jpeg\n",
            "/content/data_used/PNEUMONIA/person1234_bacteria_3190.jpeg\n",
            "/content/data_used/PNEUMONIA/person1426_bacteria_3667.jpeg\n",
            "/content/data_used/PNEUMONIA/person754_virus_1379.jpeg\n",
            "/content/data_used/PNEUMONIA/person65_virus_123.jpeg\n",
            "/content/data_used/PNEUMONIA/person373_bacteria_1709.jpeg\n",
            "/content/data_used/PNEUMONIA/person441_bacteria_1911.jpeg\n",
            "/content/data_used/PNEUMONIA/person1292_bacteria_3255.jpeg\n",
            "/content/data_used/PNEUMONIA/person1172_bacteria_3119.jpeg\n",
            "/content/data_used/PNEUMONIA/person49_bacteria_236.jpeg\n",
            "/content/data_used/PNEUMONIA/person579_bacteria_2381.jpeg\n",
            "/content/data_used/PNEUMONIA/person1637_virus_2834.jpeg\n",
            "/content/data_used/PNEUMONIA/person49_virus_101.jpeg\n",
            "/content/data_used/PNEUMONIA/person382_bacteria_1742.jpeg\n",
            "/content/data_used/PNEUMONIA/person585_bacteria_2416.jpeg\n",
            "/content/data_used/PNEUMONIA/person1777_bacteria_4622.jpeg\n",
            "/content/data_used/PNEUMONIA/person1551_bacteria_4053.jpeg\n",
            "/content/data_used/PNEUMONIA/person17_bacteria_56.jpeg\n",
            "/content/data_used/PNEUMONIA/person1017_bacteria_2948.jpeg\n",
            "/content/data_used/PNEUMONIA/person996_virus_1677.jpeg\n",
            "/content/data_used/PNEUMONIA/person651_bacteria_2543.jpeg\n",
            "/content/data_used/PNEUMONIA/person525_bacteria_2220.jpeg\n",
            "/content/data_used/PNEUMONIA/person500_bacteria_2111.jpeg\n",
            "/content/data_used/PNEUMONIA/person1799_bacteria_4647.jpeg\n",
            "/content/data_used/PNEUMONIA/person427_virus_875.jpeg\n",
            "/content/data_used/PNEUMONIA/person618_bacteria_2489.jpeg\n",
            "/content/data_used/PNEUMONIA/person123_virus_230.jpeg\n",
            "/content/data_used/PNEUMONIA/person627_virus_1204.jpeg\n",
            "/content/data_used/PNEUMONIA/person256_bacteria_1189.jpeg\n",
            "/content/data_used/PNEUMONIA/person1349_bacteria_3438.jpeg\n",
            "/content/data_used/PNEUMONIA/person537_bacteria_2265.jpeg\n",
            "/content/data_used/PNEUMONIA/person969_bacteria_2894.jpeg\n",
            "/content/data_used/PNEUMONIA/person82_bacteria_403.jpeg\n",
            "/content/data_used/PNEUMONIA/person441_bacteria_1917.jpeg\n",
            "/content/data_used/PNEUMONIA/person385_virus_770.jpeg\n",
            "/content/data_used/PNEUMONIA/person527_bacteria_2226.jpeg\n",
            "/content/data_used/PNEUMONIA/person501_bacteria_2112.jpeg\n",
            "/content/data_used/PNEUMONIA/person799_virus_1431.jpeg\n",
            "/content/data_used/PNEUMONIA/person919_virus_1576.jpeg\n",
            "/content/data_used/PNEUMONIA/person1180_virus_2014.jpeg\n",
            "/content/data_used/PNEUMONIA/person727_virus_1347.jpeg\n",
            "/content/data_used/PNEUMONIA/person503_bacteria_2126.jpeg\n",
            "/content/data_used/PNEUMONIA/person293_virus_604.jpeg\n",
            "/content/data_used/PNEUMONIA/person1631_virus_2826.jpeg\n",
            "/content/data_used/PNEUMONIA/person1463_virus_2516.jpeg\n",
            "/content/data_used/PNEUMONIA/person122_bacteria_582.jpeg\n",
            "/content/data_used/PNEUMONIA/person369_bacteria_1680.jpeg\n",
            "/content/data_used/PNEUMONIA/person441_bacteria_1916.jpeg\n",
            "/content/data_used/PNEUMONIA/person157_bacteria_739.jpeg\n",
            "/content/data_used/PNEUMONIA/person1803_bacteria_4652.jpeg\n",
            "/content/data_used/PNEUMONIA/person597_virus_1150.jpeg\n",
            "/content/data_used/PNEUMONIA/person623_bacteria_2495.jpeg\n",
            "/content/data_used/PNEUMONIA/person21_bacteria_73.jpeg\n",
            "/content/data_used/PNEUMONIA/person1409_bacteria_3585.jpeg\n",
            "/content/data_used/PNEUMONIA/person314_bacteria_1462.jpeg\n",
            "/content/data_used/PNEUMONIA/person630_bacteria_2514.jpeg\n",
            "/content/data_used/PNEUMONIA/person1145_virus_1905.jpeg\n",
            "/content/data_used/PNEUMONIA/person1051_bacteria_2985.jpeg\n",
            "/content/data_used/PNEUMONIA/person1812_bacteria_4667.jpeg\n",
            "/content/data_used/PNEUMONIA/person101_bacteria_485.jpeg\n",
            "/content/data_used/PNEUMONIA/person88_virus_161.jpeg\n",
            "/content/data_used/PNEUMONIA/person307_virus_629.jpeg\n",
            "/content/data_used/PNEUMONIA/person1097_bacteria_3038.jpeg\n",
            "/content/data_used/PNEUMONIA/person477_bacteria_2028.jpeg\n",
            "/content/data_used/PNEUMONIA/person839_bacteria_2757.jpeg\n",
            "/content/data_used/PNEUMONIA/person1638_bacteria_4341.jpeg\n",
            "/content/data_used/PNEUMONIA/person502_bacteria_2118.jpeg\n",
            "/content/data_used/PNEUMONIA/person816_bacteria_2727.jpeg\n",
            "/content/data_used/PNEUMONIA/person1454_bacteria_3778.jpeg\n",
            "/content/data_used/PNEUMONIA/person113_virus_216.jpeg\n",
            "/content/data_used/PNEUMONIA/person173_bacteria_830.jpeg\n",
            "/content/data_used/PNEUMONIA/person1725_bacteria_4550.jpeg\n",
            "/content/data_used/PNEUMONIA/person265_virus_548.jpeg\n",
            "/content/data_used/PNEUMONIA/person485_bacteria_2049.jpeg\n",
            "/content/data_used/PNEUMONIA/person86_virus_159.jpeg\n",
            "/content/data_used/PNEUMONIA/person552_bacteria_2315.jpeg\n",
            "/content/data_used/PNEUMONIA/person126_bacteria_598.jpeg\n",
            "/content/data_used/PNEUMONIA/person920_virus_1577.jpeg\n",
            "/content/data_used/PNEUMONIA/person1507_bacteria_3946.jpeg\n",
            "/content/data_used/PNEUMONIA/person3_virus_15.jpeg\n",
            "/content/data_used/PNEUMONIA/person895_bacteria_2820.jpeg\n",
            "/content/data_used/PNEUMONIA/person881_bacteria_2805.jpeg\n",
            "/content/data_used/PNEUMONIA/person1642_bacteria_4352.jpeg\n",
            "/content/data_used/PNEUMONIA/person445_virus_915.jpeg\n",
            "/content/data_used/PNEUMONIA/person1482_virus_2570.jpeg\n",
            "/content/data_used/PNEUMONIA/person924_virus_1581.jpeg\n",
            "/content/data_used/PNEUMONIA/person985_bacteria_2912.jpeg\n",
            "/content/data_used/PNEUMONIA/person1534_virus_2670.jpeg\n",
            "/content/data_used/PNEUMONIA/person1217_virus_2063.jpeg\n",
            "/content/data_used/PNEUMONIA/person1732_bacteria_4564.jpeg\n",
            "/content/data_used/PNEUMONIA/person293_bacteria_1379.jpeg\n",
            "/content/data_used/PNEUMONIA/person1619_virus_2806.jpeg\n",
            "/content/data_used/PNEUMONIA/person981_bacteria_2908.jpeg\n",
            "/content/data_used/PNEUMONIA/person1408_bacteria_3579.jpeg\n",
            "/content/data_used/PNEUMONIA/person25_bacteria_116.jpeg\n",
            "/content/data_used/PNEUMONIA/person1418_bacteria_3643.jpeg\n",
            "/content/data_used/PNEUMONIA/person740_bacteria_2643.jpeg\n",
            "/content/data_used/PNEUMONIA/person449_bacteria_1939.jpeg\n",
            "/content/data_used/PNEUMONIA/person1080_virus_1791.jpeg\n",
            "/content/data_used/PNEUMONIA/person1486_bacteria_3884.jpeg\n",
            "/content/data_used/PNEUMONIA/person629_bacteria_2509.jpeg\n",
            "/content/data_used/PNEUMONIA/person713_bacteria_2614.jpeg\n",
            "/content/data_used/PNEUMONIA/person1412_bacteria_3612.jpeg\n",
            "/content/data_used/PNEUMONIA/person23_bacteria_97.jpeg\n",
            "/content/data_used/PNEUMONIA/person1_virus_13.jpeg\n",
            "/content/data_used/PNEUMONIA/person1268_virus_2161.jpeg\n",
            "/content/data_used/PNEUMONIA/person980_virus_1655.jpeg\n",
            "/content/data_used/PNEUMONIA/person854_bacteria_2776.jpeg\n",
            "/content/data_used/PNEUMONIA/person780_bacteria_2684.jpeg\n",
            "/content/data_used/PNEUMONIA/person486_bacteria_2053.jpeg\n",
            "/content/data_used/PNEUMONIA/person371_bacteria_1702.jpeg\n",
            "/content/data_used/PNEUMONIA/person808_bacteria_2716.jpeg\n",
            "/content/data_used/PNEUMONIA/person1310_bacteria_3295.jpeg\n",
            "/content/data_used/PNEUMONIA/person817_bacteria_2728.jpeg\n",
            "/content/data_used/PNEUMONIA/person1074_bacteria_3012.jpeg\n",
            "/content/data_used/PNEUMONIA/person382_bacteria_1740.jpeg\n",
            "/content/data_used/PNEUMONIA/person539_bacteria_2270.jpeg\n",
            "/content/data_used/PNEUMONIA/person119_virus_225.jpeg\n",
            "/content/data_used/PNEUMONIA/person1556_bacteria_4062.jpeg\n",
            "/content/data_used/PNEUMONIA/person33_bacteria_173.jpeg\n",
            "/content/data_used/PNEUMONIA/person938_bacteria_2863.jpeg\n",
            "/content/data_used/PNEUMONIA/person1216_bacteria_3168.jpeg\n",
            "/content/data_used/PNEUMONIA/person52_virus_106.jpeg\n",
            "/content/data_used/PNEUMONIA/person419_virus_861.jpeg\n",
            "/content/data_used/PNEUMONIA/person798_virus_1430.jpeg\n",
            "/content/data_used/PNEUMONIA/person139_bacteria_666.jpeg\n",
            "/content/data_used/PNEUMONIA/person402_virus_801.jpeg\n",
            "/content/data_used/PNEUMONIA/person305_bacteria_1435.jpeg\n",
            "/content/data_used/PNEUMONIA/person1440_bacteria_3723.jpeg\n",
            "/content/data_used/PNEUMONIA/person391_bacteria_1782.jpeg\n",
            "/content/data_used/PNEUMONIA/person796_bacteria_2702.jpeg\n",
            "/content/data_used/PNEUMONIA/person1414_virus_2424.jpeg\n",
            "/content/data_used/PNEUMONIA/person534_bacteria_2251.jpeg\n",
            "/content/data_used/PNEUMONIA/person574_bacteria_2371.jpeg\n",
            "/content/data_used/PNEUMONIA/person326_bacteria_1505.jpeg\n",
            "/content/data_used/PNEUMONIA/person399_bacteria_1806.jpeg\n",
            "/content/data_used/PNEUMONIA/person702_virus_1299.jpeg\n",
            "/content/data_used/PNEUMONIA/person1877_bacteria_4761.jpeg\n",
            "/content/data_used/PNEUMONIA/person1147_virus_1919.jpeg\n",
            "/content/data_used/PNEUMONIA/person39_bacteria_198.jpeg\n",
            "/content/data_used/PNEUMONIA/person275_bacteria_1291.jpeg\n",
            "/content/data_used/PNEUMONIA/person1310_bacteria_3301.jpeg\n",
            "/content/data_used/PNEUMONIA/person1056_virus_1755.jpeg\n",
            "/content/data_used/PNEUMONIA/person1262_bacteria_3220.jpeg\n",
            "/content/data_used/PNEUMONIA/person987_bacteria_2914.jpeg\n",
            "/content/data_used/PNEUMONIA/person1535_bacteria_4016.jpeg\n",
            "/content/data_used/PNEUMONIA/person109_bacteria_523.jpeg\n",
            "/content/data_used/PNEUMONIA/person1224_virus_2074.jpeg\n",
            "/content/data_used/PNEUMONIA/person1585_bacteria_4149.jpeg\n",
            "/content/data_used/PNEUMONIA/person669_bacteria_2561.jpeg\n",
            "/content/data_used/PNEUMONIA/person1343_bacteria_3409.jpeg\n",
            "/content/data_used/PNEUMONIA/person606_bacteria_2469.jpeg\n",
            "/content/data_used/PNEUMONIA/person124_virus_250.jpeg\n",
            "/content/data_used/PNEUMONIA/person1667_bacteria_4417.jpeg\n",
            "/content/data_used/PNEUMONIA/person102_bacteria_487.jpeg\n",
            "/content/data_used/PNEUMONIA/person1279_bacteria_3242.jpeg\n",
            "/content/data_used/PNEUMONIA/person586_virus_1130.jpeg\n",
            "/content/data_used/PNEUMONIA/person1858_bacteria_4730.jpeg\n",
            "/content/data_used/PNEUMONIA/person1510_virus_2628.jpeg\n",
            "/content/data_used/PNEUMONIA/person153_bacteria_726.jpeg\n",
            "/content/data_used/PNEUMONIA/person1937_bacteria_4853.jpeg\n",
            "/content/data_used/PNEUMONIA/person109_bacteria_517.jpeg\n",
            "/content/data_used/PNEUMONIA/person978_virus_1653.jpeg\n",
            "/content/data_used/PNEUMONIA/person1251_bacteria_3208.jpeg\n",
            "/content/data_used/PNEUMONIA/person557_bacteria_2327.jpeg\n",
            "/content/data_used/PNEUMONIA/person540_bacteria_2271.jpeg\n",
            "/content/data_used/PNEUMONIA/person543_bacteria_2284.jpeg\n",
            "/content/data_used/PNEUMONIA/person16_bacteria_54.jpeg\n",
            "/content/data_used/PNEUMONIA/person339_bacteria_1573.jpeg\n",
            "/content/data_used/PNEUMONIA/person943_bacteria_2868.jpeg\n",
            "/content/data_used/PNEUMONIA/person881_virus_1531.jpeg\n",
            "/content/data_used/PNEUMONIA/person47_bacteria_229.jpeg\n",
            "/content/data_used/PNEUMONIA/person124_bacteria_592.jpeg\n",
            "/content/data_used/PNEUMONIA/person491_bacteria_2073.jpeg\n",
            "/content/data_used/PNEUMONIA/person1528_virus_2662.jpeg\n",
            "/content/data_used/PNEUMONIA/person1205_bacteria_3157.jpeg\n",
            "/content/data_used/PNEUMONIA/person33_virus_72.jpeg\n",
            "/content/data_used/PNEUMONIA/person1830_bacteria_4693.jpeg\n",
            "/content/data_used/PNEUMONIA/person1482_bacteria_3870.jpeg\n",
            "/content/data_used/PNEUMONIA/person594_bacteria_2436.jpeg\n",
            "/content/data_used/PNEUMONIA/person351_bacteria_1617.jpeg\n",
            "/content/data_used/PNEUMONIA/person724_bacteria_2626.jpeg\n",
            "/content/data_used/PNEUMONIA/person1361_virus_2344.jpeg\n",
            "/content/data_used/PNEUMONIA/person1527_bacteria_3988.jpeg\n",
            "/content/data_used/PNEUMONIA/person298_virus_618.jpeg\n",
            "/content/data_used/PNEUMONIA/person357_virus_736.jpeg\n",
            "/content/data_used/PNEUMONIA/person1722_bacteria_4547.jpeg\n",
            "/content/data_used/PNEUMONIA/person467_bacteria_1989.jpeg\n",
            "/content/data_used/PNEUMONIA/person1679_bacteria_4450.jpeg\n",
            "/content/data_used/PNEUMONIA/person59_bacteria_279.jpeg\n",
            "/content/data_used/PNEUMONIA/person348_virus_719.jpeg\n",
            "/content/data_used/PNEUMONIA/person1403_bacteria_3559.jpeg\n",
            "/content/data_used/PNEUMONIA/person669_bacteria_2562.jpeg\n",
            "/content/data_used/PNEUMONIA/person374_bacteria_1710.jpeg\n",
            "/content/data_used/PNEUMONIA/person1603_virus_2781.jpeg\n",
            "/content/data_used/PNEUMONIA/person1695_bacteria_4492.jpeg\n",
            "/content/data_used/PNEUMONIA/person56_bacteria_268.jpeg\n",
            "/content/data_used/PNEUMONIA/person1593_virus_2767.jpeg\n",
            "/content/data_used/PNEUMONIA/person1413_bacteria_3617.jpeg\n",
            "/content/data_used/PNEUMONIA/person707_bacteria_2606.jpeg\n"
          ]
        }
      ]
    },
    {
      "cell_type": "code",
      "metadata": {
        "id": "4dY9EiJbovKR",
        "colab": {
          "base_uri": "https://localhost:8080/"
        },
        "outputId": "3f120442-e9f2-4def-93a7-42f5dd5faebd"
      },
      "source": [
        "patternZero = '*IM*.jpeg'\n",
        "patternOne = '*person*.jpeg'\n",
        "classZero = fnmatch.filter(imagePatches, patternZero)\n",
        "classOne = fnmatch.filter(imagePatches, patternOne)\n",
        "print(\"IDC(-)\\n\\n\",classZero[0:5],'\\n')\n",
        "print(\"IDC(+)\\n\\n\",classOne[0:5])"
      ],
      "execution_count": null,
      "outputs": [
        {
          "output_type": "stream",
          "name": "stdout",
          "text": [
            "IDC(-)\n",
            "\n",
            " ['/content/data_used/NORMAL/NORMAL2-IM-0945-0001.jpeg', '/content/data_used/NORMAL/IM-0410-0001.jpeg', '/content/data_used/NORMAL/IM-0607-0001.jpeg', '/content/data_used/NORMAL/NORMAL2-IM-0060-0001.jpeg', '/content/data_used/NORMAL/NORMAL2-IM-0475-0001.jpeg'] \n",
            "\n",
            "IDC(+)\n",
            "\n",
            " ['/content/data_used/PNEUMONIA/person843_bacteria_2763.jpeg', '/content/data_used/PNEUMONIA/person508_virus_1020.jpeg', '/content/data_used/PNEUMONIA/person1311_virus_2257.jpeg', '/content/data_used/PNEUMONIA/person319_virus_645.jpeg', '/content/data_used/PNEUMONIA/person1212_virus_2057.jpeg']\n"
          ]
        }
      ]
    },
    {
      "cell_type": "code",
      "metadata": {
        "id": "6NdRVSpwv9D8",
        "colab": {
          "base_uri": "https://localhost:8080/"
        },
        "outputId": "fdb89021-2c1b-4820-b936-4fc0073213b3"
      },
      "source": [
        "print(len(classZero))\n",
        "print(len(classOne))"
      ],
      "execution_count": null,
      "outputs": [
        {
          "output_type": "stream",
          "name": "stdout",
          "text": [
            "1583\n",
            "4273\n"
          ]
        }
      ]
    },
    {
      "cell_type": "code",
      "metadata": {
        "id": "cQbT9IlEozHD"
      },
      "source": [
        "X=[]\n",
        "y=[]\n",
        "\n",
        "for u in classZero:\n",
        "  X.append(u)\n",
        "  y.append(0)\n",
        "\n",
        "for u in classOne:\n",
        "  X.append(u)\n",
        "  y.append(1)"
      ],
      "execution_count": null,
      "outputs": []
    },
    {
      "cell_type": "code",
      "metadata": {
        "id": "gyAP06j_o5y5"
      },
      "source": [
        "df = pd.DataFrame()\n",
        "df[\"images\"]=X\n",
        "df[\"labels\"]=y\n",
        "df=df.sample(frac=1)"
      ],
      "execution_count": null,
      "outputs": []
    },
    {
      "cell_type": "code",
      "metadata": {
        "id": "86jc5Cqzo-ha"
      },
      "source": [
        "def RgbToQuaternion(img):\n",
        " b,g,r = cv2.split(img)\n",
        "\n",
        " M=np.zeros((50,50,4))\n",
        " M[:,:,1]=r\n",
        " M[:,:,2]=g\n",
        " M[:,:,3]=b\n",
        " return(np.array(M))"
      ],
      "execution_count": null,
      "outputs": []
    },
    {
      "cell_type": "code",
      "metadata": {
        "id": "NlZUb-10pCcQ"
      },
      "source": [
        "def batch_generator(df,batch_size,steps):\n",
        " idx=1\n",
        " while True: \n",
        "  yield load_data(df,idx-1,batch_size)## Yields data\n",
        "  if idx < steps:\n",
        "    idx+=1\n",
        "  else:\n",
        "    idx=1"
      ],
      "execution_count": null,
      "outputs": []
    },
    {
      "cell_type": "code",
      "metadata": {
        "id": "cyVdNldPpI84"
      },
      "source": [
        "def load_data(df,idx,batch_size):\n",
        " start=idx*batch_size\n",
        " end=(idx+1)*batch_size\n",
        " x = []\n",
        " y = [] \n",
        " for  row  in df.values[start:end,:]:\n",
        "  img=row[0]\n",
        "\n",
        "  full_size_image = cv2.imread(img)\n",
        "  X=cv2.resize(full_size_image, (50,50), interpolation=cv2.INTER_CUBIC)\n",
        "\n",
        "  image = RgbToQuaternion(X) /255.\n",
        "  x.append(image) \n",
        "  y.append(row[-1] )\n",
        "\n",
        " return (np.array(x).reshape(-1,50,50,4), np.array(y).reshape(-1))"
      ],
      "execution_count": null,
      "outputs": []
    },
    {
      "cell_type": "code",
      "metadata": {
        "id": "V29ZJA8RpM7k"
      },
      "source": [
        "df_train, df = train_test_split(df, test_size=0.20)\n",
        "df_test, df_val = train_test_split(df, test_size=0.5)"
      ],
      "execution_count": null,
      "outputs": []
    },
    {
      "cell_type": "code",
      "metadata": {
        "id": "FQl7Oj4HpS20",
        "colab": {
          "base_uri": "https://localhost:8080/"
        },
        "outputId": "f5395539-845f-4311-e1e7-a92a05428a26"
      },
      "source": [
        "\n",
        "from   complexnn                             import *\n",
        "import keras\n",
        "from   keras.layers                          import *\n",
        "from   keras.models                          import Model\n",
        "import keras.backend                         as     K\n",
        "import numpy                                 as     np\n"
      ],
      "execution_count": null,
      "outputs": [
        {
          "output_type": "stream",
          "name": "stderr",
          "text": [
            "Using TensorFlow backend.\n"
          ]
        }
      ]
    },
    {
      "cell_type": "code",
      "source": [
        "#from   tensorflow.keras.layers                          import *"
      ],
      "metadata": {
        "id": "qWtlwF40XDqx"
      },
      "execution_count": null,
      "outputs": []
    },
    {
      "cell_type": "code",
      "source": [
        "from keras.optimizers import Adam"
      ],
      "metadata": {
        "id": "02iDVZYTclSt"
      },
      "execution_count": null,
      "outputs": []
    },
    {
      "cell_type": "code",
      "metadata": {
        "id": "scrD3pE8pTa5"
      },
      "source": [
        "#from keras.optimizers import adam\n",
        "opt = Adam(lr = 0.001,decay=1e-6)"
      ],
      "execution_count": null,
      "outputs": []
    },
    {
      "cell_type": "code",
      "source": [
        "#import tensorflow as tf\n",
        "# ensure consistency across runs\n",
        "from numpy.random import seed\n",
        "seed(1)"
      ],
      "metadata": {
        "id": "m_lEa6isT32W"
      },
      "execution_count": null,
      "outputs": []
    },
    {
      "cell_type": "code",
      "source": [
        "class ChannelAttention(keras.layers.Layer):\n",
        "      def __init__(self, filters, ratio):\n",
        "        super(ChannelAttention, self).__init__()\n",
        "        self.filters = filters\n",
        "        self.ratio = ratio\n",
        "\n",
        "        def build(self, input_shape):\n",
        "            self.shared_layer_one = tf.keras.layers.Dense(self.filters//self.ratio,\n",
        "                             activation='relu', kernel_initializer='he_normal', \n",
        "                              use_bias=True, \n",
        "                              bias_initializer='zeros')\n",
        "            self.shared_layer_two = tf.keras.layers.Dense(self.filters,\n",
        "                             kernel_initializer='he_normal',\n",
        "                             use_bias=True,\n",
        "                             bias_initializer='zeros')\n",
        "\n",
        "        def call(self, inputs):\n",
        "            # AvgPool\n",
        "            avg_pool = keras.layers.GlobalAveragePooling2D()(inputs)\n",
        "            \n",
        "\n",
        "            avg_pool = self.shared_layer_one(avg_pool)\n",
        "            avg_pool = self.shared_layer_two(avg_pool)\n",
        "\n",
        "            # MaxPool\n",
        "            max_pool = keras.layers.GlobalMaxPooling2D()(inputs)\n",
        "            max_pool = keras.layers.Reshape((1,1,filters))(max_pool)\n",
        "\n",
        "            max_pool = self.shared_layer_one(max_pool)\n",
        "            max_pool = self.shared_layer_two(max_pool)\n",
        "\n",
        "\n",
        "            attention = keras.layers.Add()([avg_pool,max_pool])\n",
        "            attention = keras.layers.Activation('sigmoid')(attention)\n",
        "            \n",
        "            return keras.layers.Multiply()([inputs, attention])\n",
        "\n",
        "class SpatialAttention(keras.layers.Layer):\n",
        "      def __init__(self, kernel_size):\n",
        "        super(SpatialAttention, self).__init__()\n",
        "        self.kernel_size = kernel_size\n",
        "        \n",
        "        def build(self, input_shape):\n",
        "            self.conv2d = keras.layers.Conv2D(filters = 1,\n",
        "                    kernel_size=self.kernel_size,\n",
        "                    strides=1,\n",
        "                    padding='same',\n",
        "                    activation='sigmoid',\n",
        "                    kernel_initializer='he_normal',\n",
        "                    use_bias=False)\n",
        "\n",
        "        def call(self, inputs):\n",
        "            \n",
        "            # AvgPool\n",
        "            avg_pool = keras.layers.Lambda(lambda x: tf.keras.backend.mean(x, axis=3, keepdims=True))(inputs)\n",
        "            \n",
        "            # MaxPool\n",
        "            max_pool = keras.layers.Lambda(lambda x: tf.keras.backend.max(x, axis=3, keepdims=True))(inputs)\n",
        "\n",
        "            attention = keras.layers.Concatenate(axis=3)([avg_pool, max_pool])\n",
        "\n",
        "            attention = self.conv2d(attention)\n",
        "\n",
        "\n",
        "            return tf.keras.layers.multiply([inputs, attention])\n",
        "\n"
      ],
      "metadata": {
        "id": "bc3DiSGyPNdu"
      },
      "execution_count": null,
      "outputs": []
    },
    {
      "cell_type": "code",
      "metadata": {
        "id": "x91xqzQI6Mx2"
      },
      "source": [
        "def residual_block(mod_, f_in, f_out, strides_ = (1,1), use_shortcut_ = False):   \n",
        "    shortcut_ = mod_\n",
        "    \n",
        "    k_ = (1,1)\n",
        "    \n",
        "    mod_ = QuaternionConv2D(f_in, kernel_size=k_, strides=(1,1), padding = \"same\")(mod_)\n",
        "    mod_ = BatchNormalization()(mod_)\n",
        "    mod_ = ELU()(mod_)\n",
        "    \n",
        "    mod_ = QuaternionConv2D(f_in, kernel_size=k_, strides=strides_, padding = \"same\")(mod_)\n",
        "    mod_ = BatchNormalization()(mod_)\n",
        "    mod_ = ELU()(mod_)\n",
        "    \n",
        "    mod_ = QuaternionConv2D(f_out, kernel_size=k_, strides=(1,1), padding = \"same\")(mod_)\n",
        "    mod_ = BatchNormalization()(mod_)\n",
        "    mod_ = ELU()(mod_)\n",
        "    \n",
        "    if use_shortcut_ == True or strides_ != (1,1):\n",
        "        shortcut_ = QuaternionConv2D(f_out, kernel_size=k_, strides=strides_, padding = \"same\")(shortcut_)\n",
        "        shortcut_ = BatchNormalization()(shortcut_)\n",
        "        \n",
        "    mod_ = Add()([shortcut_, mod_])\n",
        "    mod_ = ReLU()(mod_)\n",
        "    \n",
        "    return mod_"
      ],
      "execution_count": null,
      "outputs": []
    },
    {
      "cell_type": "code",
      "source": [
        "class_weights=[1.85,0.69]"
      ],
      "metadata": {
        "id": "Ierj1lj48ddu"
      },
      "execution_count": null,
      "outputs": []
    },
    {
      "cell_type": "code",
      "metadata": {
        "id": "wf2l0CgN6OwO"
      },
      "source": [
        "def model_build(in_):\n",
        "    \n",
        "    k_=(1,1)\n",
        "    \n",
        "    mod_ = QuaternionConv2D(16, kernel_size=k_, strides = (1,1), padding = \"same\")(in_)\n",
        "    \n",
        "    mod_ = BatchNormalization()(mod_)    \n",
        "    \n",
        "    mod_ = ReLU()(mod_)\n",
        "    mod_=  ChannelAttention(16, 8)(mod_)\n",
        "    mod_= SpatialAttention(3)(mod_)\n",
        "    mod_ = MaxPooling2D()(mod_)\n",
        "    \n",
        "    mod_ = residual_block(mod_, 16, 32, use_shortcut_=True)\n",
        "    \n",
        "    mod_ = MaxPooling2D()(mod_)\n",
        "    mod_=  ChannelAttention(16, 8)(mod_)\n",
        "    mod_= SpatialAttention(3)(mod_)\n",
        "    \n",
        "    mod_ = residual_block(mod_, 32, 64, use_shortcut_=True)\n",
        "    \n",
        "    mod_ = MaxPooling2D()(mod_)\n",
        "    mod_=  ChannelAttention(32, 8)(mod_)\n",
        "    mod_= SpatialAttention(3)(mod_)\n",
        "    \n",
        "    mod_ = residual_block(mod_, 64, 96, use_shortcut_=True)\n",
        "    \n",
        "    mod_ = MaxPooling2D()(mod_)\n",
        "    mod_=  ChannelAttention(64, 8)(mod_)\n",
        "    mod_= SpatialAttention(3)(mod_)\n",
        "    \n",
        "    mod_ = residual_block(mod_, 96, 128, use_shortcut_=True)\n",
        "    \n",
        "    mod_ = MaxPooling2D()(mod_)\n",
        "    mod_=  ChannelAttention(96, 8)(mod_)\n",
        "    mod_= SpatialAttention(3)(mod_)\n",
        "    \n",
        "    \n",
        "    mod_ = GlobalAveragePooling2D()(mod_)\n",
        "    \n",
        "    mod_ = Dense(512, activation = \"relu\")(mod_)\n",
        "    \n",
        "    mod_ = Dropout(0.5)(mod_)\n",
        "    \n",
        "    mod_ = Dense(1, activation=\"sigmoid\")(mod_)\n",
        "    \n",
        "    return mod_"
      ],
      "execution_count": null,
      "outputs": []
    },
    {
      "cell_type": "code",
      "metadata": {
        "id": "fN8TNhyZ0m3U"
      },
      "source": [
        "def recall_m(y_true, y_pred):\n",
        "    true_positives = K.sum(K.round(K.clip(y_true * y_pred, 0, 1)))\n",
        "    possible_positives = K.sum(K.round(K.clip(y_true, 0, 1)))\n",
        "    recall = true_positives / (possible_positives + K.epsilon())\n",
        "    return recall\n",
        "\n",
        "def precision_m(y_true, y_pred):\n",
        "    true_positives = K.sum(K.round(K.clip(y_true * y_pred, 0, 1)))\n",
        "    predicted_positives = K.sum(K.round(K.clip(y_pred, 0, 1)))\n",
        "    precision = true_positives / (predicted_positives + K.epsilon())\n",
        "    return precision\n",
        "\n",
        "def f1_m(y_true, y_pred):\n",
        "    precision = precision_m(y_true, y_pred)\n",
        "    recall = recall_m(y_true, y_pred)\n",
        "    return 2*((precision*recall)/(precision+recall+K.epsilon()))"
      ],
      "execution_count": null,
      "outputs": []
    },
    {
      "cell_type": "code",
      "metadata": {
        "id": "Bl7huBsapW1F",
        "colab": {
          "base_uri": "https://localhost:8080/"
        },
        "outputId": "eacad3da-f448-4d74-a9bc-9a75630599b8"
      },
      "source": [
        "in_ = Input((50,50,4))\n",
        "model_ = model_build(in_)"
      ],
      "execution_count": null,
      "outputs": [
        {
          "output_type": "stream",
          "name": "stdout",
          "text": [
            "WARNING:tensorflow:From /usr/local/lib/python3.7/dist-packages/keras/backend/tensorflow_backend.py:74: The name tf.get_default_graph is deprecated. Please use tf.compat.v1.get_default_graph instead.\n",
            "\n",
            "WARNING:tensorflow:From /usr/local/lib/python3.7/dist-packages/keras/backend/tensorflow_backend.py:517: The name tf.placeholder is deprecated. Please use tf.compat.v1.placeholder instead.\n",
            "\n",
            "WARNING:tensorflow:From /usr/local/lib/python3.7/dist-packages/keras/backend/tensorflow_backend.py:174: The name tf.get_default_session is deprecated. Please use tf.compat.v1.get_default_session instead.\n",
            "\n",
            "WARNING:tensorflow:From /usr/local/lib/python3.7/dist-packages/keras/backend/tensorflow_backend.py:181: The name tf.ConfigProto is deprecated. Please use tf.compat.v1.ConfigProto instead.\n",
            "\n",
            "WARNING:tensorflow:From /usr/local/lib/python3.7/dist-packages/keras/backend/tensorflow_backend.py:186: The name tf.Session is deprecated. Please use tf.compat.v1.Session instead.\n",
            "\n",
            "WARNING:tensorflow:From /usr/local/lib/python3.7/dist-packages/keras/backend/tensorflow_backend.py:190: The name tf.global_variables is deprecated. Please use tf.compat.v1.global_variables instead.\n",
            "\n",
            "WARNING:tensorflow:From /usr/local/lib/python3.7/dist-packages/keras/backend/tensorflow_backend.py:199: The name tf.is_variable_initialized is deprecated. Please use tf.compat.v1.is_variable_initialized instead.\n",
            "\n",
            "WARNING:tensorflow:From /usr/local/lib/python3.7/dist-packages/keras/backend/tensorflow_backend.py:206: The name tf.variables_initializer is deprecated. Please use tf.compat.v1.variables_initializer instead.\n",
            "\n",
            "WARNING:tensorflow:From /usr/local/lib/python3.7/dist-packages/keras/backend/tensorflow_backend.py:1834: The name tf.nn.fused_batch_norm is deprecated. Please use tf.compat.v1.nn.fused_batch_norm instead.\n",
            "\n",
            "WARNING:tensorflow:From /usr/local/lib/python3.7/dist-packages/keras/backend/tensorflow_backend.py:133: The name tf.placeholder_with_default is deprecated. Please use tf.compat.v1.placeholder_with_default instead.\n",
            "\n",
            "WARNING:tensorflow:From /usr/local/lib/python3.7/dist-packages/keras/backend/tensorflow_backend.py:3976: The name tf.nn.max_pool is deprecated. Please use tf.nn.max_pool2d instead.\n",
            "\n",
            "WARNING:tensorflow:From /usr/local/lib/python3.7/dist-packages/keras/backend/tensorflow_backend.py:4138: The name tf.random_uniform is deprecated. Please use tf.random.uniform instead.\n",
            "\n",
            "WARNING:tensorflow:From /usr/local/lib/python3.7/dist-packages/keras/backend/tensorflow_backend.py:3445: calling dropout (from tensorflow.python.ops.nn_ops) with keep_prob is deprecated and will be removed in a future version.\n",
            "Instructions for updating:\n",
            "Please use `rate` instead of `keep_prob`. Rate should be set to `rate = 1 - keep_prob`.\n"
          ]
        }
      ]
    },
    {
      "cell_type": "code",
      "metadata": {
        "id": "Y9zNnD_C5ymO",
        "colab": {
          "base_uri": "https://localhost:8080/"
        },
        "outputId": "62778d66-3e7b-4dca-bb62-756dc90f1b8d"
      },
      "source": [
        "model = Model(input = in_, output = model_)"
      ],
      "execution_count": null,
      "outputs": [
        {
          "output_type": "stream",
          "name": "stderr",
          "text": [
            "/usr/local/lib/python3.7/dist-packages/ipykernel_launcher.py:1: UserWarning: Update your `Model` call to the Keras 2 API: `Model(inputs=Tensor(\"in..., outputs=Tensor(\"de...)`\n",
            "  \"\"\"Entry point for launching an IPython kernel.\n"
          ]
        }
      ]
    },
    {
      "cell_type": "code",
      "source": [
        "import numpy as np\n",
        "import pandas as pd\n",
        "import matplotlib.pyplot as plt\n",
        "import seaborn as sns\n",
        "import tensorflow as tf\n",
        "from tensorflow.keras.models import Sequential\n",
        "from tensorflow.keras.layers import Dense, Conv2D , MaxPool2D , Flatten , Dropout , BatchNormalization, GlobalAveragePooling2D\n",
        "from tensorflow.keras.preprocessing.image import ImageDataGenerator, array_to_img, img_to_array\n",
        "from sklearn.model_selection import train_test_split\n",
        "from sklearn.metrics import classification_report,confusion_matrix\n",
        "from tensorflow.keras.callbacks import ReduceLROnPlateau\n",
        "import cv2\n",
        "import os"
      ],
      "metadata": {
        "id": "DUt-QaWsTpn6"
      },
      "execution_count": null,
      "outputs": []
    },
    {
      "cell_type": "code",
      "source": [
        "METRICS = [\n",
        "      tf.keras.metrics.TruePositives(name='tp'),\n",
        "      tf.keras.metrics.FalsePositives(name='fp'),\n",
        "      tf.keras.metrics.TrueNegatives(name='tn'),\n",
        "      tf.keras.metrics.FalseNegatives(name='fn'), \n",
        "      tf.keras.metrics.BinaryAccuracy(name='accuracy'),\n",
        "      tf.keras.metrics.Precision(name='precision'),\n",
        "      tf.keras.metrics.Recall(name='recall'),\n",
        "      tf.keras.metrics.AUC(name='roc', curve='ROC'), # roc curve\n",
        "      tf.keras.metrics.AUC(name='prc', curve='PR') # precision-recall curve\n",
        "]"
      ],
      "metadata": {
        "id": "DO3eaGiPThhU",
        "colab": {
          "base_uri": "https://localhost:8080/"
        },
        "outputId": "0f9fc673-123a-4394-fcfb-38e972da7bbb"
      },
      "execution_count": null,
      "outputs": [
        {
          "output_type": "stream",
          "name": "stdout",
          "text": [
            "WARNING:tensorflow:From /usr/local/lib/python3.7/dist-packages/tensorflow_core/python/ops/resource_variable_ops.py:1630: calling BaseResourceVariable.__init__ (from tensorflow.python.ops.resource_variable_ops) with constraint is deprecated and will be removed in a future version.\n",
            "Instructions for updating:\n",
            "If using Keras pass *_constraint arguments to layers.\n"
          ]
        }
      ]
    },
    {
      "cell_type": "code",
      "source": [
        "from sklearn.metrics import classification_report,confusion_matrix\n",
        "from keras.callbacks import ReduceLROnPlateau"
      ],
      "metadata": {
        "id": "gUOpqLpny1OI"
      },
      "execution_count": null,
      "outputs": []
    },
    {
      "cell_type": "code",
      "source": [
        "learning_rate_reduction = ReduceLROnPlateau(monitor='val_acc', patience=2, verbose=1, factor=0.8)"
      ],
      "metadata": {
        "id": "b-9V323DyoQg"
      },
      "execution_count": null,
      "outputs": []
    },
    {
      "cell_type": "code",
      "metadata": {
        "id": "DkpAkRI056K7",
        "colab": {
          "base_uri": "https://localhost:8080/"
        },
        "outputId": "cff2edbe-471e-4db2-b20b-e032001989cf"
      },
      "source": [
        "           \n",
        "model.compile(optimizer=opt, loss='binary_crossentropy', metrics=['accuracy',METRICS])"
      ],
      "execution_count": null,
      "outputs": [
        {
          "output_type": "stream",
          "name": "stdout",
          "text": [
            "WARNING:tensorflow:From /usr/local/lib/python3.7/dist-packages/keras/optimizers.py:790: The name tf.train.Optimizer is deprecated. Please use tf.compat.v1.train.Optimizer instead.\n",
            "\n",
            "WARNING:tensorflow:From /usr/local/lib/python3.7/dist-packages/keras/backend/tensorflow_backend.py:3376: The name tf.log is deprecated. Please use tf.math.log instead.\n",
            "\n",
            "WARNING:tensorflow:From /usr/local/lib/python3.7/dist-packages/tensorflow_core/python/ops/nn_impl.py:183: where (from tensorflow.python.ops.array_ops) is deprecated and will be removed in a future version.\n",
            "Instructions for updating:\n",
            "Use tf.where in 2.0, which has the same broadcast rule as np.where\n"
          ]
        }
      ]
    },
    {
      "cell_type": "code",
      "metadata": {
        "id": "9anher7jpaFM",
        "colab": {
          "base_uri": "https://localhost:8080/"
        },
        "outputId": "5cdf1c0a-0626-44a0-95e1-a86ce94d11d0"
      },
      "source": [
        "history =model.fit_generator(batch_generator(df_train, 586,len(df_train)//586),steps_per_epoch=len(df_train)//586,epochs=40,class_weight=class_weights,verbose=1,validation_data=batch_generator(df_val, 64,len(df_val)//64),validation_steps=len(df_val)//64,callbacks=[learning_rate_reduction])"
      ],
      "execution_count": null,
      "outputs": [
        {
          "output_type": "stream",
          "name": "stdout",
          "text": [
            "WARNING:tensorflow:From /usr/local/lib/python3.7/dist-packages/keras/backend/tensorflow_backend.py:986: The name tf.assign_add is deprecated. Please use tf.compat.v1.assign_add instead.\n",
            "\n",
            "WARNING:tensorflow:From /usr/local/lib/python3.7/dist-packages/keras/backend/tensorflow_backend.py:973: The name tf.assign is deprecated. Please use tf.compat.v1.assign instead.\n",
            "\n",
            "Epoch 1/40\n",
            "7/7 [==============================] - 68s 10s/step - loss: 1.7867 - acc: 0.6919 - precision_m: 0.7909 - recall_m: 0.8034 - f1_m: 0.7488 - val_loss: 5.0898 - val_acc: 0.2708 - val_precision_m: 0.7778 - val_recall_m: 0.0351 - val_f1_m: 0.0655\n",
            "Epoch 2/40\n",
            "7/7 [==============================] - 55s 8s/step - loss: 0.4211 - acc: 0.8479 - precision_m: 0.8952 - recall_m: 0.9028 - f1_m: 0.8971 - val_loss: 3.4892 - val_acc: 0.2622 - val_precision_m: 0.6667 - val_recall_m: 0.0236 - val_f1_m: 0.0449\n",
            "Epoch 3/40\n",
            "7/7 [==============================] - 56s 8s/step - loss: 0.2902 - acc: 0.8781 - precision_m: 0.9242 - recall_m: 0.9087 - f1_m: 0.9162 - val_loss: 1.7993 - val_acc: 0.2917 - val_precision_m: 1.0000 - val_recall_m: 0.0623 - val_f1_m: 0.1149\n",
            "Epoch 4/40\n",
            "7/7 [==============================] - 57s 8s/step - loss: 0.2612 - acc: 0.8966 - precision_m: 0.9244 - recall_m: 0.9380 - f1_m: 0.9303 - val_loss: 2.0577 - val_acc: 0.2708 - val_precision_m: 0.6667 - val_recall_m: 0.0347 - val_f1_m: 0.0650\n",
            "Epoch 5/40\n",
            "7/7 [==============================] - 55s 8s/step - loss: 0.2313 - acc: 0.9127 - precision_m: 0.9383 - recall_m: 0.9436 - f1_m: 0.9408 - val_loss: 1.3965 - val_acc: 0.3438 - val_precision_m: 1.0000 - val_recall_m: 0.1320 - val_f1_m: 0.2292\n",
            "Epoch 6/40\n",
            "7/7 [==============================] - 56s 8s/step - loss: 0.2010 - acc: 0.9242 - precision_m: 0.9495 - recall_m: 0.9474 - f1_m: 0.9483 - val_loss: 1.2395 - val_acc: 0.3993 - val_precision_m: 1.0000 - val_recall_m: 0.2054 - val_f1_m: 0.3373\n",
            "Epoch 7/40\n",
            "7/7 [==============================] - 55s 8s/step - loss: 0.1785 - acc: 0.9300 - precision_m: 0.9540 - recall_m: 0.9507 - f1_m: 0.9523 - val_loss: 0.7521 - val_acc: 0.6267 - val_precision_m: 1.0000 - val_recall_m: 0.5071 - val_f1_m: 0.6716\n",
            "Epoch 8/40\n",
            "7/7 [==============================] - 55s 8s/step - loss: 0.1581 - acc: 0.9449 - precision_m: 0.9608 - recall_m: 0.9648 - f1_m: 0.9626 - val_loss: 0.5459 - val_acc: 0.7726 - val_precision_m: 1.0000 - val_recall_m: 0.6993 - val_f1_m: 0.8218\n",
            "Epoch 9/40\n",
            "7/7 [==============================] - 56s 8s/step - loss: 0.1421 - acc: 0.9490 - precision_m: 0.9645 - recall_m: 0.9664 - f1_m: 0.9654 - val_loss: 0.3048 - val_acc: 0.8646 - val_precision_m: 0.9897 - val_recall_m: 0.8286 - val_f1_m: 0.9009\n",
            "Epoch 10/40\n",
            "7/7 [==============================] - 55s 8s/step - loss: 0.1283 - acc: 0.9529 - precision_m: 0.9660 - recall_m: 0.9703 - f1_m: 0.9681 - val_loss: 0.2363 - val_acc: 0.8993 - val_precision_m: 0.9801 - val_recall_m: 0.8845 - val_f1_m: 0.9292\n",
            "Epoch 11/40\n",
            "7/7 [==============================] - 56s 8s/step - loss: 0.1074 - acc: 0.9654 - precision_m: 0.9739 - recall_m: 0.9791 - f1_m: 0.9765 - val_loss: 0.1657 - val_acc: 0.9271 - val_precision_m: 0.9578 - val_recall_m: 0.9446 - val_f1_m: 0.9508\n",
            "Epoch 12/40\n",
            "7/7 [==============================] - 55s 8s/step - loss: 0.0922 - acc: 0.9720 - precision_m: 0.9788 - recall_m: 0.9831 - f1_m: 0.9809 - val_loss: 0.1785 - val_acc: 0.9201 - val_precision_m: 0.9254 - val_recall_m: 0.9724 - val_f1_m: 0.9478\n",
            "Epoch 13/40\n",
            "7/7 [==============================] - 57s 8s/step - loss: 0.0793 - acc: 0.9764 - precision_m: 0.9812 - recall_m: 0.9868 - f1_m: 0.9839 - val_loss: 0.2571 - val_acc: 0.8924 - val_precision_m: 0.8829 - val_recall_m: 0.9883 - val_f1_m: 0.9319\n",
            "\n",
            "Epoch 00013: ReduceLROnPlateau reducing learning rate to 0.000800000037997961.\n",
            "Epoch 14/40\n",
            "7/7 [==============================] - 56s 8s/step - loss: 0.0647 - acc: 0.9832 - precision_m: 0.9842 - recall_m: 0.9930 - f1_m: 0.9886 - val_loss: 0.4039 - val_acc: 0.8524 - val_precision_m: 0.8382 - val_recall_m: 0.9975 - val_f1_m: 0.9100\n",
            "Epoch 15/40\n",
            "7/7 [==============================] - 55s 8s/step - loss: 0.0527 - acc: 0.9890 - precision_m: 0.9904 - recall_m: 0.9947 - f1_m: 0.9926 - val_loss: 0.4779 - val_acc: 0.8368 - val_precision_m: 0.8238 - val_recall_m: 0.9975 - val_f1_m: 0.9013\n",
            "\n",
            "Epoch 00015: ReduceLROnPlateau reducing learning rate to 0.0006400000303983689.\n",
            "Epoch 16/40\n",
            "7/7 [==============================] - 56s 8s/step - loss: 0.0467 - acc: 0.9885 - precision_m: 0.9901 - recall_m: 0.9944 - f1_m: 0.9922 - val_loss: 0.4614 - val_acc: 0.8472 - val_precision_m: 0.8332 - val_recall_m: 0.9975 - val_f1_m: 0.9069\n",
            "Epoch 17/40\n",
            "7/7 [==============================] - 57s 8s/step - loss: 0.0418 - acc: 0.9883 - precision_m: 0.9920 - recall_m: 0.9921 - f1_m: 0.9920 - val_loss: 0.3205 - val_acc: 0.8906 - val_precision_m: 0.8759 - val_recall_m: 0.9951 - val_f1_m: 0.9313\n",
            "\n",
            "Epoch 00017: ReduceLROnPlateau reducing learning rate to 0.0005120000336319208.\n",
            "Epoch 18/40\n",
            "7/7 [==============================] - 57s 8s/step - loss: 0.0383 - acc: 0.9900 - precision_m: 0.9894 - recall_m: 0.9970 - f1_m: 0.9932 - val_loss: 0.1878 - val_acc: 0.9358 - val_precision_m: 0.9543 - val_recall_m: 0.9602 - val_f1_m: 0.9568\n",
            "Epoch 19/40\n",
            "7/7 [==============================] - 56s 8s/step - loss: 0.0477 - acc: 0.9846 - precision_m: 0.9869 - recall_m: 0.9925 - f1_m: 0.9896 - val_loss: 0.2361 - val_acc: 0.9288 - val_precision_m: 0.9232 - val_recall_m: 0.9881 - val_f1_m: 0.9542\n",
            "Epoch 20/40\n",
            "7/7 [==============================] - 56s 8s/step - loss: 0.0385 - acc: 0.9873 - precision_m: 0.9939 - recall_m: 0.9890 - f1_m: 0.9913 - val_loss: 0.5581 - val_acc: 0.8403 - val_precision_m: 0.8270 - val_recall_m: 0.9975 - val_f1_m: 0.9033\n",
            "\n",
            "Epoch 00020: ReduceLROnPlateau reducing learning rate to 0.00040960004553198815.\n",
            "Epoch 21/40\n",
            "7/7 [==============================] - 55s 8s/step - loss: 0.0253 - acc: 0.9949 - precision_m: 0.9957 - recall_m: 0.9973 - f1_m: 0.9965 - val_loss: 0.3214 - val_acc: 0.8958 - val_precision_m: 0.8849 - val_recall_m: 0.9906 - val_f1_m: 0.9342\n",
            "Epoch 22/40\n",
            "7/7 [==============================] - 56s 8s/step - loss: 0.0163 - acc: 0.9983 - precision_m: 0.9977 - recall_m: 1.0000 - f1_m: 0.9988 - val_loss: 0.4622 - val_acc: 0.8594 - val_precision_m: 0.8453 - val_recall_m: 0.9953 - val_f1_m: 0.9135\n",
            "\n",
            "Epoch 00022: ReduceLROnPlateau reducing learning rate to 0.00032768002711236477.\n",
            "Epoch 23/40\n",
            "7/7 [==============================] - 55s 8s/step - loss: 0.0130 - acc: 0.9985 - precision_m: 0.9990 - recall_m: 0.9990 - f1_m: 0.9990 - val_loss: 0.3834 - val_acc: 0.8802 - val_precision_m: 0.8673 - val_recall_m: 0.9930 - val_f1_m: 0.9253\n",
            "Epoch 24/40\n",
            "7/7 [==============================] - 55s 8s/step - loss: 0.0104 - acc: 0.9990 - precision_m: 0.9990 - recall_m: 0.9997 - f1_m: 0.9993 - val_loss: 0.4847 - val_acc: 0.8663 - val_precision_m: 0.8520 - val_recall_m: 0.9951 - val_f1_m: 0.9173\n",
            "\n",
            "Epoch 00024: ReduceLROnPlateau reducing learning rate to 0.0002621440216898918.\n",
            "Epoch 25/40\n",
            "7/7 [==============================] - 55s 8s/step - loss: 0.0084 - acc: 0.9998 - precision_m: 0.9997 - recall_m: 1.0000 - f1_m: 0.9998 - val_loss: 0.3873 - val_acc: 0.8889 - val_precision_m: 0.8761 - val_recall_m: 0.9930 - val_f1_m: 0.9304\n",
            "Epoch 26/40\n",
            "7/7 [==============================] - 55s 8s/step - loss: 0.0084 - acc: 0.9998 - precision_m: 1.0000 - recall_m: 0.9997 - f1_m: 0.9998 - val_loss: 0.4340 - val_acc: 0.8785 - val_precision_m: 0.8655 - val_recall_m: 0.9930 - val_f1_m: 0.9242\n",
            "\n",
            "Epoch 00026: ReduceLROnPlateau reducing learning rate to 0.00020971521735191345.\n",
            "Epoch 27/40\n",
            "7/7 [==============================] - 56s 8s/step - loss: 0.0069 - acc: 1.0000 - precision_m: 1.0000 - recall_m: 1.0000 - f1_m: 1.0000 - val_loss: 0.4034 - val_acc: 0.8872 - val_precision_m: 0.8745 - val_recall_m: 0.9930 - val_f1_m: 0.9294\n",
            "Epoch 28/40\n",
            "7/7 [==============================] - 55s 8s/step - loss: 0.0060 - acc: 1.0000 - precision_m: 1.0000 - recall_m: 1.0000 - f1_m: 1.0000 - val_loss: 0.3636 - val_acc: 0.8993 - val_precision_m: 0.8866 - val_recall_m: 0.9930 - val_f1_m: 0.9364\n",
            "\n",
            "Epoch 00028: ReduceLROnPlateau reducing learning rate to 0.00016777217388153076.\n",
            "Epoch 29/40\n",
            "7/7 [==============================] - 56s 8s/step - loss: 0.0055 - acc: 0.9998 - precision_m: 0.9997 - recall_m: 1.0000 - f1_m: 0.9998 - val_loss: 0.3636 - val_acc: 0.8993 - val_precision_m: 0.8865 - val_recall_m: 0.9930 - val_f1_m: 0.9364\n",
            "Epoch 30/40\n",
            "7/7 [==============================] - 55s 8s/step - loss: 0.0064 - acc: 0.9998 - precision_m: 1.0000 - recall_m: 0.9997 - f1_m: 0.9998 - val_loss: 0.3490 - val_acc: 0.9028 - val_precision_m: 0.8902 - val_recall_m: 0.9930 - val_f1_m: 0.9384\n",
            "\n",
            "Epoch 00030: ReduceLROnPlateau reducing learning rate to 0.00013421773910522462.\n",
            "Epoch 31/40\n",
            "7/7 [==============================] - 55s 8s/step - loss: 0.0051 - acc: 1.0000 - precision_m: 1.0000 - recall_m: 1.0000 - f1_m: 1.0000 - val_loss: 0.3195 - val_acc: 0.9149 - val_precision_m: 0.9035 - val_recall_m: 0.9930 - val_f1_m: 0.9458\n",
            "Epoch 32/40\n",
            "7/7 [==============================] - 56s 8s/step - loss: 0.0051 - acc: 1.0000 - precision_m: 1.0000 - recall_m: 1.0000 - f1_m: 1.0000 - val_loss: 0.2981 - val_acc: 0.9201 - val_precision_m: 0.9107 - val_recall_m: 0.9906 - val_f1_m: 0.9487\n",
            "\n",
            "Epoch 00032: ReduceLROnPlateau reducing learning rate to 0.00010737419361248613.\n",
            "Epoch 33/40\n",
            "7/7 [==============================] - 56s 8s/step - loss: 0.0043 - acc: 1.0000 - precision_m: 1.0000 - recall_m: 1.0000 - f1_m: 1.0000 - val_loss: 0.2750 - val_acc: 0.9288 - val_precision_m: 0.9207 - val_recall_m: 0.9906 - val_f1_m: 0.9541\n",
            "Epoch 34/40\n",
            "7/7 [==============================] - 57s 8s/step - loss: 0.0045 - acc: 0.9998 - precision_m: 0.9997 - recall_m: 1.0000 - f1_m: 0.9998 - val_loss: 0.2564 - val_acc: 0.9323 - val_precision_m: 0.9247 - val_recall_m: 0.9906 - val_f1_m: 0.9562\n",
            "\n",
            "Epoch 00034: ReduceLROnPlateau reducing learning rate to 8.589935605414213e-05.\n",
            "Epoch 35/40\n",
            "7/7 [==============================] - 55s 8s/step - loss: 0.0045 - acc: 1.0000 - precision_m: 1.0000 - recall_m: 1.0000 - f1_m: 1.0000 - val_loss: 0.2527 - val_acc: 0.9375 - val_precision_m: 0.9307 - val_recall_m: 0.9906 - val_f1_m: 0.9595\n",
            "Epoch 36/40\n",
            "7/7 [==============================] - 56s 8s/step - loss: 0.0044 - acc: 1.0000 - precision_m: 1.0000 - recall_m: 1.0000 - f1_m: 1.0000 - val_loss: 0.2499 - val_acc: 0.9392 - val_precision_m: 0.9351 - val_recall_m: 0.9882 - val_f1_m: 0.9605\n",
            "Epoch 37/40\n",
            "7/7 [==============================] - 56s 8s/step - loss: 0.0042 - acc: 1.0000 - precision_m: 1.0000 - recall_m: 1.0000 - f1_m: 1.0000 - val_loss: 0.2448 - val_acc: 0.9392 - val_precision_m: 0.9351 - val_recall_m: 0.9882 - val_f1_m: 0.9605\n",
            "Epoch 38/40\n",
            "7/7 [==============================] - 55s 8s/step - loss: 0.0043 - acc: 1.0000 - precision_m: 1.0000 - recall_m: 1.0000 - f1_m: 1.0000 - val_loss: 0.2417 - val_acc: 0.9392 - val_precision_m: 0.9348 - val_recall_m: 0.9882 - val_f1_m: 0.9604\n",
            "\n",
            "Epoch 00038: ReduceLROnPlateau reducing learning rate to 6.871948717162013e-05.\n",
            "Epoch 39/40\n",
            "7/7 [==============================] - 56s 8s/step - loss: 0.0044 - acc: 1.0000 - precision_m: 1.0000 - recall_m: 1.0000 - f1_m: 1.0000 - val_loss: 0.2326 - val_acc: 0.9392 - val_precision_m: 0.9367 - val_recall_m: 0.9859 - val_f1_m: 0.9602\n",
            "Epoch 40/40\n",
            "7/7 [==============================] - 55s 8s/step - loss: 0.0037 - acc: 1.0000 - precision_m: 1.0000 - recall_m: 1.0000 - f1_m: 1.0000 - val_loss: 0.2259 - val_acc: 0.9444 - val_precision_m: 0.9434 - val_recall_m: 0.9859 - val_f1_m: 0.9636\n"
          ]
        }
      ]
    },
    {
      "cell_type": "markdown",
      "source": [],
      "metadata": {
        "id": "mx65hm9Ad-BZ"
      }
    },
    {
      "cell_type": "markdown",
      "metadata": {
        "id": "jxJ-xRy2mqWA"
      },
      "source": []
    },
    {
      "cell_type": "code",
      "metadata": {
        "id": "IqHWpWRWppOC",
        "colab": {
          "base_uri": "https://localhost:8080/"
        },
        "outputId": "b97594e8-a25f-45d4-efac-bd229e524a75"
      },
      "source": [
        "model.summary()"
      ],
      "execution_count": null,
      "outputs": [
        {
          "output_type": "stream",
          "name": "stdout",
          "text": [
            "__________________________________________________________________________________________________\n",
            "Layer (type)                    Output Shape         Param #     Connected to                     \n",
            "==================================================================================================\n",
            "input_1 (InputLayer)            (None, 50, 50, 4)    0                                            \n",
            "__________________________________________________________________________________________________\n",
            "quaternion_conv2d_1 (Quaternion (None, 50, 50, 64)   128         input_1[0][0]                    \n",
            "__________________________________________________________________________________________________\n",
            "batch_normalization_1 (BatchNor (None, 50, 50, 64)   256         quaternion_conv2d_1[0][0]        \n",
            "__________________________________________________________________________________________________\n",
            "re_lu_1 (ReLU)                  (None, 50, 50, 64)   0           batch_normalization_1[0][0]      \n",
            "__________________________________________________________________________________________________\n",
            "channel_attention_1 (ChannelAtt (None, 50, 50, 64)   0           re_lu_1[0][0]                    \n",
            "__________________________________________________________________________________________________\n",
            "spatial_attention_1 (SpatialAtt (None, 50, 50, 64)   0           channel_attention_1[0][0]        \n",
            "__________________________________________________________________________________________________\n",
            "max_pooling2d_1 (MaxPooling2D)  (None, 25, 25, 64)   0           spatial_attention_1[0][0]        \n",
            "__________________________________________________________________________________________________\n",
            "quaternion_conv2d_2 (Quaternion (None, 25, 25, 64)   1088        max_pooling2d_1[0][0]            \n",
            "__________________________________________________________________________________________________\n",
            "batch_normalization_2 (BatchNor (None, 25, 25, 64)   256         quaternion_conv2d_2[0][0]        \n",
            "__________________________________________________________________________________________________\n",
            "elu_1 (ELU)                     (None, 25, 25, 64)   0           batch_normalization_2[0][0]      \n",
            "__________________________________________________________________________________________________\n",
            "quaternion_conv2d_3 (Quaternion (None, 25, 25, 64)   1088        elu_1[0][0]                      \n",
            "__________________________________________________________________________________________________\n",
            "batch_normalization_3 (BatchNor (None, 25, 25, 64)   256         quaternion_conv2d_3[0][0]        \n",
            "__________________________________________________________________________________________________\n",
            "elu_2 (ELU)                     (None, 25, 25, 64)   0           batch_normalization_3[0][0]      \n",
            "__________________________________________________________________________________________________\n",
            "quaternion_conv2d_4 (Quaternion (None, 25, 25, 128)  2176        elu_2[0][0]                      \n",
            "__________________________________________________________________________________________________\n",
            "quaternion_conv2d_5 (Quaternion (None, 25, 25, 128)  2176        max_pooling2d_1[0][0]            \n",
            "__________________________________________________________________________________________________\n",
            "batch_normalization_4 (BatchNor (None, 25, 25, 128)  512         quaternion_conv2d_4[0][0]        \n",
            "__________________________________________________________________________________________________\n",
            "batch_normalization_5 (BatchNor (None, 25, 25, 128)  512         quaternion_conv2d_5[0][0]        \n",
            "__________________________________________________________________________________________________\n",
            "elu_3 (ELU)                     (None, 25, 25, 128)  0           batch_normalization_4[0][0]      \n",
            "__________________________________________________________________________________________________\n",
            "add_1 (Add)                     (None, 25, 25, 128)  0           batch_normalization_5[0][0]      \n",
            "                                                                 elu_3[0][0]                      \n",
            "__________________________________________________________________________________________________\n",
            "re_lu_2 (ReLU)                  (None, 25, 25, 128)  0           add_1[0][0]                      \n",
            "__________________________________________________________________________________________________\n",
            "max_pooling2d_2 (MaxPooling2D)  (None, 12, 12, 128)  0           re_lu_2[0][0]                    \n",
            "__________________________________________________________________________________________________\n",
            "channel_attention_2 (ChannelAtt (None, 12, 12, 128)  0           max_pooling2d_2[0][0]            \n",
            "__________________________________________________________________________________________________\n",
            "spatial_attention_2 (SpatialAtt (None, 12, 12, 128)  0           channel_attention_2[0][0]        \n",
            "__________________________________________________________________________________________________\n",
            "quaternion_conv2d_6 (Quaternion (None, 12, 12, 128)  4224        spatial_attention_2[0][0]        \n",
            "__________________________________________________________________________________________________\n",
            "batch_normalization_6 (BatchNor (None, 12, 12, 128)  512         quaternion_conv2d_6[0][0]        \n",
            "__________________________________________________________________________________________________\n",
            "elu_4 (ELU)                     (None, 12, 12, 128)  0           batch_normalization_6[0][0]      \n",
            "__________________________________________________________________________________________________\n",
            "quaternion_conv2d_7 (Quaternion (None, 12, 12, 128)  4224        elu_4[0][0]                      \n",
            "__________________________________________________________________________________________________\n",
            "batch_normalization_7 (BatchNor (None, 12, 12, 128)  512         quaternion_conv2d_7[0][0]        \n",
            "__________________________________________________________________________________________________\n",
            "elu_5 (ELU)                     (None, 12, 12, 128)  0           batch_normalization_7[0][0]      \n",
            "__________________________________________________________________________________________________\n",
            "quaternion_conv2d_8 (Quaternion (None, 12, 12, 256)  8448        elu_5[0][0]                      \n",
            "__________________________________________________________________________________________________\n",
            "quaternion_conv2d_9 (Quaternion (None, 12, 12, 256)  8448        spatial_attention_2[0][0]        \n",
            "__________________________________________________________________________________________________\n",
            "batch_normalization_8 (BatchNor (None, 12, 12, 256)  1024        quaternion_conv2d_8[0][0]        \n",
            "__________________________________________________________________________________________________\n",
            "batch_normalization_9 (BatchNor (None, 12, 12, 256)  1024        quaternion_conv2d_9[0][0]        \n",
            "__________________________________________________________________________________________________\n",
            "elu_6 (ELU)                     (None, 12, 12, 256)  0           batch_normalization_8[0][0]      \n",
            "__________________________________________________________________________________________________\n",
            "add_2 (Add)                     (None, 12, 12, 256)  0           batch_normalization_9[0][0]      \n",
            "                                                                 elu_6[0][0]                      \n",
            "__________________________________________________________________________________________________\n",
            "re_lu_3 (ReLU)                  (None, 12, 12, 256)  0           add_2[0][0]                      \n",
            "__________________________________________________________________________________________________\n",
            "max_pooling2d_3 (MaxPooling2D)  (None, 6, 6, 256)    0           re_lu_3[0][0]                    \n",
            "__________________________________________________________________________________________________\n",
            "channel_attention_3 (ChannelAtt (None, 6, 6, 256)    0           max_pooling2d_3[0][0]            \n",
            "__________________________________________________________________________________________________\n",
            "spatial_attention_3 (SpatialAtt (None, 6, 6, 256)    0           channel_attention_3[0][0]        \n",
            "__________________________________________________________________________________________________\n",
            "quaternion_conv2d_10 (Quaternio (None, 6, 6, 256)    16640       spatial_attention_3[0][0]        \n",
            "__________________________________________________________________________________________________\n",
            "batch_normalization_10 (BatchNo (None, 6, 6, 256)    1024        quaternion_conv2d_10[0][0]       \n",
            "__________________________________________________________________________________________________\n",
            "elu_7 (ELU)                     (None, 6, 6, 256)    0           batch_normalization_10[0][0]     \n",
            "__________________________________________________________________________________________________\n",
            "quaternion_conv2d_11 (Quaternio (None, 6, 6, 256)    16640       elu_7[0][0]                      \n",
            "__________________________________________________________________________________________________\n",
            "batch_normalization_11 (BatchNo (None, 6, 6, 256)    1024        quaternion_conv2d_11[0][0]       \n",
            "__________________________________________________________________________________________________\n",
            "elu_8 (ELU)                     (None, 6, 6, 256)    0           batch_normalization_11[0][0]     \n",
            "__________________________________________________________________________________________________\n",
            "quaternion_conv2d_12 (Quaternio (None, 6, 6, 384)    24960       elu_8[0][0]                      \n",
            "__________________________________________________________________________________________________\n",
            "quaternion_conv2d_13 (Quaternio (None, 6, 6, 384)    24960       spatial_attention_3[0][0]        \n",
            "__________________________________________________________________________________________________\n",
            "batch_normalization_12 (BatchNo (None, 6, 6, 384)    1536        quaternion_conv2d_12[0][0]       \n",
            "__________________________________________________________________________________________________\n",
            "batch_normalization_13 (BatchNo (None, 6, 6, 384)    1536        quaternion_conv2d_13[0][0]       \n",
            "__________________________________________________________________________________________________\n",
            "elu_9 (ELU)                     (None, 6, 6, 384)    0           batch_normalization_12[0][0]     \n",
            "__________________________________________________________________________________________________\n",
            "add_3 (Add)                     (None, 6, 6, 384)    0           batch_normalization_13[0][0]     \n",
            "                                                                 elu_9[0][0]                      \n",
            "__________________________________________________________________________________________________\n",
            "re_lu_4 (ReLU)                  (None, 6, 6, 384)    0           add_3[0][0]                      \n",
            "__________________________________________________________________________________________________\n",
            "max_pooling2d_4 (MaxPooling2D)  (None, 3, 3, 384)    0           re_lu_4[0][0]                    \n",
            "__________________________________________________________________________________________________\n",
            "channel_attention_4 (ChannelAtt (None, 3, 3, 384)    0           max_pooling2d_4[0][0]            \n",
            "__________________________________________________________________________________________________\n",
            "spatial_attention_4 (SpatialAtt (None, 3, 3, 384)    0           channel_attention_4[0][0]        \n",
            "__________________________________________________________________________________________________\n",
            "quaternion_conv2d_14 (Quaternio (None, 3, 3, 384)    37248       spatial_attention_4[0][0]        \n",
            "__________________________________________________________________________________________________\n",
            "batch_normalization_14 (BatchNo (None, 3, 3, 384)    1536        quaternion_conv2d_14[0][0]       \n",
            "__________________________________________________________________________________________________\n",
            "elu_10 (ELU)                    (None, 3, 3, 384)    0           batch_normalization_14[0][0]     \n",
            "__________________________________________________________________________________________________\n",
            "quaternion_conv2d_15 (Quaternio (None, 3, 3, 384)    37248       elu_10[0][0]                     \n",
            "__________________________________________________________________________________________________\n",
            "batch_normalization_15 (BatchNo (None, 3, 3, 384)    1536        quaternion_conv2d_15[0][0]       \n",
            "__________________________________________________________________________________________________\n",
            "elu_11 (ELU)                    (None, 3, 3, 384)    0           batch_normalization_15[0][0]     \n",
            "__________________________________________________________________________________________________\n",
            "quaternion_conv2d_16 (Quaternio (None, 3, 3, 512)    49664       elu_11[0][0]                     \n",
            "__________________________________________________________________________________________________\n",
            "quaternion_conv2d_17 (Quaternio (None, 3, 3, 512)    49664       spatial_attention_4[0][0]        \n",
            "__________________________________________________________________________________________________\n",
            "batch_normalization_16 (BatchNo (None, 3, 3, 512)    2048        quaternion_conv2d_16[0][0]       \n",
            "__________________________________________________________________________________________________\n",
            "batch_normalization_17 (BatchNo (None, 3, 3, 512)    2048        quaternion_conv2d_17[0][0]       \n",
            "__________________________________________________________________________________________________\n",
            "elu_12 (ELU)                    (None, 3, 3, 512)    0           batch_normalization_16[0][0]     \n",
            "__________________________________________________________________________________________________\n",
            "add_4 (Add)                     (None, 3, 3, 512)    0           batch_normalization_17[0][0]     \n",
            "                                                                 elu_12[0][0]                     \n",
            "__________________________________________________________________________________________________\n",
            "re_lu_5 (ReLU)                  (None, 3, 3, 512)    0           add_4[0][0]                      \n",
            "__________________________________________________________________________________________________\n",
            "max_pooling2d_5 (MaxPooling2D)  (None, 1, 1, 512)    0           re_lu_5[0][0]                    \n",
            "__________________________________________________________________________________________________\n",
            "channel_attention_5 (ChannelAtt (None, 1, 1, 512)    0           max_pooling2d_5[0][0]            \n",
            "__________________________________________________________________________________________________\n",
            "spatial_attention_5 (SpatialAtt (None, 1, 1, 512)    0           channel_attention_5[0][0]        \n",
            "__________________________________________________________________________________________________\n",
            "global_average_pooling2d_1 (Glo (None, 512)          0           spatial_attention_5[0][0]        \n",
            "__________________________________________________________________________________________________\n",
            "dense_1 (Dense)                 (None, 512)          262656      global_average_pooling2d_1[0][0] \n",
            "__________________________________________________________________________________________________\n",
            "dropout_1 (Dropout)             (None, 512)          0           dense_1[0][0]                    \n",
            "__________________________________________________________________________________________________\n",
            "dense_2 (Dense)                 (None, 1)            513         dropout_1[0][0]                  \n",
            "==================================================================================================\n",
            "Total params: 569,345\n",
            "Trainable params: 560,769\n",
            "Non-trainable params: 8,576\n",
            "__________________________________________________________________________________________________\n"
          ]
        }
      ]
    },
    {
      "cell_type": "code",
      "source": [
        "len(model.layers)"
      ],
      "metadata": {
        "id": "MawHKOdYo079",
        "colab": {
          "base_uri": "https://localhost:8080/"
        },
        "outputId": "02db00ff-713a-4752-8fc5-396f51da3d83"
      },
      "execution_count": null,
      "outputs": [
        {
          "output_type": "execute_result",
          "data": {
            "text/plain": [
              "75"
            ]
          },
          "metadata": {},
          "execution_count": 46
        }
      ]
    },
    {
      "cell_type": "code",
      "metadata": {
        "id": "JLEW_7vM0iPQ",
        "colab": {
          "base_uri": "https://localhost:8080/"
        },
        "outputId": "09488c17-48ec-4cc4-eadf-499b3ba9a7c7"
      },
      "source": [
        "print(history.history.keys())"
      ],
      "execution_count": null,
      "outputs": [
        {
          "output_type": "stream",
          "name": "stdout",
          "text": [
            "dict_keys(['val_loss', 'val_acc', 'val_precision_m', 'val_recall_m', 'val_f1_m', 'loss', 'acc', 'precision_m', 'recall_m', 'f1_m', 'lr'])\n"
          ]
        }
      ]
    },
    {
      "cell_type": "code",
      "metadata": {
        "id": "hPFYD1H7psfz",
        "colab": {
          "base_uri": "https://localhost:8080/",
          "height": 611
        },
        "outputId": "fcd24b27-5a13-4bfe-b5ef-a5e1878900a2"
      },
      "source": [
        "# tensorboard logs \n",
        "print(history.history.keys())\n",
        "#  \"Accuracy\"\n",
        "plt.plot(history.history['acc'])\n",
        "plt.plot(history.history['val_acc'])\n",
        "plt.title('model accuracy')\n",
        "plt.ylabel('accuracy')\n",
        "plt.xlabel('epoch')\n",
        "plt.legend(['train', 'validation'], loc='upper left')\n",
        "plt.savefig('acc')\n",
        "plt.show()\n",
        "\n",
        "# \"Loss\"\n",
        "plt.plot(history.history['loss'])\n",
        "plt.plot(history.history['val_loss'])\n",
        "plt.title('model loss')\n",
        "plt.ylabel('loss')\n",
        "plt.xlabel('epoch')\n",
        "plt.legend(['train', 'validation'], loc='upper left')\n",
        "\n",
        "plt.savefig('loss')\n",
        "plt.show()"
      ],
      "execution_count": null,
      "outputs": [
        {
          "output_type": "stream",
          "name": "stdout",
          "text": [
            "dict_keys(['val_loss', 'val_acc', 'val_precision_m', 'val_recall_m', 'val_f1_m', 'loss', 'acc', 'precision_m', 'recall_m', 'f1_m', 'lr'])\n"
          ]
        },
        {
          "output_type": "display_data",
          "data": {
            "text/plain": [
              "<Figure size 432x288 with 1 Axes>"
            ],
            "image/png": "[encoded data removed]"
          },
          "metadata": {
            "needs_background": "light"
          }
        },
        {
          "output_type": "display_data",
          "data": {
            "text/plain": [
              "<Figure size 432x288 with 1 Axes>"
            ],
            "image/png": "[encoded data removed]"
          },
          "metadata": {
            "needs_background": "light"
          }
        }
      ]
    },
    {
      "cell_type": "code",
      "source": [
        "# tensorboard logs \n",
        "print(history.history.keys())\n",
        "#  \"Accuracy\"\n",
        "plt.plot(history.history['precision_m'])\n",
        "plt.plot(history.history['val_precision_m'])\n",
        "plt.title('model precision')\n",
        "plt.ylabel('precsion')\n",
        "plt.xlabel('epoch')\n",
        "plt.legend(['train', 'validation'], loc='upper left')\n",
        "plt.savefig('precsion')\n",
        "plt.show()"
      ],
      "metadata": {
        "id": "qq-nFCYusSV_",
        "colab": {
          "base_uri": "https://localhost:8080/",
          "height": 333
        },
        "outputId": "4919ada7-66fa-46d7-d541-5d75db1a273d"
      },
      "execution_count": null,
      "outputs": [
        {
          "output_type": "stream",
          "name": "stdout",
          "text": [
            "dict_keys(['val_loss', 'val_acc', 'val_precision_m', 'val_recall_m', 'val_f1_m', 'loss', 'acc', 'precision_m', 'recall_m', 'f1_m', 'lr'])\n"
          ]
        },
        {
          "output_type": "display_data",
          "data": {
            "text/plain": [
              "<Figure size 432x288 with 1 Axes>"
            ],
            "image/png": "[encoded data removed]"
          },
          "metadata": {
            "needs_background": "light"
          }
        }
      ]
    },
    {
      "cell_type": "code",
      "source": [
        "# tensorboard logs \n",
        "print(history.history.keys())\n",
        "#  \"Accuracy\"\n",
        "plt.plot(history.history['recall_m'])\n",
        "plt.plot(history.history['val_recall_m'])\n",
        "plt.title('model recall')\n",
        "plt.ylabel('recalln')\n",
        "plt.xlabel('epoch')\n",
        "plt.legend(['train', 'validation'], loc='upper left')\n",
        "plt.savefig('recall')\n",
        "plt.show()"
      ],
      "metadata": {
        "id": "jN8_PV9Is44X",
        "colab": {
          "base_uri": "https://localhost:8080/",
          "height": 333
        },
        "outputId": "db974f7e-f90e-445c-be57-5d8d88d52d13"
      },
      "execution_count": null,
      "outputs": [
        {
          "output_type": "stream",
          "name": "stdout",
          "text": [
            "dict_keys(['val_loss', 'val_acc', 'val_precision_m', 'val_recall_m', 'val_f1_m', 'loss', 'acc', 'precision_m', 'recall_m', 'f1_m', 'lr'])\n"
          ]
        },
        {
          "output_type": "display_data",
          "data": {
            "text/plain": [
              "<Figure size 432x288 with 1 Axes>"
            ],
            "image/png": "[encoded data removed]"
          },
          "metadata": {
            "needs_background": "light"
          }
        }
      ]
    },
    {
      "cell_type": "code",
      "source": [
        "# tensorboard logs \n",
        "print(history.history.keys())\n",
        "#  \"Accuracy\"\n",
        "plt.plot(history.history['f1_m'])\n",
        "plt.plot(history.history['val_f1_m'])\n",
        "plt.title('model f1')\n",
        "plt.ylabel('f1')\n",
        "plt.xlabel('epoch')\n",
        "plt.legend(['train', 'validation'], loc='upper left')\n",
        "plt.savefig('f1')\n",
        "plt.show()"
      ],
      "metadata": {
        "id": "G0hfjJlxtKB4",
        "colab": {
          "base_uri": "https://localhost:8080/",
          "height": 333
        },
        "outputId": "776d8a0d-3d12-40b0-dbbd-34d94567cfca"
      },
      "execution_count": null,
      "outputs": [
        {
          "output_type": "stream",
          "name": "stdout",
          "text": [
            "dict_keys(['val_loss', 'val_acc', 'val_precision_m', 'val_recall_m', 'val_f1_m', 'loss', 'acc', 'precision_m', 'recall_m', 'f1_m', 'lr'])\n"
          ]
        },
        {
          "output_type": "display_data",
          "data": {
            "text/plain": [
              "<Figure size 432x288 with 1 Axes>"
            ],
            "image/png": "[encoded data removed]"
          },
          "metadata": {
            "needs_background": "light"
          }
        }
      ]
    },
    {
      "cell_type": "code",
      "metadata": {
        "id": "mN_joYZ6WxHD",
        "colab": {
          "base_uri": "https://localhost:8080/"
        },
        "outputId": "5495be89-02dd-4aea-c731-f3af9940168d"
      },
      "source": [
        "print('\\nhistory dict:', history.history)"
      ],
      "execution_count": null,
      "outputs": [
        {
          "output_type": "stream",
          "name": "stdout",
          "text": [
            "\n",
            "history dict: {'val_loss': [5.089825948079427, 3.4891668955485025, 1.7992684708701239, 2.057715508672926, 1.3964502943886652, 1.2395343912972345, 0.7521239982710944, 0.5459219349755181, 0.30477043489615124, 0.23633514841397604, 0.165709955824746, 0.17848551107777488, 0.2570902440283034, 0.4038960337638855, 0.4779110766119427, 0.4614335894584656, 0.32053035497665405, 0.18780673957533306, 0.23613504320383072, 0.5580746630827585, 0.32144345839818317, 0.46221011214786106, 0.38342978722519344, 0.48469318283928764, 0.3873126308123271, 0.43403710093763137, 0.4033516016271379, 0.36361892024676007, 0.36358721719847786, 0.34902481734752655, 0.31953568508227664, 0.29807796825965244, 0.27502477500173783, 0.2563672537604968, 0.2527435099085172, 0.24991483406888115, 0.24482465287049612, 0.24170215138130718, 0.232582935028606, 0.22591778967115614], 'val_acc': [0.2708333333333333, 0.2621527777777778, 0.2916666666666667, 0.2708333333333333, 0.34375, 0.3993055555555556, 0.6267361111111112, 0.7725694444444444, 0.8645833333333334, 0.8993055555555556, 0.9270833333333334, 0.9201388888888888, 0.8923611111111112, 0.8524305555555556, 0.8368055555555556, 0.8472222222222222, 0.890625, 0.9357638888888888, 0.9288194444444444, 0.8402777777777778, 0.8958333333333334, 0.859375, 0.8802083333333334, 0.8663194444444444, 0.8888888888888888, 0.8784722222222222, 0.8871527777777778, 0.8993055555555556, 0.8993055555555556, 0.9027777777777778, 0.9149305555555556, 0.9201388888888888, 0.9288194444444444, 0.9322916666666666, 0.9375, 0.9392361111111112, 0.9392361111111112, 0.9392361111111112, 0.9392361111111112, 0.9444444444444444], 'val_precision_m': [0.7777777247958713, 0.6666666136847602, 0.9999999602635702, 0.6666666401757134, 1.0, 1.0, 1.0, 1.0, 0.9896788862016466, 0.9800840351316664, 0.9577834142578973, 0.9253620041741265, 0.8828636871443855, 0.8381931516859267, 0.8237838480207655, 0.8331725200017294, 0.8759167922867669, 0.9542883369657729, 0.9231617384486728, 0.8270216517978244, 0.8848702311515808, 0.8453352318869697, 0.8673194448153178, 0.8519556058777703, 0.876139846112993, 0.8655237091912164, 0.8745164672533671, 0.8866255349583096, 0.8865324589941237, 0.8901528716087341, 0.9034984045558505, 0.9107154674000211, 0.9207281735208299, 0.9246589475207858, 0.9307317733764648, 0.9351190328598022, 0.9351190328598022, 0.9347863329781426, 0.9367439481947157, 0.9433555603027344], 'val_recall_m': [0.03505327097243733, 0.023582796876629192, 0.06232266914513376, 0.03467163609133826, 0.13204435921377605, 0.2054173962937461, 0.5070565905835893, 0.6993283364507887, 0.8286066518889533, 0.8845173120498657, 0.9445660379197862, 0.9723965260717604, 0.9883442984686958, 0.997474749883016, 0.997474749883016, 0.997474749883016, 0.9951106839709811, 0.9601879980829027, 0.9881407287385728, 0.997474749883016, 0.99060986439387, 0.9953379962179396, 0.9929739303059049, 0.9951106839709811, 0.9929739303059049, 0.9929739303059049, 0.9929739303059049, 0.9929739303059049, 0.9929739303059049, 0.9929739303059049, 0.9929739303059049, 0.99060986439387, 0.99060986439387, 0.99060986439387, 0.99060986439387, 0.9882457984818352, 0.9882457984818352, 0.9882457984818352, 0.9858817325698005, 0.9858817325698005], 'val_f1_m': [0.06548042222857475, 0.04488713749580913, 0.1148724572526084, 0.06501366115278667, 0.22919100688563454, 0.33734358019298977, 0.6715540885925293, 0.8217954966757033, 0.900898728105757, 0.9292116694980197, 0.9507937894927131, 0.9478015104929606, 0.9318858053949144, 0.9099993705749512, 0.9013355374336243, 0.9069400959544711, 0.9312517378065321, 0.9567530817455716, 0.9541723198360867, 0.9032867219712999, 0.9342143403159248, 0.9134514596727159, 0.9252626763449775, 0.9173179202609592, 0.9303806556595696, 0.9242473840713501, 0.9293905629052056, 0.9364258646965027, 0.9363875256644355, 0.938436918788486, 0.9457855224609375, 0.9487358662817214, 0.9541400869687399, 0.9561937981181674, 0.9594684839248657, 0.9605138765441047, 0.9605138765441047, 0.9603882630666097, 0.9602067470550537, 0.9636129405763414], 'loss': [1.786731047289712, 0.42107888204710825, 0.2901757040194103, 0.2611738975558962, 0.2312566020659038, 0.20095753243991307, 0.178521956716265, 0.1581317526953561, 0.14212319999933243, 0.12827539976154054, 0.10739909218890327, 0.09218436053821019, 0.07925266133887428, 0.06465841404029302, 0.05268002354672977, 0.0466533148927348, 0.0417823562664645, 0.03832318314484188, 0.04768896608480385, 0.03850741271993944, 0.02526744215616158, 0.01627059294176953, 0.012954268604516983, 0.01036506159497159, 0.008416982567203897, 0.008378210144915752, 0.006934075283684901, 0.006035497012947287, 0.005472829631928887, 0.006398500209408147, 0.005145993682422808, 0.005077357403934002, 0.004290014372340271, 0.004482459310176117, 0.004488660554800715, 0.00442898236880345, 0.0042196012966867, 0.004303282392876489, 0.004351582710764238, 0.003676148663674082], 'acc': [0.6918576274599347, 0.8478790777070182, 0.8781082459858486, 0.8966357793126788, 0.9127254996980939, 0.924183326108115, 0.9300341265542167, 0.9449049319539752, 0.9490492429052081, 0.9529497708593097, 0.9653827462877546, 0.9719648957252502, 0.9763529896736145, 0.9831789306231907, 0.9890297480991909, 0.9885421735899789, 0.9882983991077968, 0.9900048800877163, 0.9846416456358773, 0.9873232671192714, 0.9948805570602417, 0.9982935190200806, 0.9985373020172119, 0.9990248680114746, 0.9997562170028687, 0.9997562170028687, 1.0, 1.0, 0.9997562170028687, 0.9997562170028687, 1.0, 1.0, 1.0, 0.9997562170028687, 1.0, 1.0, 1.0, 1.0, 1.0, 1.0], 'precision_m': [0.7909272909164429, 0.8951591423579625, 0.9241515738623483, 0.9244131531034198, 0.93834730557033, 0.949481759752546, 0.9540327702249799, 0.9608358825956073, 0.9645321454320636, 0.965990458215986, 0.9738812446594238, 0.9788092459951129, 0.9812262313706535, 0.9842433929443359, 0.9904061896460397, 0.9900810377938407, 0.991980390889304, 0.9893729090690613, 0.9869150774819511, 0.9939099465097699, 0.9957234689167568, 0.9976640088217599, 0.9989738123757499, 0.9990128534180778, 0.9996549316814968, 1.0, 1.0, 1.0, 0.9996745841843742, 1.0, 1.0, 1.0, 1.0, 0.9996614796774728, 1.0, 1.0, 1.0, 1.0, 1.0, 1.0], 'recall_m': [0.8033670708537102, 0.9027989421572004, 0.9087366717202323, 0.9380044511386326, 0.9435555594308036, 0.947404716696058, 0.9507210680416652, 0.9647674305098397, 0.9664146559579032, 0.9702834912708828, 0.9791497588157654, 0.9831405707768032, 0.9867607866014753, 0.9930483017648969, 0.9947447861943927, 0.9944012846265521, 0.9921262264251709, 0.9970396927424839, 0.9924897125789097, 0.9889941045216152, 0.9973387803350177, 1.0, 0.9990112015179226, 0.9996540972164699, 1.0, 0.9996708376067025, 1.0, 1.0, 1.0, 0.9996708376067025, 1.0, 1.0, 1.0, 1.0, 1.0, 1.0, 1.0, 1.0, 1.0, 1.0], 'f1_m': [0.7488109533275876, 0.8970898900713239, 0.9162272981234959, 0.9302573204040527, 0.9407596162387303, 0.9483244333948407, 0.952287529196058, 0.9625877908297947, 0.9653811369623456, 0.9680531620979309, 0.9764854311943054, 0.9809477414403643, 0.9839464426040649, 0.9886104549680438, 0.9925639288766044, 0.9922230499131339, 0.9920307653290885, 0.9931650757789612, 0.9896022166524615, 0.9913477301597595, 0.9965253898075649, 0.9988298330988202, 0.9989908678191048, 0.9993326578821454, 0.9998272487095424, 0.999835227216993, 1.0, 1.0, 0.9998371005058289, 0.999835227216993, 1.0, 1.0, 1.0, 0.9998305269650051, 1.0, 1.0, 1.0, 1.0, 1.0, 1.0], 'lr': [0.001, 0.001, 0.001, 0.001, 0.001, 0.001, 0.001, 0.001, 0.001, 0.001, 0.001, 0.001, 0.001, 0.00080000004, 0.00080000004, 0.00064000004, 0.00064000004, 0.00051200006, 0.00051200006, 0.00051200006, 0.00040960003, 0.00040960003, 0.00032768003, 0.00032768003, 0.00026214402, 0.00026214402, 0.00020971522, 0.00020971522, 0.00016777217, 0.00016777217, 0.00013421774, 0.00013421774, 0.000107374195, 0.000107374195, 8.589936e-05, 8.589936e-05, 8.589936e-05, 8.589936e-05, 6.8719484e-05, 6.8719484e-05]}\n"
          ]
        }
      ]
    },
    {
      "cell_type": "markdown",
      "metadata": {
        "id": "i2soOKFq1ctk"
      },
      "source": [
        "# Evaluation on testing set "
      ]
    },
    {
      "cell_type": "code",
      "source": [
        "len(df_test),len(df_val),len(df_train)"
      ],
      "metadata": {
        "id": "PKGUVWA8276l",
        "colab": {
          "base_uri": "https://localhost:8080/"
        },
        "outputId": "c932bcb1-d31f-4134-82e8-2e03b662853e"
      },
      "execution_count": null,
      "outputs": [
        {
          "output_type": "execute_result",
          "data": {
            "text/plain": [
              "(586, 586, 4684)"
            ]
          },
          "metadata": {},
          "execution_count": 53
        }
      ]
    },
    {
      "cell_type": "code",
      "metadata": {
        "id": "-npqPviY0Bkr",
        "colab": {
          "base_uri": "https://localhost:8080/"
        },
        "outputId": "766bebad-a174-448b-e1b7-cafa3b2c961d"
      },
      "source": [
        "\n",
        "loss, accuracy,  precision, recall,f1_score = model.evaluate_generator(batch_generator(df_test[:586], 586,len(df_test[:586])//586),steps=len(df_test[:586])//586,verbose=1)"
      ],
      "execution_count": null,
      "outputs": [
        {
          "output_type": "stream",
          "name": "stdout",
          "text": [
            "\r1/1 [==============================] - 11s 11s/step\n"
          ]
        }
      ]
    },
    {
      "cell_type": "code",
      "source": [
        "print(model.evaluate_generator(batch_generator(df_test[:586], 586,len(df_test[:586])//586),steps=len(df_test[:586])//586,verbose=1))"
      ],
      "metadata": {
        "id": "ad0UcLKvDKAQ",
        "colab": {
          "base_uri": "https://localhost:8080/"
        },
        "outputId": "22cb711e-7636-458f-e6ab-dff9c223de34"
      },
      "execution_count": null,
      "outputs": [
        {
          "output_type": "stream",
          "name": "stdout",
          "text": [
            "\r1/1 [==============================] - 21s 21s/step\n",
            "[0.3278338313102722, 0.9112628102302551, 0.9078341126441956, 0.9704433679580688, 0.938095211982727]\n"
          ]
        }
      ]
    },
    {
      "cell_type": "code",
      "source": [
        "print(model.evaluate_generator(batch_generator(df_train[:586], 586,len(df_train[:586])//586),steps=len(df_train[:586])//586,verbose=1))"
      ],
      "metadata": {
        "id": "BaBQkFP-DaaP",
        "colab": {
          "base_uri": "https://localhost:8080/"
        },
        "outputId": "9601eefa-5fe0-465b-d180-61f2e6a1a31c"
      },
      "execution_count": null,
      "outputs": [
        {
          "output_type": "stream",
          "name": "stdout",
          "text": [
            "\r1/1 [==============================] - 11s 11s/step\n",
            "[0.02323894016444683, 0.9914675951004028, 0.9887892603874207, 1.0, 0.994363009929657]\n"
          ]
        }
      ]
    },
    {
      "cell_type": "code",
      "source": [
        "print(model.evaluate_generator(batch_generator(df_val[:586], 586,len(df_val[:856])//586),steps=len(df_val[:586])//586,verbose=1))"
      ],
      "metadata": {
        "id": "hb4w1uOIE-DX",
        "colab": {
          "base_uri": "https://localhost:8080/"
        },
        "outputId": "be9f6234-7845-4e91-f30c-598a04519f32"
      },
      "execution_count": null,
      "outputs": [
        {
          "output_type": "stream",
          "name": "stdout",
          "text": [
            "\r1/1 [==============================] - 7s 7s/step\n",
            "[0.2222186177968979, 0.9453924894332886, 0.9436008930206299, 0.9863945841789246, 0.9645233154296875]\n"
          ]
        }
      ]
    },
    {
      "cell_type": "code",
      "source": [
        "help(model.evaluate_generator)"
      ],
      "metadata": {
        "id": "1xkZBtt8Ga43"
      },
      "execution_count": null,
      "outputs": []
    },
    {
      "cell_type": "markdown",
      "metadata": {
        "id": "4rapfUmhiyFQ"
      },
      "source": [
        "### **The performance metrics**"
      ]
    },
    {
      "cell_type": "code",
      "metadata": {
        "id": "w6VOqcdlrKXT",
        "colab": {
          "base_uri": "https://localhost:8080/"
        },
        "outputId": "80297b82-3ca1-40b8-f1ab-b5d8d067f6ab"
      },
      "source": [
        "from sklearn.metrics import confusion_matrix\n",
        "\n",
        "y_pred=model.predict_generator(batch_generator(df_test[:586], 586,len(df_test[:586])//586),steps=len(df_test[:586])//586,verbose=1)\n",
        "\n",
        "y_true=df_test[:586].labels\n",
        "array=confusion_matrix(y_true, (1.2*y_pred).round(),normalize=\"true\")"
      ],
      "execution_count": null,
      "outputs": [
        {
          "output_type": "stream",
          "name": "stdout",
          "text": [
            "\r1/1 [==============================] - 8s 8s/step\n"
          ]
        }
      ]
    },
    {
      "cell_type": "code",
      "source": [
        "from sklearn.datasets import make_circles\n",
        "from sklearn.metrics import accuracy_score\n",
        "from sklearn.metrics import precision_score\n",
        "from sklearn.metrics import recall_score\n",
        "from sklearn.metrics import f1_score\n",
        "from sklearn.metrics import cohen_kappa_score\n",
        "from sklearn.metrics import roc_auc_score\n",
        "from sklearn.metrics import confusion_matrix\n",
        "from keras.models import Sequential\n",
        "from keras.layers import Dense"
      ],
      "metadata": {
        "id": "YWEy-dGoH7cV"
      },
      "execution_count": null,
      "outputs": []
    },
    {
      "cell_type": "code",
      "source": [
        "accuracy = accuracy_score(y_true, (1.2*y_pred).round())"
      ],
      "metadata": {
        "id": "5puhANpbHwLt"
      },
      "execution_count": null,
      "outputs": []
    },
    {
      "cell_type": "code",
      "source": [
        "import sklearn.metrics as metrics"
      ],
      "metadata": {
        "id": "j5k7h0SInFOU"
      },
      "execution_count": null,
      "outputs": []
    },
    {
      "cell_type": "code",
      "source": [
        "print(metrics.accuracy_score(y_true, (1.2*y_pred).round()))"
      ],
      "metadata": {
        "id": "D390ZWCFKRZc",
        "colab": {
          "base_uri": "https://localhost:8080/"
        },
        "outputId": "cfb17325-7ab7-4d5e-e253-d29a962a1e5f"
      },
      "execution_count": null,
      "outputs": [
        {
          "output_type": "stream",
          "name": "stdout",
          "text": [
            "0.9044368600682594\n"
          ]
        }
      ]
    },
    {
      "cell_type": "code",
      "source": [
        "import numpy as np\n",
        "import pandas as pd\n",
        "import seaborn as sns\n",
        "import matplotlib.pyplot as plt\n",
        "\n",
        "# machine learning libraries\n",
        "\n",
        "import statsmodels.api as sm\n",
        "from sklearn.model_selection import train_test_split\n",
        "from sklearn.preprocessing import StandardScaler\n",
        "from sklearn.linear_model import LogisticRegression\n",
        "from statsmodels.stats.outliers_influence import variance_inflation_factor\n",
        "from sklearn.feature_selection import RFE\n",
        "from sklearn.metrics import confusion_matrix\n",
        "\n",
        "from sklearn.metrics import roc_curve,roc_auc_score\n",
        "\n",
        "import warnings\n",
        "warnings.filterwarnings('ignore')"
      ],
      "metadata": {
        "id": "3DabFXjfLgJD"
      },
      "execution_count": null,
      "outputs": []
    },
    {
      "cell_type": "code",
      "source": [
        "# # Let's plot accuracy sensitivity and specificity for various probabilities.\n",
        "\n",
        "\n",
        "import matplotlib.pyplot as plt\n",
        "\n",
        "\n",
        "cutoff_df = pd.DataFrame( columns = ['Probability','Accuracy','Sensitivity','Specificity'])\n",
        "plt.savefig('ss')\n",
        "plt.show()\n"
      ],
      "metadata": {
        "id": "Dewbpm0cLzxK",
        "colab": {
          "base_uri": "https://localhost:8080/",
          "height": 35
        },
        "outputId": "657ba20c-19e3-4a3d-dbfe-e9d558ee53af"
      },
      "execution_count": null,
      "outputs": [
        {
          "output_type": "display_data",
          "data": {
            "text/plain": [
              "<Figure size 432x288 with 0 Axes>"
            ]
          },
          "metadata": {}
        }
      ]
    },
    {
      "cell_type": "code",
      "metadata": {
        "id": "MmEE2CXl3Ug9",
        "colab": {
          "base_uri": "https://localhost:8080/",
          "height": 273
        },
        "outputId": "3cf98ac8-fc93-469e-ff32-7dc32730b783"
      },
      "source": [
        "import seaborn as sn\n",
        "\n",
        "df_cm = pd.DataFrame(array, range(2), range(2))\n",
        "# plt.figure(figsize=(10,7))\n",
        "sn.set(font_scale=1.4) # for label size\n",
        "sn.heatmap(df_cm, annot=True, annot_kws={\"size\": 16}) # font size\n",
        "plt.savefig(\"conf\")\n",
        "plt.show()"
      ],
      "execution_count": null,
      "outputs": [
        {
          "output_type": "display_data",
          "data": {
            "text/plain": [
              "<Figure size 432x288 with 2 Axes>"
            ],
            "image/png": "[encoded data removed]"
          },
          "metadata": {}
        }
      ]
    },
    {
      "cell_type": "code",
      "source": [
        "df_cm"
      ],
      "metadata": {
        "id": "pFSLNMoPG8KP",
        "colab": {
          "base_uri": "https://localhost:8080/",
          "height": 112
        },
        "outputId": "a8d9bd28-79ab-49fc-ffae-1b4a0df545e6"
      },
      "execution_count": null,
      "outputs": [
        {
          "output_type": "execute_result",
          "data": {
            "text/plain": [
              "          0         1\n",
              "0  0.744444  0.255556\n",
              "1  0.024631  0.975369"
            ],
            "text/html": [
              "\n",
              "  <div id=\"df-36f6e283-cd5f-4e40-9846-cd54754a55d1\">\n",
              "    <div class=\"colab-df-container\">\n",
              "      <div>\n",
              "<style scoped>\n",
              "    .dataframe tbody tr th:only-of-type {\n",
              "        vertical-align: middle;\n",
              "    }\n",
              "\n",
              "    .dataframe tbody tr th {\n",
              "        vertical-align: top;\n",
              "    }\n",
              "\n",
              "    .dataframe thead th {\n",
              "        text-align: right;\n",
              "    }\n",
              "</style>\n",
              "<table border=\"1\" class=\"dataframe\">\n",
              "  <thead>\n",
              "    <tr style=\"text-align: right;\">\n",
              "      <th></th>\n",
              "      <th>0</th>\n",
              "      <th>1</th>\n",
              "    </tr>\n",
              "  </thead>\n",
              "  <tbody>\n",
              "    <tr>\n",
              "      <th>0</th>\n",
              "      <td>0.744444</td>\n",
              "      <td>0.255556</td>\n",
              "    </tr>\n",
              "    <tr>\n",
              "      <th>1</th>\n",
              "      <td>0.024631</td>\n",
              "      <td>0.975369</td>\n",
              "    </tr>\n",
              "  </tbody>\n",
              "</table>\n",
              "</div>\n",
              "      <button class=\"colab-df-convert\" onclick=\"convertToInteractive('df-36f6e283-cd5f-4e40-9846-cd54754a55d1')\"\n",
              "              title=\"Convert this dataframe to an interactive table.\"\n",
              "              style=\"display:none;\">\n",
              "        \n",
              "  <svg xmlns=\"http://www.w3.org/2000/svg\" height=\"24px\"viewBox=\"0 0 24 24\"\n",
              "       width=\"24px\">\n",
              "    <path d=\"M0 0h24v24H0V0z\" fill=\"none\"/>\n",
              "    <path d=\"M18.56 5.44l.94 2.06.94-2.06 2.06-.94-2.06-.94-.94-2.06-.94 2.06-2.06.94zm-11 1L8.5 8.5l.94-2.06 2.06-.94-2.06-.94L8.5 2.5l-.94 2.06-2.06.94zm10 10l.94 2.06.94-2.06 2.06-.94-2.06-.94-.94-2.06-.94 2.06-2.06.94z\"/><path d=\"M17.41 7.96l-1.37-1.37c-.4-.4-.92-.59-1.43-.59-.52 0-1.04.2-1.43.59L10.3 9.45l-7.72 7.72c-.78.78-.78 2.05 0 2.83L4 21.41c.39.39.9.59 1.41.59.51 0 1.02-.2 1.41-.59l7.78-7.78 2.81-2.81c.8-.78.8-2.07 0-2.86zM5.41 20L4 18.59l7.72-7.72 1.47 1.35L5.41 20z\"/>\n",
              "  </svg>\n",
              "      </button>\n",
              "      \n",
              "  <style>\n",
              "    .colab-df-container {\n",
              "      display:flex;\n",
              "      flex-wrap:wrap;\n",
              "      gap: 12px;\n",
              "    }\n",
              "\n",
              "    .colab-df-convert {\n",
              "      background-color: #E8F0FE;\n",
              "      border: none;\n",
              "      border-radius: 50%;\n",
              "      cursor: pointer;\n",
              "      display: none;\n",
              "      fill: #1967D2;\n",
              "      height: 32px;\n",
              "      padding: 0 0 0 0;\n",
              "      width: 32px;\n",
              "    }\n",
              "\n",
              "    .colab-df-convert:hover {\n",
              "      background-color: #E2EBFA;\n",
              "      box-shadow: 0px 1px 2px rgba(60, 64, 67, 0.3), 0px 1px 3px 1px rgba(60, 64, 67, 0.15);\n",
              "      fill: #174EA6;\n",
              "    }\n",
              "\n",
              "    [theme=dark] .colab-df-convert {\n",
              "      background-color: #3B4455;\n",
              "      fill: #D2E3FC;\n",
              "    }\n",
              "\n",
              "    [theme=dark] .colab-df-convert:hover {\n",
              "      background-color: #434B5C;\n",
              "      box-shadow: 0px 1px 3px 1px rgba(0, 0, 0, 0.15);\n",
              "      filter: drop-shadow(0px 1px 2px rgba(0, 0, 0, 0.3));\n",
              "      fill: #FFFFFF;\n",
              "    }\n",
              "  </style>\n",
              "\n",
              "      <script>\n",
              "        const buttonEl =\n",
              "          document.querySelector('#df-36f6e283-cd5f-4e40-9846-cd54754a55d1 button.colab-df-convert');\n",
              "        buttonEl.style.display =\n",
              "          google.colab.kernel.accessAllowed ? 'block' : 'none';\n",
              "\n",
              "        async function convertToInteractive(key) {\n",
              "          const element = document.querySelector('#df-36f6e283-cd5f-4e40-9846-cd54754a55d1');\n",
              "          const dataTable =\n",
              "            await google.colab.kernel.invokeFunction('convertToInteractive',\n",
              "                                                     [key], {});\n",
              "          if (!dataTable) return;\n",
              "\n",
              "          const docLinkHtml = 'Like what you see? Visit the ' +\n",
              "            '<a target=\"_blank\" href=https://colab.research.google.com/notebooks/data_table.ipynb>data table notebook</a>'\n",
              "            + ' to learn more about interactive tables.';\n",
              "          element.innerHTML = '';\n",
              "          dataTable['output_type'] = 'display_data';\n",
              "          await google.colab.output.renderOutput(dataTable, element);\n",
              "          const docLink = document.createElement('div');\n",
              "          docLink.innerHTML = docLinkHtml;\n",
              "          element.appendChild(docLink);\n",
              "        }\n",
              "      </script>\n",
              "    </div>\n",
              "  </div>\n",
              "  "
            ]
          },
          "metadata": {},
          "execution_count": 106
        }
      ]
    },
    {
      "cell_type": "code",
      "source": [
        "help(model.predict_generator)"
      ],
      "metadata": {
        "id": "ZZ4PVR5fGrq-",
        "colab": {
          "base_uri": "https://localhost:8080/"
        },
        "outputId": "6639e571-d079-4aae-c53b-6a10332dfcc9"
      },
      "execution_count": null,
      "outputs": [
        {
          "output_type": "stream",
          "name": "stdout",
          "text": [
            "Help on method predict_generator in module keras.engine.training:\n",
            "\n",
            "predict_generator(generator, steps=None, max_queue_size=10, workers=1, use_multiprocessing=False, verbose=0) method of keras.engine.training.Model instance\n",
            "    Generates predictions for the input samples from a data generator.\n",
            "    \n",
            "    The generator should return the same kind of data as accepted by\n",
            "    `predict_on_batch`.\n",
            "    \n",
            "    # Arguments\n",
            "        generator: Generator yielding batches of input samples\n",
            "            or an instance of Sequence (keras.utils.Sequence)\n",
            "            object in order to avoid duplicate data\n",
            "            when using multiprocessing.\n",
            "        steps: Total number of steps (batches of samples)\n",
            "            to yield from `generator` before stopping.\n",
            "            Optional for `Sequence`: if unspecified, will use\n",
            "            the `len(generator)` as a number of steps.\n",
            "        max_queue_size: Maximum size for the generator queue.\n",
            "        workers: Integer. Maximum number of processes to spin up\n",
            "            when using process based threading.\n",
            "            If unspecified, `workers` will default to 1. If 0, will\n",
            "            execute the generator on the main thread.\n",
            "        use_multiprocessing: If `True`, use process based threading.\n",
            "            Note that because\n",
            "            this implementation relies on multiprocessing,\n",
            "            you should not pass\n",
            "            non picklable arguments to the generator\n",
            "            as they can't be passed\n",
            "            easily to children processes.\n",
            "        verbose: verbosity mode, 0 or 1.\n",
            "    \n",
            "    # Returns\n",
            "        Numpy array(s) of predictions.\n",
            "    \n",
            "    # Raises\n",
            "        ValueError: In case the generator yields\n",
            "            data in an invalid format.\n",
            "\n"
          ]
        }
      ]
    },
    {
      "cell_type": "code",
      "metadata": {
        "id": "swe1iFPErQtI"
      },
      "source": [
        "tn, fp, fn, tp =array.ravel()"
      ],
      "execution_count": null,
      "outputs": []
    },
    {
      "cell_type": "code",
      "metadata": {
        "id": "-SKGwcHovcj6"
      },
      "source": [
        "specificity =tn / (tn + fp)"
      ],
      "execution_count": null,
      "outputs": []
    },
    {
      "cell_type": "code",
      "metadata": {
        "id": "qjdK3Ad8vukt",
        "colab": {
          "base_uri": "https://localhost:8080/"
        },
        "outputId": "73c59c08-bb92-4726-ff3f-ccee86e95d79"
      },
      "source": [
        "specificity"
      ],
      "execution_count": null,
      "outputs": [
        {
          "output_type": "execute_result",
          "data": {
            "text/plain": [
              "0.7444444444444445"
            ]
          },
          "metadata": {},
          "execution_count": 114
        }
      ]
    },
    {
      "cell_type": "code",
      "metadata": {
        "id": "kPQP8Rk71N1v"
      },
      "source": [
        "from sklearn.metrics import roc_curve\n",
        "from sklearn.metrics import roc_auc_score"
      ],
      "execution_count": null,
      "outputs": []
    },
    {
      "cell_type": "code",
      "metadata": {
        "id": "Miq1KLPhU2BA"
      },
      "source": [
        "model.save_weights('mymodel_weights')"
      ],
      "execution_count": null,
      "outputs": []
    },
    {
      "cell_type": "code",
      "source": [
        "i=1\n",
        "for x in model.layers:\n",
        "  print(i,x)\n",
        "  i=i+1"
      ],
      "metadata": {
        "id": "pTHb7m-XrNNl",
        "colab": {
          "base_uri": "https://localhost:8080/"
        },
        "outputId": "1e7b995a-0a26-45de-ecd8-407003e54e33"
      },
      "execution_count": null,
      "outputs": [
        {
          "output_type": "stream",
          "name": "stdout",
          "text": [
            "1 <keras.engine.input_layer.InputLayer object at 0x7fe4eee018d0>\n",
            "2 <complexnn.conv.QuaternionConv2D object at 0x7fe4eee017d0>\n",
            "3 <keras.layers.normalization.BatchNormalization object at 0x7fe4eee01350>\n",
            "4 <keras.layers.advanced_activations.ReLU object at 0x7fe4ef664110>\n",
            "5 <__main__.ChannelAttention object at 0x7fe4eee1aa90>\n",
            "6 <__main__.SpatialAttention object at 0x7fe4eee1f210>\n",
            "7 <keras.layers.pooling.MaxPooling2D object at 0x7fe4eee1f250>\n",
            "8 <complexnn.conv.QuaternionConv2D object at 0x7fe4e01ca2d0>\n",
            "9 <keras.layers.normalization.BatchNormalization object at 0x7fe4e021af50>\n",
            "10 <keras.layers.advanced_activations.ELU object at 0x7fe4ef664a10>\n",
            "11 <complexnn.conv.QuaternionConv2D object at 0x7fe4e01f1f50>\n",
            "12 <keras.layers.normalization.BatchNormalization object at 0x7fe4e01a6950>\n",
            "13 <keras.layers.advanced_activations.ELU object at 0x7fe4e01a6510>\n",
            "14 <complexnn.conv.QuaternionConv2D object at 0x7fe4e0172450>\n",
            "15 <complexnn.conv.QuaternionConv2D object at 0x7fe4e00d0ed0>\n",
            "16 <keras.layers.normalization.BatchNormalization object at 0x7fe4e0108990>\n",
            "17 <keras.layers.normalization.BatchNormalization object at 0x7fe4e00e9f10>\n",
            "18 <keras.layers.advanced_activations.ELU object at 0x7fe4e0108e90>\n",
            "19 <keras.layers.merge.Add object at 0x7fe4e00803d0>\n",
            "20 <keras.layers.advanced_activations.ReLU object at 0x7fe4e00b4450>\n",
            "21 <keras.layers.pooling.MaxPooling2D object at 0x7fe4e00b4790>\n",
            "22 <__main__.ChannelAttention object at 0x7fe4e00525d0>\n",
            "23 <__main__.SpatialAttention object at 0x7fe4e0052710>\n",
            "24 <complexnn.conv.QuaternionConv2D object at 0x7fe4e006b550>\n",
            "25 <keras.layers.normalization.BatchNormalization object at 0x7fe4e0079090>\n",
            "26 <keras.layers.advanced_activations.ELU object at 0x7fe4e0079690>\n",
            "27 <complexnn.conv.QuaternionConv2D object at 0x7fe492772a10>\n",
            "28 <keras.layers.normalization.BatchNormalization object at 0x7fe49278a550>\n",
            "29 <keras.layers.advanced_activations.ELU object at 0x7fe49278aa10>\n",
            "30 <complexnn.conv.QuaternionConv2D object at 0x7fe49274f610>\n",
            "31 <complexnn.conv.QuaternionConv2D object at 0x7fe4926e9990>\n",
            "32 <keras.layers.normalization.BatchNormalization object at 0x7fe4926f0790>\n",
            "33 <keras.layers.normalization.BatchNormalization object at 0x7fe492651a10>\n",
            "34 <keras.layers.advanced_activations.ELU object at 0x7fe4926b4f50>\n",
            "35 <keras.layers.merge.Add object at 0x7fe4926519d0>\n",
            "36 <keras.layers.advanced_activations.ReLU object at 0x7fe49261b890>\n",
            "37 <keras.layers.pooling.MaxPooling2D object at 0x7fe492622690>\n",
            "38 <__main__.ChannelAttention object at 0x7fe4925d3f90>\n",
            "39 <__main__.SpatialAttention object at 0x7fe4925d3c50>\n",
            "40 <complexnn.conv.QuaternionConv2D object at 0x7fe49264d190>\n",
            "41 <keras.layers.normalization.BatchNormalization object at 0x7fe4925df610>\n",
            "42 <keras.layers.advanced_activations.ELU object at 0x7fe4925ff810>\n",
            "43 <complexnn.conv.QuaternionConv2D object at 0x7fe4926057d0>\n",
            "44 <keras.layers.normalization.BatchNormalization object at 0x7fe49259cdd0>\n",
            "45 <keras.layers.advanced_activations.ELU object at 0x7fe49259c1d0>\n",
            "46 <complexnn.conv.QuaternionConv2D object at 0x7fe492566850>\n",
            "47 <complexnn.conv.QuaternionConv2D object at 0x7fe49254bb10>\n",
            "48 <keras.layers.normalization.BatchNormalization object at 0x7fe49257cc10>\n",
            "49 <keras.layers.normalization.BatchNormalization object at 0x7fe4924e2e90>\n",
            "50 <keras.layers.advanced_activations.ELU object at 0x7fe49257ccd0>\n",
            "51 <keras.layers.merge.Add object at 0x7fe4924e2ad0>\n",
            "52 <keras.layers.advanced_activations.ReLU object at 0x7fe4924aec50>\n",
            "53 <keras.layers.pooling.MaxPooling2D object at 0x7fe4924b4d10>\n",
            "54 <__main__.ChannelAttention object at 0x7fe49246c450>\n",
            "55 <__main__.SpatialAttention object at 0x7fe49246c4d0>\n",
            "56 <complexnn.conv.QuaternionConv2D object at 0x7fe49246c550>\n",
            "57 <keras.layers.normalization.BatchNormalization object at 0x7fe492472ad0>\n",
            "58 <keras.layers.advanced_activations.ELU object at 0x7fe492472d90>\n",
            "59 <complexnn.conv.QuaternionConv2D object at 0x7fe492419a90>\n",
            "60 <keras.layers.normalization.BatchNormalization object at 0x7fe4924319d0>\n",
            "61 <keras.layers.advanced_activations.ELU object at 0x7fe492431f90>\n",
            "62 <complexnn.conv.QuaternionConv2D object at 0x7fe492400810>\n",
            "63 <complexnn.conv.QuaternionConv2D object at 0x7fe492363790>\n",
            "64 <keras.layers.normalization.BatchNormalization object at 0x7fe492398750>\n",
            "65 <keras.layers.normalization.BatchNormalization object at 0x7fe4923793d0>\n",
            "66 <keras.layers.advanced_activations.ELU object at 0x7fe492398e10>\n",
            "67 <keras.layers.merge.Add object at 0x7fe492374dd0>\n",
            "68 <keras.layers.advanced_activations.ReLU object at 0x7fe492347990>\n",
            "69 <keras.layers.pooling.MaxPooling2D object at 0x7fe49234d390>\n",
            "70 <__main__.ChannelAttention object at 0x7fe4922ffb10>\n",
            "71 <__main__.SpatialAttention object at 0x7fe4922ff890>\n",
            "72 <keras.layers.pooling.GlobalAveragePooling2D object at 0x7fe4922ff990>\n",
            "73 <keras.layers.core.Dense object at 0x7fe492306dd0>\n",
            "74 <keras.layers.core.Dropout object at 0x7fe49230c7d0>\n",
            "75 <keras.layers.core.Dense object at 0x7fe49230c490>\n"
          ]
        }
      ]
    },
    {
      "cell_type": "code",
      "source": [
        "from keras.models import Sequential\n",
        "from keras.layers import Dense\n",
        "from keras.utils.vis_utils import plot_model\n",
        "\n",
        "plot_model(model, to_file='model_plot.png', show_shapes=True, show_layer_names=True)"
      ],
      "metadata": {
        "id": "KZmhwqQ4rXUT"
      },
      "execution_count": null,
      "outputs": []
    },
    {
      "cell_type": "code",
      "source": [
        "len(model.layers)"
      ],
      "metadata": {
        "id": "zF_Z4dHg7uwJ",
        "colab": {
          "base_uri": "https://localhost:8080/"
        },
        "outputId": "f5a2987c-c792-4fb3-803a-e7611423246b"
      },
      "execution_count": null,
      "outputs": [
        {
          "output_type": "execute_result",
          "data": {
            "text/plain": [
              "75"
            ]
          },
          "metadata": {},
          "execution_count": 120
        }
      ]
    },
    {
      "cell_type": "code",
      "source": [
        "import pandas as pd"
      ],
      "metadata": {
        "id": "KdZvpFNuwFzt"
      },
      "execution_count": null,
      "outputs": []
    },
    {
      "cell_type": "code",
      "source": [
        "# convert the history.history dict to a pandas DataFrame:     \n",
        "hist_df = pd.DataFrame(history.history) \n",
        "\n",
        "# save to json:  \n",
        "hist_json_file = 'history.json' \n",
        "with open(hist_json_file, mode='w') as f:\n",
        "    hist_df.to_json(f)\n",
        "\n",
        "# or save to csv: \n",
        "hist_csv_file = 'history.csv'\n",
        "with open(hist_csv_file, mode='w') as f:\n",
        "    hist_df.to_csv(f)"
      ],
      "metadata": {
        "id": "iOUHleKbwLC9"
      },
      "execution_count": null,
      "outputs": []
    },
    {
      "cell_type": "code",
      "source": [
        "from sklearn.metrics import confusion_matrix\n",
        "\n",
        "y_pred=model.predict_generator(batch_generator(df_val[:586], 586,len(df_val[:586])//586),steps=len(df_val[:586])//586,verbose=1)\n",
        "\n",
        "y_true=df_val[:586].labels\n",
        "array=confusion_matrix(y_true, (1.2*y_pred).round(),normalize=\"true\")"
      ],
      "metadata": {
        "colab": {
          "base_uri": "https://localhost:8080/"
        },
        "id": "sXaiWDcghUmw",
        "outputId": "7b017a4e-dddf-4a87-d74c-365a8541daf3"
      },
      "execution_count": null,
      "outputs": [
        {
          "output_type": "stream",
          "name": "stdout",
          "text": [
            "\r1/1 [==============================] - 7s 7s/step\n"
          ]
        }
      ]
    },
    {
      "cell_type": "code",
      "source": [
        "accuracy = accuracy_score(y_true, (1.2*y_pred).round())"
      ],
      "metadata": {
        "id": "V42ZMwMghoAt"
      },
      "execution_count": null,
      "outputs": []
    },
    {
      "cell_type": "code",
      "source": [
        "# accuracy: (tp + tn) / (p + n)\n",
        "accuracy = accuracy_score(y_true, (1.2*y_pred).round())\n",
        "print('Accuracy: %f' % accuracy)\n",
        "# precision tp / (tp + fp)\n",
        "precision = precision_score(y_true, (1.2*y_pred).round())\n",
        "print('Precision: %f' % precision)\n",
        "# recall: tp / (tp + fn)\n",
        "recall = recall_score(y_true, (1.2*y_pred).round())\n",
        "print('Recall: %f' % recall)\n",
        "# f1: 2 tp / (2 tp + fp + fn)\n",
        "f1 = f1_score(y_true, (1.2*y_pred).round())\n",
        "print('F1 score: %f' % f1)\n",
        " \n",
        "# kappa\n",
        "kappa = cohen_kappa_score(y_true, (1.2*y_pred).round())\n",
        "print('Cohens kappa: %f' % kappa)\n",
        "# ROC AUC\n",
        "auc = roc_auc_score(y_true, (1.2*y_pred).round())\n",
        "print('ROC AUC: %f' % auc)\n",
        "# confusion matrix\n",
        "matrix = confusion_matrix(y_true, (1.2*y_pred).round())\n",
        "print(matrix)"
      ],
      "metadata": {
        "colab": {
          "base_uri": "https://localhost:8080/"
        },
        "id": "z_B951uphtQB",
        "outputId": "119e77ff-f65f-4cc9-c515-5bd7f679c47a"
      },
      "execution_count": null,
      "outputs": [
        {
          "output_type": "stream",
          "name": "stdout",
          "text": [
            "Accuracy: 0.940273\n",
            "Precision: 0.935622\n",
            "Recall: 0.988662\n",
            "F1 score: 0.961411\n",
            "Cohens kappa: 0.829778\n",
            "ROC AUC: 0.890883\n",
            "[[115  30]\n",
            " [  5 436]]\n"
          ]
        }
      ]
    },
    {
      "cell_type": "code",
      "source": [
        "fpr, tpr, threshold = metrics.roc_curve(y_true, (1.2*y_pred).round())\n",
        "roc_auc = metrics.auc(fpr, tpr)\n",
        "\n",
        "plt.title('Receiver Operating Characteristic')\n",
        "plt.plot(fpr, tpr, 'b', label='AUC = %0.2f' % roc_auc)\n",
        "plt.legend(loc='lower right')\n",
        "plt.plot([0, 1], [0, 1], 'r--')\n",
        "plt.xlim([0, 1])\n",
        "plt.ylim([0, 1])\n",
        "plt.ylabel('True Positive Rate')\n",
        "plt.xlabel('False Positive Rate')\n",
        "plt.savefig('roc')\n",
        "plt.show()\n"
      ],
      "metadata": {
        "colab": {
          "base_uri": "https://localhost:8080/",
          "height": 315
        },
        "id": "IwI1vdtriE06",
        "outputId": "aeb0aca9-b981-4549-e346-a7a48e71f390"
      },
      "execution_count": null,
      "outputs": [
        {
          "output_type": "display_data",
          "data": {
            "text/plain": [
              "<Figure size 432x288 with 1 Axes>"
            ],
            "image/png": "[encoded data removed]"
          },
          "metadata": {}
        }
      ]
    }
  ]
}